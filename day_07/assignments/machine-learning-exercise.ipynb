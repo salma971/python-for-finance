{
 "cells": [
  {
   "cell_type": "markdown",
   "metadata": {
    "_uuid": "add8afd2a160f5a560366166d50654aea11c6e9c"
   },
   "source": [
    "# Exercises\n",
    "\n",
    "## Regression\n",
    "\n",
    "* [Linear Regression](#1.)\n",
    "* [Support Vector Regression](#2.)\n",
    "\n",
    "\n",
    "## Classification\n",
    "\n",
    "* [K-Nearest Neighbour (KNN) Classification](#3.)\n",
    "* [Support Vector Machine (SVM) Classification](#4.)\n",
    "\n",
    "\n",
    "## Clustering\n",
    "\n",
    "* [K-Means Clustering](#5.)\n",
    "\n",
    "\n",
    "## Other Content\n",
    "\n",
    "* [Principal Component Analysis (PCA)](#6.)"
   ]
  },
  {
   "cell_type": "markdown",
   "metadata": {
    "_uuid": "d2a2b8741de2060d6c0a4126cd764a5b7514d0ef"
   },
   "source": [
    "# Exercise 1: Regression\n",
    "<a class=\"anchor\" id=\"1.\"></a> \n",
    "## Linear Regression"
   ]
  },
  {
   "cell_type": "code",
   "execution_count": 41,
   "metadata": {
    "_cell_guid": "b1076dfc-b9ad-4769-8c92-a6c4dae69d19",
    "_uuid": "8f2839f25d086af736a60e9eeb907d3b93b6e0e5",
    "jupyter": {
     "outputs_hidden": true
    },
    "scrolled": true
   },
   "outputs": [],
   "source": [
    "# import library\n",
    "import numpy as np\n",
    "import pandas as pd\n",
    "from sklearn.linear_model import LinearRegression\n",
    "from sklearn.metrics import mean_squared_error, r2_score\n",
    "import matplotlib.pyplot as plt"
   ]
  },
  {
   "cell_type": "code",
   "execution_count": 3,
   "metadata": {},
   "outputs": [],
   "source": [
<<<<<<< HEAD
    "# import data linear-regression-datase.csv\n",
    "data = pd.read_csv('../data/linear-regression-dataset.csv')"
=======
    "# import data linear-regression-dataset.csv located in data folder"
>>>>>>> 8d5e9e7266d09c14f53f00ef3aa7b13b8bed2e0f
   ]
  },
  {
   "cell_type": "markdown",
   "metadata": {},
   "source": [
    "### 1. Print info and first 5 rows"
   ]
  },
  {
   "cell_type": "markdown",
   "metadata": {},
   "source": [
    "- Expected output:\n",
    "```python\n",
    ">>> <class 'pandas.core.frame.DataFrame'>\n",
    ">>> RangeIndex: 14 entries, 0 to 13\n",
    ">>> Data columns (total 2 columns):\n",
    ">>>  #   Column   Non-Null Count  Dtype  \n",
    ">>> ---  ------   --------------  -----  \n",
    ">>> 0   experience  14 non-null     float64\n",
    ">>> 1   salary      14 non-null     int64  \n",
    ">>> dtypes: float64(1), int64(1)\n",
    ">>> memory usage: 352.0 bytes\n",
    ">>> None\n",
    ">>>   experience  salary\n",
    ">>> 0      0.5  2500\n",
    ">>> 1      0.0  2250\n",
    ">>> 2      1.0  2750\n",
    ">>> 3      5.0  8000\n",
    ">>> 4      8.0  9000\n",
    "```"
   ]
  },
  {
   "cell_type": "code",
   "execution_count": 4,
   "metadata": {},
   "outputs": [
    {
     "name": "stdout",
     "output_type": "stream",
     "text": [
      "<class 'pandas.core.frame.DataFrame'>\n",
      "RangeIndex: 14 entries, 0 to 13\n",
      "Data columns (total 2 columns):\n",
      " #   Column      Non-Null Count  Dtype  \n",
      "---  ------      --------------  -----  \n",
      " 0   experience  14 non-null     float64\n",
      " 1   salary      14 non-null     int64  \n",
      "dtypes: float64(1), int64(1)\n",
      "memory usage: 352.0 bytes\n"
     ]
    }
   ],
   "source": [
    "# Your code here\n",
    "data.info()"
   ]
  },
  {
   "cell_type": "code",
   "execution_count": 5,
   "metadata": {},
   "outputs": [
    {
     "data": {
      "text/html": [
       "<div>\n",
       "<style scoped>\n",
       "    .dataframe tbody tr th:only-of-type {\n",
       "        vertical-align: middle;\n",
       "    }\n",
       "\n",
       "    .dataframe tbody tr th {\n",
       "        vertical-align: top;\n",
       "    }\n",
       "\n",
       "    .dataframe thead th {\n",
       "        text-align: right;\n",
       "    }\n",
       "</style>\n",
       "<table border=\"1\" class=\"dataframe\">\n",
       "  <thead>\n",
       "    <tr style=\"text-align: right;\">\n",
       "      <th></th>\n",
       "      <th>experience</th>\n",
       "      <th>salary</th>\n",
       "    </tr>\n",
       "  </thead>\n",
       "  <tbody>\n",
       "    <tr>\n",
       "      <th>0</th>\n",
       "      <td>0.5</td>\n",
       "      <td>2500</td>\n",
       "    </tr>\n",
       "    <tr>\n",
       "      <th>1</th>\n",
       "      <td>0.0</td>\n",
       "      <td>2250</td>\n",
       "    </tr>\n",
       "    <tr>\n",
       "      <th>2</th>\n",
       "      <td>1.0</td>\n",
       "      <td>2750</td>\n",
       "    </tr>\n",
       "    <tr>\n",
       "      <th>3</th>\n",
       "      <td>5.0</td>\n",
       "      <td>8000</td>\n",
       "    </tr>\n",
       "    <tr>\n",
       "      <th>4</th>\n",
       "      <td>8.0</td>\n",
       "      <td>9000</td>\n",
       "    </tr>\n",
       "  </tbody>\n",
       "</table>\n",
       "</div>"
      ],
      "text/plain": [
       "   experience  salary\n",
       "0         0.5    2500\n",
       "1         0.0    2250\n",
       "2         1.0    2750\n",
       "3         5.0    8000\n",
       "4         8.0    9000"
      ]
     },
     "execution_count": 5,
     "metadata": {},
     "output_type": "execute_result"
    }
   ],
   "source": [
    "data.head(5)"
   ]
  },
  {
   "cell_type": "markdown",
   "metadata": {
    "_uuid": "f5762dd847253d7c3c994e8dddcfd61678db7b96",
    "collapsed": true,
    "jupyter": {
     "outputs_hidden": true
    }
   },
   "source": [
    "### 2. Plot experience data\n",
    "\n",
    "- Expected output:\n",
    "![experience1](../data/experience1.png)"
   ]
  },
  {
   "cell_type": "code",
   "execution_count": 10,
   "metadata": {},
   "outputs": [
    {
     "data": {
      "text/plain": [
       "Text(0, 0.5, 'salary')"
      ]
     },
     "execution_count": 10,
     "metadata": {},
     "output_type": "execute_result"
    },
    {
     "data": {
      "image/png": "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\n",
      "text/plain": [
       "<Figure size 432x288 with 1 Axes>"
      ]
     },
     "metadata": {
      "needs_background": "light"
     },
     "output_type": "display_data"
    }
   ],
   "source": [
    "# Your code here\n",
    "plt.scatter(data[\"experience\"], data[\"salary\"],  color='blue')\n",
    "plt.xlabel('experience',size=12)\n",
    "plt.ylabel('salary',size=12)"
   ]
  },
  {
   "cell_type": "markdown",
   "metadata": {},
   "source": [
    "### 3. Compute the score and correlation using the `LinearRegression` model\n",
    "\n",
    "- Expected output:\n",
    "\n",
    "```Python\n",
    ">>> R sq:  0.9775283164949902\n",
    ">>> Correlation:  0.9887003168275967\n",
    "```"
   ]
  },
  {
   "cell_type": "code",
   "execution_count": 16,
   "metadata": {},
   "outputs": [
    {
     "data": {
      "text/plain": [
       "0.9775283164949902"
      ]
     },
     "execution_count": 16,
     "metadata": {},
     "output_type": "execute_result"
    }
   ],
   "source": [
    "# Your code here\n",
    "x = np.array(data[\"experience\"],).reshape((-1, 1))\n",
    "y = np.array(data[\"salary\"],)\n",
    "model = LinearRegression().fit(x, y)\n",
    "r_sq = model.score(x, y)\n",
    "r_sq"
   ]
  },
  {
   "cell_type": "markdown",
   "metadata": {},
   "source": [
    "### 4. Predict the result of x = 11\n",
    "- Expected output:\n",
    "\n",
    "```Python\n",
    ">>> Coefficient for X:  [[1138.34819698]]\n",
    ">>> Intercept for X:  [1663.89519747]\n",
    ">>> Regression line is: y = 1663.895197474103 + (x * 1138.3481969755721)\n",
    ">>> Value of y is: 14181\n",
    ">>> The predicted value y is: [[14185.72536421]]\n",
    "```"
   ]
  },
  {
   "cell_type": "code",
   "execution_count": 30,
   "metadata": {},
   "outputs": [
    {
     "name": "stdout",
     "output_type": "stream",
     "text": [
      "intercept: 1663.895197474103\n",
      "slope: [1138.34819698]\n"
     ]
    }
   ],
   "source": [
    "# Your code here\n",
    "x = np.array([11]).reshape(-1, 1)\n",
    "print('intercept:', model.intercept_)\n",
    "print('slope:', model.coef_)"
   ]
  },
  {
   "cell_type": "code",
   "execution_count": 32,
   "metadata": {},
   "outputs": [
    {
     "data": {
      "text/plain": [
       "array([14185.72536421])"
      ]
     },
     "execution_count": 32,
     "metadata": {},
     "output_type": "execute_result"
    }
   ],
   "source": [
    "y_pred = model.predict(x)\n",
    "y_pred"
   ]
  },
  {
   "cell_type": "markdown",
   "metadata": {
    "_uuid": "1959e6380288a6c7dbc07e8fb0b68d2659eb6b25",
    "collapsed": true,
    "jupyter": {
     "outputs_hidden": true
    }
   },
   "source": [
    "### 5. Plot both y_head (predicted values) and experience data\n",
    "- Input:\n",
    "```python\n",
    ">>> # visualize line\n",
    ">>> array = np.array([0,1,2,3,4,5,6,7,8,9,10,11,12,13,14,15]).reshape(-1,1)  # experience\n",
    "```\n",
    "\n",
    "- Expected output:\n",
    "    \n",
    "![experience2](../data/experience2.png)"
   ]
  },
  {
   "cell_type": "code",
   "execution_count": 35,
   "metadata": {},
   "outputs": [
    {
     "data": {
      "text/plain": [
       "array([ 1663.89519747,  2802.24339445,  3940.59159143,  5078.9397884 ,\n",
       "        6217.28798538,  7355.63618235,  8493.98437933,  9632.3325763 ,\n",
       "       10770.68077328, 11909.02897025, 13047.37716723, 14185.72536421,\n",
       "       15324.07356118, 16462.42175816, 17600.76995513, 18739.11815211])"
      ]
     },
     "execution_count": 35,
     "metadata": {},
     "output_type": "execute_result"
    }
   ],
   "source": [
    "# Your code here\n",
    "array = np.array([0,1,2,3,4,5,6,7,8,9,10,11,12,13,14,15]).reshape(-1,1)\n",
    "y_head = model.predict(array)\n",
    "y_head"
   ]
  },
  {
   "cell_type": "code",
   "execution_count": 40,
   "metadata": {},
   "outputs": [
    {
     "data": {
      "text/plain": [
       "<matplotlib.collections.PathCollection at 0x7f42e5cc6a60>"
      ]
     },
     "execution_count": 40,
     "metadata": {},
     "output_type": "execute_result"
    },
    {
     "data": {
      "image/png": "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\n",
      "text/plain": [
       "<Figure size 432x288 with 1 Axes>"
      ]
     },
     "metadata": {
      "needs_background": "light"
     },
     "output_type": "display_data"
    }
   ],
   "source": [
    "plt.plot([0,1,2,3,4,5,6,7,8,9,10,11,12,13,14,15],y_head, color='red', linewidth=1.5)\n",
    "plt.scatter(data[\"experience\"], data[\"salary\"],  color='blue')"
   ]
  },
  {
   "cell_type": "markdown",
   "metadata": {},
   "source": [
    "### 6. Predict values of experience input data and compute the r square score using `r2_score()` function\n",
    "\n",
    "- Expected output:\n",
    "```python\n",
    ">>> r_square score:  0.9775283164949902\n",
    "```"
   ]
  },
  {
   "cell_type": "code",
   "execution_count": 43,
   "metadata": {},
   "outputs": [
    {
     "name": "stdout",
     "output_type": "stream",
     "text": [
      "Coefficients: \n",
      " [1292.85714286]\n",
      "Mean squared error: 2840863.52\n",
      "Coefficient of determination: 0.89\n"
     ]
    }
   ],
   "source": [
    "# Your code here\n",
    "from sklearn import linear_model\n",
    "\n",
    "X_test  = np.array(data[\"experience\"][:10]).reshape((-1, 1))\n",
    "X_train = np.array(data[\"experience\"][10:]).reshape((-1, 1))\n",
    "\n",
    "y_test  = data[\"salary\"][:10]\n",
    "y_train = data[\"salary\"][10:]\n",
    "\n",
    "# Create linear regression object\n",
    "regr = linear_model.LinearRegression()\n",
    "\n",
    "# Train the model using the training sets\n",
    "regr.fit(X_train, y_train)\n",
    "\n",
    "# Make predictions using the testing set\n",
    "y_pred = regr.predict(X_test)\n",
    "\n",
    "# The coefficients\n",
    "print('Coefficients: \\n', regr.coef_)\n",
    "\n",
    "# The mean squared error\n",
    "print('Mean squared error: %.2f'\n",
    "      % mean_squared_error(y_test, y_pred))\n",
    "\n",
    "# The coefficient of determination: 1 is perfect prediction\n",
    "print('Coefficient of determination: %.2f'\n",
    "      % r2_score(y_test, y_pred))"
   ]
  },
  {
   "cell_type": "markdown",
   "metadata": {
    "_uuid": "08cd67c6bbb6cba9e4b155e42da9426fa9d7e3c3"
   },
   "source": [
    "\n",
    "<a class=\"anchor\" id=\"2.\"></a> \n",
    "# Support Vector Regression"
   ]
  },
  {
   "cell_type": "code",
   "execution_count": 7,
   "metadata": {
    "_cell_guid": "b1076dfc-b9ad-4769-8c92-a6c4dae69d19",
    "_uuid": "8f2839f25d086af736a60e9eeb907d3b93b6e0e5",
    "jupyter": {
     "outputs_hidden": true
    },
    "scrolled": true
   },
   "outputs": [],
   "source": [
    "# import library\n",
    "import pandas as pd\n",
    "import matplotlib.pyplot as plt"
   ]
  },
  {
   "cell_type": "code",
   "execution_count": 3,
   "metadata": {},
   "outputs": [],
   "source": [
    "# import data salary.csv\n",
    "dataset = pd.read_csv('../data/linear-regression-dataset.csv')"
   ]
  },
  {
   "cell_type": "markdown",
   "metadata": {},
   "source": [
    "### 1. Print info and first 5 rows"
   ]
  },
  {
   "cell_type": "code",
   "execution_count": 4,
   "metadata": {
    "_uuid": "9dafc0d1bb2f3cad0122eab45490d4d12a29c3e1",
    "jupyter": {
     "outputs_hidden": true
    }
   },
   "outputs": [
    {
     "data": {
      "text/plain": [
       "<bound method DataFrame.info of     experience  salary\n",
       "0          0.5    2500\n",
       "1          0.0    2250\n",
       "2          1.0    2750\n",
       "3          5.0    8000\n",
       "4          8.0    9000\n",
       "5          4.0    6900\n",
       "6         15.0   20000\n",
       "7          7.0    8500\n",
       "8          3.0    6000\n",
       "9          2.0    3500\n",
       "10        12.0   15000\n",
       "11        10.0   13000\n",
       "12        14.0   18000\n",
       "13         6.0    7500>"
      ]
     },
     "execution_count": 4,
     "metadata": {},
     "output_type": "execute_result"
    }
   ],
   "source": [
    "# Your code here\n",
    "dataset.info"
   ]
  },
  {
   "cell_type": "code",
   "execution_count": 5,
   "metadata": {},
   "outputs": [
    {
     "data": {
      "text/html": [
       "<div>\n",
       "<style scoped>\n",
       "    .dataframe tbody tr th:only-of-type {\n",
       "        vertical-align: middle;\n",
       "    }\n",
       "\n",
       "    .dataframe tbody tr th {\n",
       "        vertical-align: top;\n",
       "    }\n",
       "\n",
       "    .dataframe thead th {\n",
       "        text-align: right;\n",
       "    }\n",
       "</style>\n",
       "<table border=\"1\" class=\"dataframe\">\n",
       "  <thead>\n",
       "    <tr style=\"text-align: right;\">\n",
       "      <th></th>\n",
       "      <th>experience</th>\n",
       "      <th>salary</th>\n",
       "    </tr>\n",
       "  </thead>\n",
       "  <tbody>\n",
       "    <tr>\n",
       "      <th>0</th>\n",
       "      <td>0.5</td>\n",
       "      <td>2500</td>\n",
       "    </tr>\n",
       "    <tr>\n",
       "      <th>1</th>\n",
       "      <td>0.0</td>\n",
       "      <td>2250</td>\n",
       "    </tr>\n",
       "    <tr>\n",
       "      <th>2</th>\n",
       "      <td>1.0</td>\n",
       "      <td>2750</td>\n",
       "    </tr>\n",
       "    <tr>\n",
       "      <th>3</th>\n",
       "      <td>5.0</td>\n",
       "      <td>8000</td>\n",
       "    </tr>\n",
       "    <tr>\n",
       "      <th>4</th>\n",
       "      <td>8.0</td>\n",
       "      <td>9000</td>\n",
       "    </tr>\n",
       "  </tbody>\n",
       "</table>\n",
       "</div>"
      ],
      "text/plain": [
       "   experience  salary\n",
       "0         0.5    2500\n",
       "1         0.0    2250\n",
       "2         1.0    2750\n",
       "3         5.0    8000\n",
       "4         8.0    9000"
      ]
     },
     "execution_count": 5,
     "metadata": {},
     "output_type": "execute_result"
    }
   ],
   "source": [
    "dataset.head()"
   ]
  },
  {
   "cell_type": "markdown",
   "metadata": {},
   "source": [
    "### 2.  Plot the salary over the education level\n",
    "\n",
    "- Expected output:\n",
    "\n",
    "![salary1](../data/salary1.png)"
   ]
  },
  {
   "cell_type": "code",
   "execution_count": 9,
   "metadata": {},
   "outputs": [
    {
     "data": {
      "text/plain": [
       "Text(0, 0.5, 'salary')"
      ]
     },
     "execution_count": 9,
     "metadata": {},
     "output_type": "execute_result"
    },
    {
     "data": {
      "image/png": "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\n",
      "text/plain": [
       "<Figure size 432x288 with 1 Axes>"
      ]
     },
     "metadata": {
      "needs_background": "light"
     },
     "output_type": "display_data"
    }
   ],
   "source": [
    "# Your code here\n",
    "# Your code here\n",
    "plt.scatter(dataset[\"experience\"], dataset[\"salary\"],  color='blue')\n",
    "plt.xlabel('experience',size=12)\n",
    "plt.ylabel('salary',size=12)"
   ]
  },
  {
   "cell_type": "markdown",
   "metadata": {},
   "source": [
    "### 3. Compute the score using `SVR` model (rbf as kernel), and plot the predicted values\n",
    "\n",
    "- Expected output:\n",
    "\n",
    "![salary1](../data/salary2.png)\n",
    "\n",
    "```python\n",
    ">>> R sq:  0.7513836788854973\n",
    "```"
   ]
  },
  {
   "cell_type": "code",
   "execution_count": 14,
   "metadata": {},
   "outputs": [
    {
     "ename": "TypeError",
     "evalue": "'(slice(0, 10, None),)' is an invalid key",
     "output_type": "error",
     "traceback": [
      "\u001b[0;31m---------------------------------------------------------------------------\u001b[0m",
      "\u001b[0;31mTypeError\u001b[0m                                 Traceback (most recent call last)",
      "\u001b[0;32m<ipython-input-14-3bc4e67bd7ee>\u001b[0m in \u001b[0;36m<module>\u001b[0;34m\u001b[0m\n\u001b[1;32m      3\u001b[0m \u001b[0;32mfrom\u001b[0m \u001b[0msklearn\u001b[0m\u001b[0;34m.\u001b[0m\u001b[0mpreprocessing\u001b[0m \u001b[0;32mimport\u001b[0m \u001b[0mStandardScaler\u001b[0m\u001b[0;34m\u001b[0m\u001b[0;34m\u001b[0m\u001b[0m\n\u001b[1;32m      4\u001b[0m \u001b[0;34m\u001b[0m\u001b[0m\n\u001b[0;32m----> 5\u001b[0;31m \u001b[0mX\u001b[0m \u001b[0;34m=\u001b[0m \u001b[0mdataset\u001b[0m\u001b[0;34m[\u001b[0m\u001b[0;36m0\u001b[0m\u001b[0;34m:\u001b[0m\u001b[0;36m10\u001b[0m\u001b[0;34m,\u001b[0m\u001b[0;34m]\u001b[0m\u001b[0;34m.\u001b[0m\u001b[0mvalues\u001b[0m\u001b[0;34m\u001b[0m\u001b[0;34m\u001b[0m\u001b[0m\n\u001b[0m\u001b[1;32m      6\u001b[0m \u001b[0my\u001b[0m \u001b[0;34m=\u001b[0m \u001b[0mdataset\u001b[0m\u001b[0;34m[\u001b[0m\u001b[0;36m10\u001b[0m\u001b[0;34m:\u001b[0m\u001b[0;36m14\u001b[0m\u001b[0;34m,\u001b[0m\u001b[0;34m]\u001b[0m\u001b[0;34m.\u001b[0m\u001b[0mvalues\u001b[0m\u001b[0;34m\u001b[0m\u001b[0;34m\u001b[0m\u001b[0m\n\u001b[1;32m      7\u001b[0m \u001b[0msc_X\u001b[0m \u001b[0;34m=\u001b[0m \u001b[0mStandardScaler\u001b[0m\u001b[0;34m(\u001b[0m\u001b[0;34m)\u001b[0m\u001b[0;34m\u001b[0m\u001b[0;34m\u001b[0m\u001b[0m\n",
      "\u001b[0;32m~/anaconda3/lib/python3.8/site-packages/pandas/core/frame.py\u001b[0m in \u001b[0;36m__getitem__\u001b[0;34m(self, key)\u001b[0m\n\u001b[1;32m   2900\u001b[0m             \u001b[0;32mif\u001b[0m \u001b[0mself\u001b[0m\u001b[0;34m.\u001b[0m\u001b[0mcolumns\u001b[0m\u001b[0;34m.\u001b[0m\u001b[0mnlevels\u001b[0m \u001b[0;34m>\u001b[0m \u001b[0;36m1\u001b[0m\u001b[0;34m:\u001b[0m\u001b[0;34m\u001b[0m\u001b[0;34m\u001b[0m\u001b[0m\n\u001b[1;32m   2901\u001b[0m                 \u001b[0;32mreturn\u001b[0m \u001b[0mself\u001b[0m\u001b[0;34m.\u001b[0m\u001b[0m_getitem_multilevel\u001b[0m\u001b[0;34m(\u001b[0m\u001b[0mkey\u001b[0m\u001b[0;34m)\u001b[0m\u001b[0;34m\u001b[0m\u001b[0;34m\u001b[0m\u001b[0m\n\u001b[0;32m-> 2902\u001b[0;31m             \u001b[0mindexer\u001b[0m \u001b[0;34m=\u001b[0m \u001b[0mself\u001b[0m\u001b[0;34m.\u001b[0m\u001b[0mcolumns\u001b[0m\u001b[0;34m.\u001b[0m\u001b[0mget_loc\u001b[0m\u001b[0;34m(\u001b[0m\u001b[0mkey\u001b[0m\u001b[0;34m)\u001b[0m\u001b[0;34m\u001b[0m\u001b[0;34m\u001b[0m\u001b[0m\n\u001b[0m\u001b[1;32m   2903\u001b[0m             \u001b[0;32mif\u001b[0m \u001b[0mis_integer\u001b[0m\u001b[0;34m(\u001b[0m\u001b[0mindexer\u001b[0m\u001b[0;34m)\u001b[0m\u001b[0;34m:\u001b[0m\u001b[0;34m\u001b[0m\u001b[0;34m\u001b[0m\u001b[0m\n\u001b[1;32m   2904\u001b[0m                 \u001b[0mindexer\u001b[0m \u001b[0;34m=\u001b[0m \u001b[0;34m[\u001b[0m\u001b[0mindexer\u001b[0m\u001b[0;34m]\u001b[0m\u001b[0;34m\u001b[0m\u001b[0;34m\u001b[0m\u001b[0m\n",
      "\u001b[0;32m~/anaconda3/lib/python3.8/site-packages/pandas/core/indexes/base.py\u001b[0m in \u001b[0;36mget_loc\u001b[0;34m(self, key, method, tolerance)\u001b[0m\n\u001b[1;32m   2893\u001b[0m             \u001b[0mcasted_key\u001b[0m \u001b[0;34m=\u001b[0m \u001b[0mself\u001b[0m\u001b[0;34m.\u001b[0m\u001b[0m_maybe_cast_indexer\u001b[0m\u001b[0;34m(\u001b[0m\u001b[0mkey\u001b[0m\u001b[0;34m)\u001b[0m\u001b[0;34m\u001b[0m\u001b[0;34m\u001b[0m\u001b[0m\n\u001b[1;32m   2894\u001b[0m             \u001b[0;32mtry\u001b[0m\u001b[0;34m:\u001b[0m\u001b[0;34m\u001b[0m\u001b[0;34m\u001b[0m\u001b[0m\n\u001b[0;32m-> 2895\u001b[0;31m                 \u001b[0;32mreturn\u001b[0m \u001b[0mself\u001b[0m\u001b[0;34m.\u001b[0m\u001b[0m_engine\u001b[0m\u001b[0;34m.\u001b[0m\u001b[0mget_loc\u001b[0m\u001b[0;34m(\u001b[0m\u001b[0mcasted_key\u001b[0m\u001b[0;34m)\u001b[0m\u001b[0;34m\u001b[0m\u001b[0;34m\u001b[0m\u001b[0m\n\u001b[0m\u001b[1;32m   2896\u001b[0m             \u001b[0;32mexcept\u001b[0m \u001b[0mKeyError\u001b[0m \u001b[0;32mas\u001b[0m \u001b[0merr\u001b[0m\u001b[0;34m:\u001b[0m\u001b[0;34m\u001b[0m\u001b[0;34m\u001b[0m\u001b[0m\n\u001b[1;32m   2897\u001b[0m                 \u001b[0;32mraise\u001b[0m \u001b[0mKeyError\u001b[0m\u001b[0;34m(\u001b[0m\u001b[0mkey\u001b[0m\u001b[0;34m)\u001b[0m \u001b[0;32mfrom\u001b[0m \u001b[0merr\u001b[0m\u001b[0;34m\u001b[0m\u001b[0;34m\u001b[0m\u001b[0m\n",
      "\u001b[0;32mpandas/_libs/index.pyx\u001b[0m in \u001b[0;36mpandas._libs.index.IndexEngine.get_loc\u001b[0;34m()\u001b[0m\n",
      "\u001b[0;32mpandas/_libs/index.pyx\u001b[0m in \u001b[0;36mpandas._libs.index.IndexEngine.get_loc\u001b[0;34m()\u001b[0m\n",
      "\u001b[0;31mTypeError\u001b[0m: '(slice(0, 10, None),)' is an invalid key"
     ]
    }
   ],
   "source": [
    "# Your code here\n",
    "from sklearn.svm import SVR\n",
    "from sklearn.preprocessing import StandardScaler\n",
    "\n",
    "X = dataset[0:10,].values\n",
    "y = dataset[10:14,].values\n",
    "sc_X = StandardScaler()\n",
    "sc_y = StandardScaler()\n",
    "X = sc_X.fit_transform(X)\n",
    "y = sc_y.fit_transform(y)\n",
    "regressor = SVR(kernel = 'rbf')\n",
    "regressor.fit(X, y)\n",
    "X_grid = np.arange(min(X), max(X), 0.01) #this step required because data is feature scaled.\n",
    "X_grid = X_grid.reshape((len(X_grid), 1))\n",
    "plt.scatter(X, y, color = 'red')\n",
    "plt.plot(X_grid, regressor.predict(X_grid), color = 'blue')\n",
    "plt.title('Truth or Bluff (SVR)')\n",
    "plt.xlabel('Position level')\n",
    "plt.ylabel('Salary')\n",
    "plt.show()"
   ]
  },
  {
   "cell_type": "markdown",
   "metadata": {
    "_uuid": "4a81372f8e54f250309f93c62211c858e2894971"
   },
   "source": [
    "# Classification\n",
    "<a class=\"anchor\" id=\"3.\"></a> \n",
    "# K-Nearest Neighbour (KNN) Classification"
   ]
  },
  {
   "cell_type": "code",
   "execution_count": 102,
   "metadata": {
    "_cell_guid": "b1076dfc-b9ad-4769-8c92-a6c4dae69d19",
    "_uuid": "8f2839f25d086af736a60e9eeb907d3b93b6e0e5",
    "jupyter": {
     "outputs_hidden": true
    },
    "scrolled": true
   },
   "outputs": [],
   "source": [
    "# import library\n",
    "import pandas as pd"
   ]
  },
  {
   "cell_type": "code",
   "execution_count": 120,
   "metadata": {},
   "outputs": [
    {
     "data": {
      "text/html": [
       "<div>\n",
       "<style scoped>\n",
       "    .dataframe tbody tr th:only-of-type {\n",
       "        vertical-align: middle;\n",
       "    }\n",
       "\n",
       "    .dataframe tbody tr th {\n",
       "        vertical-align: top;\n",
       "    }\n",
       "\n",
       "    .dataframe thead th {\n",
       "        text-align: right;\n",
       "    }\n",
       "</style>\n",
       "<table border=\"1\" class=\"dataframe\">\n",
       "  <thead>\n",
       "    <tr style=\"text-align: right;\">\n",
       "      <th></th>\n",
       "      <th>id</th>\n",
       "      <th>diagnosis</th>\n",
       "      <th>radius_mean</th>\n",
       "      <th>texture_mean</th>\n",
       "      <th>perimeter_mean</th>\n",
       "      <th>area_mean</th>\n",
       "      <th>smoothness_mean</th>\n",
       "      <th>compactness_mean</th>\n",
       "      <th>concavity_mean</th>\n",
       "      <th>concave points_mean</th>\n",
       "      <th>...</th>\n",
       "      <th>texture_worst</th>\n",
       "      <th>perimeter_worst</th>\n",
       "      <th>area_worst</th>\n",
       "      <th>smoothness_worst</th>\n",
       "      <th>compactness_worst</th>\n",
       "      <th>concavity_worst</th>\n",
       "      <th>concave points_worst</th>\n",
       "      <th>symmetry_worst</th>\n",
       "      <th>fractal_dimension_worst</th>\n",
       "      <th>Unnamed: 32</th>\n",
       "    </tr>\n",
       "  </thead>\n",
       "  <tbody>\n",
       "    <tr>\n",
       "      <th>0</th>\n",
       "      <td>842302</td>\n",
       "      <td>M</td>\n",
       "      <td>17.99</td>\n",
       "      <td>10.38</td>\n",
       "      <td>122.80</td>\n",
       "      <td>1001.0</td>\n",
       "      <td>0.11840</td>\n",
       "      <td>0.27760</td>\n",
       "      <td>0.30010</td>\n",
       "      <td>0.14710</td>\n",
       "      <td>...</td>\n",
       "      <td>17.33</td>\n",
       "      <td>184.60</td>\n",
       "      <td>2019.0</td>\n",
       "      <td>0.16220</td>\n",
       "      <td>0.66560</td>\n",
       "      <td>0.7119</td>\n",
       "      <td>0.2654</td>\n",
       "      <td>0.4601</td>\n",
       "      <td>0.11890</td>\n",
       "      <td>NaN</td>\n",
       "    </tr>\n",
       "    <tr>\n",
       "      <th>1</th>\n",
       "      <td>842517</td>\n",
       "      <td>M</td>\n",
       "      <td>20.57</td>\n",
       "      <td>17.77</td>\n",
       "      <td>132.90</td>\n",
       "      <td>1326.0</td>\n",
       "      <td>0.08474</td>\n",
       "      <td>0.07864</td>\n",
       "      <td>0.08690</td>\n",
       "      <td>0.07017</td>\n",
       "      <td>...</td>\n",
       "      <td>23.41</td>\n",
       "      <td>158.80</td>\n",
       "      <td>1956.0</td>\n",
       "      <td>0.12380</td>\n",
       "      <td>0.18660</td>\n",
       "      <td>0.2416</td>\n",
       "      <td>0.1860</td>\n",
       "      <td>0.2750</td>\n",
       "      <td>0.08902</td>\n",
       "      <td>NaN</td>\n",
       "    </tr>\n",
       "    <tr>\n",
       "      <th>2</th>\n",
       "      <td>84300903</td>\n",
       "      <td>M</td>\n",
       "      <td>19.69</td>\n",
       "      <td>21.25</td>\n",
       "      <td>130.00</td>\n",
       "      <td>1203.0</td>\n",
       "      <td>0.10960</td>\n",
       "      <td>0.15990</td>\n",
       "      <td>0.19740</td>\n",
       "      <td>0.12790</td>\n",
       "      <td>...</td>\n",
       "      <td>25.53</td>\n",
       "      <td>152.50</td>\n",
       "      <td>1709.0</td>\n",
       "      <td>0.14440</td>\n",
       "      <td>0.42450</td>\n",
       "      <td>0.4504</td>\n",
       "      <td>0.2430</td>\n",
       "      <td>0.3613</td>\n",
       "      <td>0.08758</td>\n",
       "      <td>NaN</td>\n",
       "    </tr>\n",
       "    <tr>\n",
       "      <th>3</th>\n",
       "      <td>84348301</td>\n",
       "      <td>M</td>\n",
       "      <td>11.42</td>\n",
       "      <td>20.38</td>\n",
       "      <td>77.58</td>\n",
       "      <td>386.1</td>\n",
       "      <td>0.14250</td>\n",
       "      <td>0.28390</td>\n",
       "      <td>0.24140</td>\n",
       "      <td>0.10520</td>\n",
       "      <td>...</td>\n",
       "      <td>26.50</td>\n",
       "      <td>98.87</td>\n",
       "      <td>567.7</td>\n",
       "      <td>0.20980</td>\n",
       "      <td>0.86630</td>\n",
       "      <td>0.6869</td>\n",
       "      <td>0.2575</td>\n",
       "      <td>0.6638</td>\n",
       "      <td>0.17300</td>\n",
       "      <td>NaN</td>\n",
       "    </tr>\n",
       "    <tr>\n",
       "      <th>4</th>\n",
       "      <td>84358402</td>\n",
       "      <td>M</td>\n",
       "      <td>20.29</td>\n",
       "      <td>14.34</td>\n",
       "      <td>135.10</td>\n",
       "      <td>1297.0</td>\n",
       "      <td>0.10030</td>\n",
       "      <td>0.13280</td>\n",
       "      <td>0.19800</td>\n",
       "      <td>0.10430</td>\n",
       "      <td>...</td>\n",
       "      <td>16.67</td>\n",
       "      <td>152.20</td>\n",
       "      <td>1575.0</td>\n",
       "      <td>0.13740</td>\n",
       "      <td>0.20500</td>\n",
       "      <td>0.4000</td>\n",
       "      <td>0.1625</td>\n",
       "      <td>0.2364</td>\n",
       "      <td>0.07678</td>\n",
       "      <td>NaN</td>\n",
       "    </tr>\n",
       "    <tr>\n",
       "      <th>...</th>\n",
       "      <td>...</td>\n",
       "      <td>...</td>\n",
       "      <td>...</td>\n",
       "      <td>...</td>\n",
       "      <td>...</td>\n",
       "      <td>...</td>\n",
       "      <td>...</td>\n",
       "      <td>...</td>\n",
       "      <td>...</td>\n",
       "      <td>...</td>\n",
       "      <td>...</td>\n",
       "      <td>...</td>\n",
       "      <td>...</td>\n",
       "      <td>...</td>\n",
       "      <td>...</td>\n",
       "      <td>...</td>\n",
       "      <td>...</td>\n",
       "      <td>...</td>\n",
       "      <td>...</td>\n",
       "      <td>...</td>\n",
       "      <td>...</td>\n",
       "    </tr>\n",
       "    <tr>\n",
       "      <th>564</th>\n",
       "      <td>926424</td>\n",
       "      <td>M</td>\n",
       "      <td>21.56</td>\n",
       "      <td>22.39</td>\n",
       "      <td>142.00</td>\n",
       "      <td>1479.0</td>\n",
       "      <td>0.11100</td>\n",
       "      <td>0.11590</td>\n",
       "      <td>0.24390</td>\n",
       "      <td>0.13890</td>\n",
       "      <td>...</td>\n",
       "      <td>26.40</td>\n",
       "      <td>166.10</td>\n",
       "      <td>2027.0</td>\n",
       "      <td>0.14100</td>\n",
       "      <td>0.21130</td>\n",
       "      <td>0.4107</td>\n",
       "      <td>0.2216</td>\n",
       "      <td>0.2060</td>\n",
       "      <td>0.07115</td>\n",
       "      <td>NaN</td>\n",
       "    </tr>\n",
       "    <tr>\n",
       "      <th>565</th>\n",
       "      <td>926682</td>\n",
       "      <td>M</td>\n",
       "      <td>20.13</td>\n",
       "      <td>28.25</td>\n",
       "      <td>131.20</td>\n",
       "      <td>1261.0</td>\n",
       "      <td>0.09780</td>\n",
       "      <td>0.10340</td>\n",
       "      <td>0.14400</td>\n",
       "      <td>0.09791</td>\n",
       "      <td>...</td>\n",
       "      <td>38.25</td>\n",
       "      <td>155.00</td>\n",
       "      <td>1731.0</td>\n",
       "      <td>0.11660</td>\n",
       "      <td>0.19220</td>\n",
       "      <td>0.3215</td>\n",
       "      <td>0.1628</td>\n",
       "      <td>0.2572</td>\n",
       "      <td>0.06637</td>\n",
       "      <td>NaN</td>\n",
       "    </tr>\n",
       "    <tr>\n",
       "      <th>566</th>\n",
       "      <td>926954</td>\n",
       "      <td>M</td>\n",
       "      <td>16.60</td>\n",
       "      <td>28.08</td>\n",
       "      <td>108.30</td>\n",
       "      <td>858.1</td>\n",
       "      <td>0.08455</td>\n",
       "      <td>0.10230</td>\n",
       "      <td>0.09251</td>\n",
       "      <td>0.05302</td>\n",
       "      <td>...</td>\n",
       "      <td>34.12</td>\n",
       "      <td>126.70</td>\n",
       "      <td>1124.0</td>\n",
       "      <td>0.11390</td>\n",
       "      <td>0.30940</td>\n",
       "      <td>0.3403</td>\n",
       "      <td>0.1418</td>\n",
       "      <td>0.2218</td>\n",
       "      <td>0.07820</td>\n",
       "      <td>NaN</td>\n",
       "    </tr>\n",
       "    <tr>\n",
       "      <th>567</th>\n",
       "      <td>927241</td>\n",
       "      <td>M</td>\n",
       "      <td>20.60</td>\n",
       "      <td>29.33</td>\n",
       "      <td>140.10</td>\n",
       "      <td>1265.0</td>\n",
       "      <td>0.11780</td>\n",
       "      <td>0.27700</td>\n",
       "      <td>0.35140</td>\n",
       "      <td>0.15200</td>\n",
       "      <td>...</td>\n",
       "      <td>39.42</td>\n",
       "      <td>184.60</td>\n",
       "      <td>1821.0</td>\n",
       "      <td>0.16500</td>\n",
       "      <td>0.86810</td>\n",
       "      <td>0.9387</td>\n",
       "      <td>0.2650</td>\n",
       "      <td>0.4087</td>\n",
       "      <td>0.12400</td>\n",
       "      <td>NaN</td>\n",
       "    </tr>\n",
       "    <tr>\n",
       "      <th>568</th>\n",
       "      <td>92751</td>\n",
       "      <td>B</td>\n",
       "      <td>7.76</td>\n",
       "      <td>24.54</td>\n",
       "      <td>47.92</td>\n",
       "      <td>181.0</td>\n",
       "      <td>0.05263</td>\n",
       "      <td>0.04362</td>\n",
       "      <td>0.00000</td>\n",
       "      <td>0.00000</td>\n",
       "      <td>...</td>\n",
       "      <td>30.37</td>\n",
       "      <td>59.16</td>\n",
       "      <td>268.6</td>\n",
       "      <td>0.08996</td>\n",
       "      <td>0.06444</td>\n",
       "      <td>0.0000</td>\n",
       "      <td>0.0000</td>\n",
       "      <td>0.2871</td>\n",
       "      <td>0.07039</td>\n",
       "      <td>NaN</td>\n",
       "    </tr>\n",
       "  </tbody>\n",
       "</table>\n",
       "<p>569 rows × 33 columns</p>\n",
       "</div>"
      ],
      "text/plain": [
       "           id diagnosis  radius_mean  texture_mean  perimeter_mean  area_mean  \\\n",
       "0      842302         M        17.99         10.38          122.80     1001.0   \n",
       "1      842517         M        20.57         17.77          132.90     1326.0   \n",
       "2    84300903         M        19.69         21.25          130.00     1203.0   \n",
       "3    84348301         M        11.42         20.38           77.58      386.1   \n",
       "4    84358402         M        20.29         14.34          135.10     1297.0   \n",
       "..        ...       ...          ...           ...             ...        ...   \n",
       "564    926424         M        21.56         22.39          142.00     1479.0   \n",
       "565    926682         M        20.13         28.25          131.20     1261.0   \n",
       "566    926954         M        16.60         28.08          108.30      858.1   \n",
       "567    927241         M        20.60         29.33          140.10     1265.0   \n",
       "568     92751         B         7.76         24.54           47.92      181.0   \n",
       "\n",
       "     smoothness_mean  compactness_mean  concavity_mean  concave points_mean  \\\n",
       "0            0.11840           0.27760         0.30010              0.14710   \n",
       "1            0.08474           0.07864         0.08690              0.07017   \n",
       "2            0.10960           0.15990         0.19740              0.12790   \n",
       "3            0.14250           0.28390         0.24140              0.10520   \n",
       "4            0.10030           0.13280         0.19800              0.10430   \n",
       "..               ...               ...             ...                  ...   \n",
       "564          0.11100           0.11590         0.24390              0.13890   \n",
       "565          0.09780           0.10340         0.14400              0.09791   \n",
       "566          0.08455           0.10230         0.09251              0.05302   \n",
       "567          0.11780           0.27700         0.35140              0.15200   \n",
       "568          0.05263           0.04362         0.00000              0.00000   \n",
       "\n",
       "     ...  texture_worst  perimeter_worst  area_worst  smoothness_worst  \\\n",
       "0    ...          17.33           184.60      2019.0           0.16220   \n",
       "1    ...          23.41           158.80      1956.0           0.12380   \n",
       "2    ...          25.53           152.50      1709.0           0.14440   \n",
       "3    ...          26.50            98.87       567.7           0.20980   \n",
       "4    ...          16.67           152.20      1575.0           0.13740   \n",
       "..   ...            ...              ...         ...               ...   \n",
       "564  ...          26.40           166.10      2027.0           0.14100   \n",
       "565  ...          38.25           155.00      1731.0           0.11660   \n",
       "566  ...          34.12           126.70      1124.0           0.11390   \n",
       "567  ...          39.42           184.60      1821.0           0.16500   \n",
       "568  ...          30.37            59.16       268.6           0.08996   \n",
       "\n",
       "     compactness_worst  concavity_worst  concave points_worst  symmetry_worst  \\\n",
       "0              0.66560           0.7119                0.2654          0.4601   \n",
       "1              0.18660           0.2416                0.1860          0.2750   \n",
       "2              0.42450           0.4504                0.2430          0.3613   \n",
       "3              0.86630           0.6869                0.2575          0.6638   \n",
       "4              0.20500           0.4000                0.1625          0.2364   \n",
       "..                 ...              ...                   ...             ...   \n",
       "564            0.21130           0.4107                0.2216          0.2060   \n",
       "565            0.19220           0.3215                0.1628          0.2572   \n",
       "566            0.30940           0.3403                0.1418          0.2218   \n",
       "567            0.86810           0.9387                0.2650          0.4087   \n",
       "568            0.06444           0.0000                0.0000          0.2871   \n",
       "\n",
       "     fractal_dimension_worst  Unnamed: 32  \n",
       "0                    0.11890          NaN  \n",
       "1                    0.08902          NaN  \n",
       "2                    0.08758          NaN  \n",
       "3                    0.17300          NaN  \n",
       "4                    0.07678          NaN  \n",
       "..                       ...          ...  \n",
       "564                  0.07115          NaN  \n",
       "565                  0.06637          NaN  \n",
       "566                  0.07820          NaN  \n",
       "567                  0.12400          NaN  \n",
       "568                  0.07039          NaN  \n",
       "\n",
       "[569 rows x 33 columns]"
      ]
     },
     "execution_count": 120,
     "metadata": {},
     "output_type": "execute_result"
    }
   ],
   "source": [
    "# import data data-classification.csv\n",
    "data = pd.read_csv('../data/data-classification.csv')\n",
    "data"
   ]
  },
  {
   "cell_type": "markdown",
   "metadata": {},
   "source": [
    "### 1. Drop the `id` and `Unnamed: 32` columns "
   ]
  },
  {
   "cell_type": "code",
   "execution_count": 121,
   "metadata": {},
   "outputs": [],
   "source": [
    "# Your code here\n",
    "data.drop(['id','Unnamed: 32'], axis='columns', inplace=True)"
   ]
  },
  {
   "cell_type": "code",
   "execution_count": 122,
   "metadata": {},
   "outputs": [
    {
     "data": {
      "text/html": [
       "<div>\n",
       "<style scoped>\n",
       "    .dataframe tbody tr th:only-of-type {\n",
       "        vertical-align: middle;\n",
       "    }\n",
       "\n",
       "    .dataframe tbody tr th {\n",
       "        vertical-align: top;\n",
       "    }\n",
       "\n",
       "    .dataframe thead th {\n",
       "        text-align: right;\n",
       "    }\n",
       "</style>\n",
       "<table border=\"1\" class=\"dataframe\">\n",
       "  <thead>\n",
       "    <tr style=\"text-align: right;\">\n",
       "      <th></th>\n",
       "      <th>diagnosis</th>\n",
       "      <th>radius_mean</th>\n",
       "      <th>texture_mean</th>\n",
       "      <th>perimeter_mean</th>\n",
       "      <th>area_mean</th>\n",
       "      <th>smoothness_mean</th>\n",
       "      <th>compactness_mean</th>\n",
       "      <th>concavity_mean</th>\n",
       "      <th>concave points_mean</th>\n",
       "      <th>symmetry_mean</th>\n",
       "      <th>...</th>\n",
       "      <th>radius_worst</th>\n",
       "      <th>texture_worst</th>\n",
       "      <th>perimeter_worst</th>\n",
       "      <th>area_worst</th>\n",
       "      <th>smoothness_worst</th>\n",
       "      <th>compactness_worst</th>\n",
       "      <th>concavity_worst</th>\n",
       "      <th>concave points_worst</th>\n",
       "      <th>symmetry_worst</th>\n",
       "      <th>fractal_dimension_worst</th>\n",
       "    </tr>\n",
       "  </thead>\n",
       "  <tbody>\n",
       "    <tr>\n",
       "      <th>0</th>\n",
       "      <td>M</td>\n",
       "      <td>17.99</td>\n",
       "      <td>10.38</td>\n",
       "      <td>122.80</td>\n",
       "      <td>1001.0</td>\n",
       "      <td>0.11840</td>\n",
       "      <td>0.27760</td>\n",
       "      <td>0.30010</td>\n",
       "      <td>0.14710</td>\n",
       "      <td>0.2419</td>\n",
       "      <td>...</td>\n",
       "      <td>25.380</td>\n",
       "      <td>17.33</td>\n",
       "      <td>184.60</td>\n",
       "      <td>2019.0</td>\n",
       "      <td>0.16220</td>\n",
       "      <td>0.66560</td>\n",
       "      <td>0.7119</td>\n",
       "      <td>0.2654</td>\n",
       "      <td>0.4601</td>\n",
       "      <td>0.11890</td>\n",
       "    </tr>\n",
       "    <tr>\n",
       "      <th>1</th>\n",
       "      <td>M</td>\n",
       "      <td>20.57</td>\n",
       "      <td>17.77</td>\n",
       "      <td>132.90</td>\n",
       "      <td>1326.0</td>\n",
       "      <td>0.08474</td>\n",
       "      <td>0.07864</td>\n",
       "      <td>0.08690</td>\n",
       "      <td>0.07017</td>\n",
       "      <td>0.1812</td>\n",
       "      <td>...</td>\n",
       "      <td>24.990</td>\n",
       "      <td>23.41</td>\n",
       "      <td>158.80</td>\n",
       "      <td>1956.0</td>\n",
       "      <td>0.12380</td>\n",
       "      <td>0.18660</td>\n",
       "      <td>0.2416</td>\n",
       "      <td>0.1860</td>\n",
       "      <td>0.2750</td>\n",
       "      <td>0.08902</td>\n",
       "    </tr>\n",
       "    <tr>\n",
       "      <th>2</th>\n",
       "      <td>M</td>\n",
       "      <td>19.69</td>\n",
       "      <td>21.25</td>\n",
       "      <td>130.00</td>\n",
       "      <td>1203.0</td>\n",
       "      <td>0.10960</td>\n",
       "      <td>0.15990</td>\n",
       "      <td>0.19740</td>\n",
       "      <td>0.12790</td>\n",
       "      <td>0.2069</td>\n",
       "      <td>...</td>\n",
       "      <td>23.570</td>\n",
       "      <td>25.53</td>\n",
       "      <td>152.50</td>\n",
       "      <td>1709.0</td>\n",
       "      <td>0.14440</td>\n",
       "      <td>0.42450</td>\n",
       "      <td>0.4504</td>\n",
       "      <td>0.2430</td>\n",
       "      <td>0.3613</td>\n",
       "      <td>0.08758</td>\n",
       "    </tr>\n",
       "    <tr>\n",
       "      <th>3</th>\n",
       "      <td>M</td>\n",
       "      <td>11.42</td>\n",
       "      <td>20.38</td>\n",
       "      <td>77.58</td>\n",
       "      <td>386.1</td>\n",
       "      <td>0.14250</td>\n",
       "      <td>0.28390</td>\n",
       "      <td>0.24140</td>\n",
       "      <td>0.10520</td>\n",
       "      <td>0.2597</td>\n",
       "      <td>...</td>\n",
       "      <td>14.910</td>\n",
       "      <td>26.50</td>\n",
       "      <td>98.87</td>\n",
       "      <td>567.7</td>\n",
       "      <td>0.20980</td>\n",
       "      <td>0.86630</td>\n",
       "      <td>0.6869</td>\n",
       "      <td>0.2575</td>\n",
       "      <td>0.6638</td>\n",
       "      <td>0.17300</td>\n",
       "    </tr>\n",
       "    <tr>\n",
       "      <th>4</th>\n",
       "      <td>M</td>\n",
       "      <td>20.29</td>\n",
       "      <td>14.34</td>\n",
       "      <td>135.10</td>\n",
       "      <td>1297.0</td>\n",
       "      <td>0.10030</td>\n",
       "      <td>0.13280</td>\n",
       "      <td>0.19800</td>\n",
       "      <td>0.10430</td>\n",
       "      <td>0.1809</td>\n",
       "      <td>...</td>\n",
       "      <td>22.540</td>\n",
       "      <td>16.67</td>\n",
       "      <td>152.20</td>\n",
       "      <td>1575.0</td>\n",
       "      <td>0.13740</td>\n",
       "      <td>0.20500</td>\n",
       "      <td>0.4000</td>\n",
       "      <td>0.1625</td>\n",
       "      <td>0.2364</td>\n",
       "      <td>0.07678</td>\n",
       "    </tr>\n",
       "    <tr>\n",
       "      <th>...</th>\n",
       "      <td>...</td>\n",
       "      <td>...</td>\n",
       "      <td>...</td>\n",
       "      <td>...</td>\n",
       "      <td>...</td>\n",
       "      <td>...</td>\n",
       "      <td>...</td>\n",
       "      <td>...</td>\n",
       "      <td>...</td>\n",
       "      <td>...</td>\n",
       "      <td>...</td>\n",
       "      <td>...</td>\n",
       "      <td>...</td>\n",
       "      <td>...</td>\n",
       "      <td>...</td>\n",
       "      <td>...</td>\n",
       "      <td>...</td>\n",
       "      <td>...</td>\n",
       "      <td>...</td>\n",
       "      <td>...</td>\n",
       "      <td>...</td>\n",
       "    </tr>\n",
       "    <tr>\n",
       "      <th>564</th>\n",
       "      <td>M</td>\n",
       "      <td>21.56</td>\n",
       "      <td>22.39</td>\n",
       "      <td>142.00</td>\n",
       "      <td>1479.0</td>\n",
       "      <td>0.11100</td>\n",
       "      <td>0.11590</td>\n",
       "      <td>0.24390</td>\n",
       "      <td>0.13890</td>\n",
       "      <td>0.1726</td>\n",
       "      <td>...</td>\n",
       "      <td>25.450</td>\n",
       "      <td>26.40</td>\n",
       "      <td>166.10</td>\n",
       "      <td>2027.0</td>\n",
       "      <td>0.14100</td>\n",
       "      <td>0.21130</td>\n",
       "      <td>0.4107</td>\n",
       "      <td>0.2216</td>\n",
       "      <td>0.2060</td>\n",
       "      <td>0.07115</td>\n",
       "    </tr>\n",
       "    <tr>\n",
       "      <th>565</th>\n",
       "      <td>M</td>\n",
       "      <td>20.13</td>\n",
       "      <td>28.25</td>\n",
       "      <td>131.20</td>\n",
       "      <td>1261.0</td>\n",
       "      <td>0.09780</td>\n",
       "      <td>0.10340</td>\n",
       "      <td>0.14400</td>\n",
       "      <td>0.09791</td>\n",
       "      <td>0.1752</td>\n",
       "      <td>...</td>\n",
       "      <td>23.690</td>\n",
       "      <td>38.25</td>\n",
       "      <td>155.00</td>\n",
       "      <td>1731.0</td>\n",
       "      <td>0.11660</td>\n",
       "      <td>0.19220</td>\n",
       "      <td>0.3215</td>\n",
       "      <td>0.1628</td>\n",
       "      <td>0.2572</td>\n",
       "      <td>0.06637</td>\n",
       "    </tr>\n",
       "    <tr>\n",
       "      <th>566</th>\n",
       "      <td>M</td>\n",
       "      <td>16.60</td>\n",
       "      <td>28.08</td>\n",
       "      <td>108.30</td>\n",
       "      <td>858.1</td>\n",
       "      <td>0.08455</td>\n",
       "      <td>0.10230</td>\n",
       "      <td>0.09251</td>\n",
       "      <td>0.05302</td>\n",
       "      <td>0.1590</td>\n",
       "      <td>...</td>\n",
       "      <td>18.980</td>\n",
       "      <td>34.12</td>\n",
       "      <td>126.70</td>\n",
       "      <td>1124.0</td>\n",
       "      <td>0.11390</td>\n",
       "      <td>0.30940</td>\n",
       "      <td>0.3403</td>\n",
       "      <td>0.1418</td>\n",
       "      <td>0.2218</td>\n",
       "      <td>0.07820</td>\n",
       "    </tr>\n",
       "    <tr>\n",
       "      <th>567</th>\n",
       "      <td>M</td>\n",
       "      <td>20.60</td>\n",
       "      <td>29.33</td>\n",
       "      <td>140.10</td>\n",
       "      <td>1265.0</td>\n",
       "      <td>0.11780</td>\n",
       "      <td>0.27700</td>\n",
       "      <td>0.35140</td>\n",
       "      <td>0.15200</td>\n",
       "      <td>0.2397</td>\n",
       "      <td>...</td>\n",
       "      <td>25.740</td>\n",
       "      <td>39.42</td>\n",
       "      <td>184.60</td>\n",
       "      <td>1821.0</td>\n",
       "      <td>0.16500</td>\n",
       "      <td>0.86810</td>\n",
       "      <td>0.9387</td>\n",
       "      <td>0.2650</td>\n",
       "      <td>0.4087</td>\n",
       "      <td>0.12400</td>\n",
       "    </tr>\n",
       "    <tr>\n",
       "      <th>568</th>\n",
       "      <td>B</td>\n",
       "      <td>7.76</td>\n",
       "      <td>24.54</td>\n",
       "      <td>47.92</td>\n",
       "      <td>181.0</td>\n",
       "      <td>0.05263</td>\n",
       "      <td>0.04362</td>\n",
       "      <td>0.00000</td>\n",
       "      <td>0.00000</td>\n",
       "      <td>0.1587</td>\n",
       "      <td>...</td>\n",
       "      <td>9.456</td>\n",
       "      <td>30.37</td>\n",
       "      <td>59.16</td>\n",
       "      <td>268.6</td>\n",
       "      <td>0.08996</td>\n",
       "      <td>0.06444</td>\n",
       "      <td>0.0000</td>\n",
       "      <td>0.0000</td>\n",
       "      <td>0.2871</td>\n",
       "      <td>0.07039</td>\n",
       "    </tr>\n",
       "  </tbody>\n",
       "</table>\n",
       "<p>569 rows × 31 columns</p>\n",
       "</div>"
      ],
      "text/plain": [
       "    diagnosis  radius_mean  texture_mean  perimeter_mean  area_mean  \\\n",
       "0           M        17.99         10.38          122.80     1001.0   \n",
       "1           M        20.57         17.77          132.90     1326.0   \n",
       "2           M        19.69         21.25          130.00     1203.0   \n",
       "3           M        11.42         20.38           77.58      386.1   \n",
       "4           M        20.29         14.34          135.10     1297.0   \n",
       "..        ...          ...           ...             ...        ...   \n",
       "564         M        21.56         22.39          142.00     1479.0   \n",
       "565         M        20.13         28.25          131.20     1261.0   \n",
       "566         M        16.60         28.08          108.30      858.1   \n",
       "567         M        20.60         29.33          140.10     1265.0   \n",
       "568         B         7.76         24.54           47.92      181.0   \n",
       "\n",
       "     smoothness_mean  compactness_mean  concavity_mean  concave points_mean  \\\n",
       "0            0.11840           0.27760         0.30010              0.14710   \n",
       "1            0.08474           0.07864         0.08690              0.07017   \n",
       "2            0.10960           0.15990         0.19740              0.12790   \n",
       "3            0.14250           0.28390         0.24140              0.10520   \n",
       "4            0.10030           0.13280         0.19800              0.10430   \n",
       "..               ...               ...             ...                  ...   \n",
       "564          0.11100           0.11590         0.24390              0.13890   \n",
       "565          0.09780           0.10340         0.14400              0.09791   \n",
       "566          0.08455           0.10230         0.09251              0.05302   \n",
       "567          0.11780           0.27700         0.35140              0.15200   \n",
       "568          0.05263           0.04362         0.00000              0.00000   \n",
       "\n",
       "     symmetry_mean  ...  radius_worst  texture_worst  perimeter_worst  \\\n",
       "0           0.2419  ...        25.380          17.33           184.60   \n",
       "1           0.1812  ...        24.990          23.41           158.80   \n",
       "2           0.2069  ...        23.570          25.53           152.50   \n",
       "3           0.2597  ...        14.910          26.50            98.87   \n",
       "4           0.1809  ...        22.540          16.67           152.20   \n",
       "..             ...  ...           ...            ...              ...   \n",
       "564         0.1726  ...        25.450          26.40           166.10   \n",
       "565         0.1752  ...        23.690          38.25           155.00   \n",
       "566         0.1590  ...        18.980          34.12           126.70   \n",
       "567         0.2397  ...        25.740          39.42           184.60   \n",
       "568         0.1587  ...         9.456          30.37            59.16   \n",
       "\n",
       "     area_worst  smoothness_worst  compactness_worst  concavity_worst  \\\n",
       "0        2019.0           0.16220            0.66560           0.7119   \n",
       "1        1956.0           0.12380            0.18660           0.2416   \n",
       "2        1709.0           0.14440            0.42450           0.4504   \n",
       "3         567.7           0.20980            0.86630           0.6869   \n",
       "4        1575.0           0.13740            0.20500           0.4000   \n",
       "..          ...               ...                ...              ...   \n",
       "564      2027.0           0.14100            0.21130           0.4107   \n",
       "565      1731.0           0.11660            0.19220           0.3215   \n",
       "566      1124.0           0.11390            0.30940           0.3403   \n",
       "567      1821.0           0.16500            0.86810           0.9387   \n",
       "568       268.6           0.08996            0.06444           0.0000   \n",
       "\n",
       "     concave points_worst  symmetry_worst  fractal_dimension_worst  \n",
       "0                  0.2654          0.4601                  0.11890  \n",
       "1                  0.1860          0.2750                  0.08902  \n",
       "2                  0.2430          0.3613                  0.08758  \n",
       "3                  0.2575          0.6638                  0.17300  \n",
       "4                  0.1625          0.2364                  0.07678  \n",
       "..                    ...             ...                      ...  \n",
       "564                0.2216          0.2060                  0.07115  \n",
       "565                0.1628          0.2572                  0.06637  \n",
       "566                0.1418          0.2218                  0.07820  \n",
       "567                0.2650          0.4087                  0.12400  \n",
       "568                0.0000          0.2871                  0.07039  \n",
       "\n",
       "[569 rows x 31 columns]"
      ]
     },
     "execution_count": 122,
     "metadata": {},
     "output_type": "execute_result"
    }
   ],
   "source": [
    "data"
   ]
  },
  {
   "cell_type": "markdown",
   "metadata": {},
   "source": [
    "### 2. Plot `texture_mean` over `radius_mean` for both benign and malignant diagnosis\n",
    "\n",
    "- Expected output:\n",
    "![radius](../data/radius.png)"
   ]
  },
  {
   "cell_type": "code",
   "execution_count": 106,
   "metadata": {},
   "outputs": [
    {
     "data": {
      "text/plain": [
       "Text(0, 0.5, 'texture_mean')"
      ]
     },
     "execution_count": 106,
     "metadata": {},
     "output_type": "execute_result"
    },
    {
     "data": {
      "image/png": "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\n",
      "text/plain": [
       "<Figure size 432x288 with 1 Axes>"
      ]
     },
     "metadata": {
      "needs_background": "light"
     },
     "output_type": "display_data"
    }
   ],
   "source": [
    "# Your code here\n",
    "plt.scatter(data['radius_mean'][(data.diagnosis == 'M')],data[\"texture_mean\"][(data.diagnosis == 'M')],marker='o',color='red',label='Malignant',alpha=.5)\n",
    "plt.scatter(data['radius_mean'][(data.diagnosis == 'B')],data[\"texture_mean\"][(data.diagnosis == 'B')],marker='o',color='green',label='Benign',alpha =.5)\n",
    "#plt.scatter(data[\"radius_mean\"],data[\"texture_mean\"],  color='blue')\n",
    "plt.xlabel('radius_mean',size=12)\n",
    "plt.ylabel('texture_mean',size=12)"
   ]
  },
  {
   "cell_type": "markdown",
   "metadata": {},
   "source": [
    "### 3. Comment the code below\n",
    "\n",
    "> Your answer here\n",
    "1. Replace in the column diagnosis \"M\" by 1 and \"B\" by 0.\n",
    "2. Stock the new values(ones and zeros) of the column diagnosis in y.\n",
    "3. Drop the column diagnosis and put the new dataframe without diagnosis in x_data.\n",
    "4. Normalize the new dataframe."
   ]
  },
  {
   "cell_type": "code",
   "execution_count": 107,
   "metadata": {
    "_uuid": "9788627d6183021abe455b2c620c41f2d8ba8143",
    "jupyter": {
     "outputs_hidden": true
    }
   },
   "outputs": [],
   "source": [
    "# %%\n",
    "data.diagnosis = [1 if each == \"M\" else 0 for each in data.diagnosis]\n",
    "y = data.diagnosis.values\n",
    "x_data = data.drop([\"diagnosis\"],axis=1)\n",
    "# %%\n",
    "# normalization \n",
    "x = (x_data - np.min(x_data))/(np.max(x_data)-np.min(x_data))"
   ]
  },
  {
   "cell_type": "markdown",
   "metadata": {},
   "source": [
    "### 4. Split your data into train and test subsets using `train_test_split()` (30% for testing)"
   ]
  },
  {
   "cell_type": "code",
   "execution_count": 108,
   "metadata": {
    "_uuid": "4395f1bf11ade326210c1c263c372f890e2c4336",
    "jupyter": {
     "outputs_hidden": true
    }
   },
   "outputs": [
    {
     "name": "stdout",
     "output_type": "stream",
     "text": [
      "     radius_mean  texture_mean  perimeter_mean  area_mean  smoothness_mean  \\\n",
      "149     0.319892      0.277308        0.306337   0.187275         0.242033   \n",
      "124     0.302381      0.225905        0.292378   0.173913         0.167193   \n",
      "421     0.364854      0.144403        0.376132   0.217434         0.455629   \n",
      "195     0.280610      0.223876        0.267708   0.158176         0.241762   \n",
      "545     0.314213      0.457220        0.299910   0.182269         0.359574   \n",
      "..           ...           ...             ...        ...              ...   \n",
      "71      0.090255      0.166723        0.103656   0.042630         0.408053   \n",
      "106     0.220503      0.291512        0.216847   0.114104         0.555836   \n",
      "270     0.345923      0.240446        0.321401   0.207466         0.105263   \n",
      "435     0.331251      0.335137        0.327068   0.193425         0.481809   \n",
      "102     0.246060      0.365573        0.231014   0.133701         0.248262   \n",
      "\n",
      "     compactness_mean  concavity_mean  concave points_mean  symmetry_mean  \\\n",
      "149          0.136127        0.067502             0.066054       0.208586   \n",
      "124          0.165235        0.189597             0.139165       0.182828   \n",
      "421          0.503711        0.339738             0.313121       0.518182   \n",
      "195          0.105147        0.090745             0.118141       0.388384   \n",
      "545          0.147506        0.069681             0.121421       0.305051   \n",
      "..                ...             ...                  ...            ...   \n",
      "71           0.410159        0.201640             0.142744       0.425253   \n",
      "106          0.252500        0.165651             0.173211       0.374242   \n",
      "270          0.022606        0.016987             0.031064       0.226263   \n",
      "435          0.288080        0.263824             0.321223       0.307576   \n",
      "102          0.064413        0.055834             0.087972       0.342929   \n",
      "\n",
      "     fractal_dimension_mean  ...  radius_worst  texture_worst  \\\n",
      "149                0.122999  ...      0.263607       0.278252   \n",
      "124                0.174179  ...      0.225187       0.285981   \n",
      "421                0.507582  ...      0.303451       0.168443   \n",
      "195                0.141323  ...      0.211668       0.265991   \n",
      "545                0.169545  ...      0.263963       0.454957   \n",
      "..                      ...  ...           ...            ...   \n",
      "71                 0.839090  ...      0.064141       0.097281   \n",
      "106                0.320977  ...      0.185343       0.459488   \n",
      "270                0.080034  ...      0.248310       0.230011   \n",
      "435                0.326032  ...      0.324084       0.500533   \n",
      "102                0.143429  ...      0.192458       0.554904   \n",
      "\n",
      "     perimeter_worst  area_worst  smoothness_worst  compactness_worst  \\\n",
      "149         0.232980    0.132889          0.171300           0.150488   \n",
      "124         0.207082    0.109836          0.206894           0.219082   \n",
      "421         0.317197    0.153362          0.396421           0.326193   \n",
      "195         0.201205    0.102094          0.254441           0.119636   \n",
      "545         0.234922    0.133848          0.333025           0.120703   \n",
      "..               ...         ...               ...                ...   \n",
      "71          0.060511    0.024381          0.327082           0.209865   \n",
      "106         0.174810    0.082703          0.644720           0.231598   \n",
      "270         0.219284    0.122739          0.095754           0.022383   \n",
      "435         0.316201    0.168133          0.595192           0.319692   \n",
      "102         0.170178    0.089117          0.271611           0.059503   \n",
      "\n",
      "     concavity_worst  concave points_worst  symmetry_worst  \\\n",
      "149         0.124920              0.206838        0.154741   \n",
      "124         0.264217              0.308522        0.095210   \n",
      "421         0.257109              0.380756        0.248768   \n",
      "195         0.140895              0.282990        0.287601   \n",
      "545         0.083786              0.246529        0.212300   \n",
      "..               ...                   ...             ...   \n",
      "71          0.114537              0.164467        0.135817   \n",
      "106         0.229473              0.418557        0.244628   \n",
      "270         0.030879              0.114536        0.176030   \n",
      "435         0.325000              0.627835        0.318155   \n",
      "102         0.091454              0.255361        0.222551   \n",
      "\n",
      "     fractal_dimension_worst  \n",
      "149                 0.099042  \n",
      "124                 0.139315  \n",
      "421                 0.242949  \n",
      "195                 0.094779  \n",
      "545                 0.095041  \n",
      "..                       ...  \n",
      "71                  0.349993  \n",
      "106                 0.235668  \n",
      "270                 0.040404  \n",
      "435                 0.330972  \n",
      "102                 0.090122  \n",
      "\n",
      "[398 rows x 30 columns]\n",
      "[0 0 0 0 0 1 0 0 0 0 0 0 1 1 1 0 0 1 0 1 0 0 0 0 1 0 0 1 0 0 0 1 0 1 1 0 0\n",
      " 0 1 0 0 0 0 1 0 0 0 0 0 1 0 1 1 0 0 1 0 0 0 0 0 0 0 1 1 1 0 0 1 0 0 1 0 1\n",
      " 0 1 0 1 0 0 1 0 0 0 1 0 1 0 1 0 1 0 0 1 0 0 0 0 1 0 0 0 1 0 0 1 0 0 1 0 0\n",
      " 0 0 0 0 0 1 0 0 0 1 0 1 0 0 0 1 0 1 1 0 0 1 0 1 1 1 0 0 0 1 0 0 1 0 1 0 0\n",
      " 0 1 0 1 0 0 1 1 0 0 1 0 1 1 0 1 1 0 0 1 1 1 0 0 0 0 1 0 1 1 1 1 0 0 0 0 0\n",
      " 0 0 0 1 1 0 0 1 0 0 0 0 0 1 0 0 1 1 0 1 0 1 0 0 0 0 0 0 1 0 0 1 0 0 0 0 0\n",
      " 0 1 0 0 1 0 1 1 1 0 1 0 0 1 1 1 0 0 0 0 0 0 0 1 0 0 0 1 0 0 1 1 0 1 0 1 1\n",
      " 0 0 1 0 1 1 0 1 1 0 0 1 0 1 0 0 1 0 0 1 1 1 0 0 0 1 1 0 1 1 0 0 0 1 0 1 1\n",
      " 1 1 0 0 1 0 0 1 1 1 1 1 1 0 0 0 0 0 0 0 1 1 1 1 0 0 0 0 1 0 1 0 0 0 0 0 1\n",
      " 1 1 0 0 1 0 0 1 1 1 1 0 0 1 1 0 0 0 1 1 1 0 0 1 0 0 0 0 1 0 0 0 0 0 0 0 0\n",
      " 0 1 0 0 0 0 0 0 1 0 0 1 0 0 1 1 1 0 1 1 0 1 0 0 0 0 1 0]\n",
      "     radius_mean  texture_mean  perimeter_mean  area_mean  smoothness_mean  \\\n",
      "204     0.259785      0.300643        0.257757   0.143542         0.424483   \n",
      "70      0.565999      0.392289        0.551517   0.418452         0.338178   \n",
      "131     0.401297      0.330402        0.400180   0.256797         0.510698   \n",
      "431     0.256472      0.269530        0.260383   0.137561         0.476393   \n",
      "540     0.215770      0.159959        0.213254   0.110032         0.426198   \n",
      "..           ...           ...             ...        ...              ...   \n",
      "69      0.274457      0.229286        0.259692   0.152280         0.412386   \n",
      "542     0.367220      0.531282        0.351807   0.222736         0.271915   \n",
      "176     0.138341      0.282381        0.143805   0.067402         0.400469   \n",
      "501     0.323678      0.499831        0.335429   0.191898         0.573892   \n",
      "247     0.279663      0.148799        0.284431   0.156394         0.315699   \n",
      "\n",
      "     compactness_mean  concavity_mean  concave points_mean  symmetry_mean  \\\n",
      "204          0.265076        0.187559             0.189911       0.436869   \n",
      "70           0.256181        0.253046             0.395179       0.263636   \n",
      "131          0.315686        0.343486             0.401938       0.439899   \n",
      "431          0.344212        0.181373             0.139115       0.379293   \n",
      "540          0.284093        0.157849             0.128926       0.382828   \n",
      "..                ...             ...                  ...            ...   \n",
      "69           0.101098        0.085590             0.142346       0.267677   \n",
      "542          0.161831        0.096181             0.150447       0.393939   \n",
      "176          0.337464        0.306232             0.184692       0.307576   \n",
      "501          0.456168        0.317948             0.335934       0.613636   \n",
      "247          0.353414        0.321931             0.197813       0.270707   \n",
      "\n",
      "     fractal_dimension_mean  ...  radius_worst  texture_worst  \\\n",
      "204                0.290017  ...      0.250445       0.336354   \n",
      "70                 0.097936  ...      0.602277       0.388060   \n",
      "131                0.168492  ...      0.403059       0.372601   \n",
      "431                0.443555  ...      0.176094       0.290245   \n",
      "540                0.376158  ...      0.154038       0.204158   \n",
      "..                      ...  ...           ...            ...   \n",
      "69                 0.138374  ...      0.196727       0.206290   \n",
      "542                0.144061  ...      0.305229       0.540245   \n",
      "176                0.657119  ...      0.118463       0.329691   \n",
      "501                0.471988  ...      0.287442       0.557569   \n",
      "247                0.297599  ...      0.229811       0.151386   \n",
      "\n",
      "     perimeter_worst  area_worst  smoothness_worst  compactness_worst  \\\n",
      "204         0.227302    0.121092          0.471703           0.204238   \n",
      "70          0.575178    0.413095          0.317837           0.200163   \n",
      "131         0.370985    0.238596          0.550948           0.205790   \n",
      "431         0.195229    0.081252          0.487552           0.228590   \n",
      "540         0.141292    0.066998          0.418213           0.179013   \n",
      "..               ...         ...               ...                ...   \n",
      "69          0.175606    0.090862          0.385855           0.042029   \n",
      "542         0.283829    0.157589          0.230007           0.107023   \n",
      "176         0.112854    0.050383          0.389157           0.259734   \n",
      "501         0.276856    0.148152          0.714720           0.358306   \n",
      "247         0.271876    0.111556          0.358119           0.540996   \n",
      "\n",
      "     concavity_worst  concave points_worst  symmetry_worst  \\\n",
      "204         0.213339              0.348797        0.285630   \n",
      "70          0.214617              0.614777        0.194362   \n",
      "131         0.302796              0.520275        0.250739   \n",
      "431         0.191933              0.253265        0.195348   \n",
      "540         0.143530              0.237732        0.150601   \n",
      "..               ...                   ...             ...   \n",
      "69          0.082987              0.202131        0.161246   \n",
      "542         0.128674              0.376289        0.228070   \n",
      "176         0.278435              0.340550        0.206781   \n",
      "501         0.270048              0.522680        0.411197   \n",
      "247         0.617173              0.536426        0.211709   \n",
      "\n",
      "     fractal_dimension_worst  \n",
      "204                 0.212908  \n",
      "70                  0.071166  \n",
      "131                 0.164961  \n",
      "431                 0.252853  \n",
      "540                 0.172504  \n",
      "..                       ...  \n",
      "69                  0.059425  \n",
      "542                 0.095238  \n",
      "176                 0.401154  \n",
      "501                 0.414929  \n",
      "247                 0.411649  \n",
      "\n",
      "[171 rows x 30 columns]\n",
      "[0 1 1 0 0 1 1 1 0 0 0 1 0 1 0 1 0 0 0 1 1 0 1 0 0 0 0 0 0 1 0 0 0 0 0 0 1\n",
      " 0 1 0 0 1 0 0 0 0 0 0 0 0 1 1 0 0 0 0 0 1 1 0 0 1 1 0 0 0 1 1 0 0 1 1 0 1\n",
      " 0 0 0 1 0 0 1 0 1 1 1 1 1 1 0 0 0 0 0 0 0 0 1 1 0 1 1 0 1 1 0 0 0 1 0 0 1\n",
      " 0 0 1 0 1 0 0 0 1 0 0 0 1 0 1 1 0 0 1 1 1 0 0 0 1 0 0 0 1 0 1 0 0 1 0 1 1\n",
      " 1 0 1 0 0 0 0 1 1 0 0 0 0 0 0 0 1 0 0 0 0 1 0]\n"
     ]
    }
   ],
   "source": [
    "# Your code here\n",
    "from sklearn.model_selection import train_test_split\n",
    "x_train, x_test, y_train, y_test = train_test_split(x, y, test_size=0.30, random_state=42)\n",
    "print(x_train)\n",
    "print(y_train)\n",
    "print(x_test)\n",
    "print(y_test)"
   ]
  },
  {
   "cell_type": "markdown",
   "metadata": {},
   "source": [
    "### 5. KNeighborsClassifier model\n",
    "    a. Comment the code below\n",
    "- Input:\n",
    "```python\n",
    "# knn model\n",
    ">>> from sklearn.neighbors import KNeighborsClassifier\n",
    ">>> knn = KNeighborsClassifier(n_neighbors = 3) # n_neighbors = k\n",
    ">>> knn.fit(x_train,y_train)\n",
    ">>> prediction = knn.predict(x_test)\n",
    ">>> print(\" {} nn score: {} \".format(3,knn.score(x_test,y_test)))\n",
    "```\n",
    "> Your answer here:\n",
    "1. Import the KNeighbors Classifier.\n",
    "2. Generate the model of the KNeighbors Classifier with parameter 3(the model will generate 3 different classes).\n",
    "3. Fit the model to our training dataset.\n",
    "4. Predict the the y values corresponding to x_test data by using the knn classifier.\n",
    "5. Evaluate the accuracy of the model by comparing y_test and the results predicted by the model using knn.score .\n",
    "    \n",
    "    \n",
    "    b. Use the previous code to find the best k value\n",
    "    \n",
    "        - Expected ouput:\n",
    "![kvalue](../data/kvalues.png)\n",
    "    \n",
    "    c. Use the best k value and compute the score\n",
    "        - Expected ouput:\n",
    "\n",
    "```python\n",
    ">>>  3 nn score: 0.9649122807017544 \n",
    "```"
   ]
  },
  {
   "cell_type": "code",
   "execution_count": 109,
   "metadata": {},
   "outputs": [
    {
     "name": "stdout",
     "output_type": "stream",
     "text": [
      " 3 nn score: 0.9707602339181286 \n"
     ]
    }
   ],
   "source": [
    "# Your code here\n",
    "from sklearn.neighbors import KNeighborsClassifier\n",
    "knn = KNeighborsClassifier(n_neighbors = 3) # n_neighbors = k\n",
    "knn.fit(x_train,y_train)\n",
    "prediction = knn.predict(x_test)\n",
    "print(\" {} nn score: {} \".format(3,knn.score(x_test,y_test)))"
   ]
  },
  {
   "cell_type": "code",
   "execution_count": 113,
   "metadata": {},
   "outputs": [
    {
     "name": "stdout",
     "output_type": "stream",
     "text": [
      "[0.9590643274853801, 0.9590643274853801, 0.9707602339181286, 0.9766081871345029, 0.9649122807017544, 0.9649122807017544, 0.9649122807017544, 0.9649122807017544, 0.9649122807017544, 0.9649122807017544, 0.9649122807017544, 0.9707602339181286, 0.9707602339181286, 0.9590643274853801]\n"
     ]
    },
    {
     "data": {
      "text/plain": [
       "Text(0, 0.5, 'accuracy')"
      ]
     },
     "execution_count": 113,
     "metadata": {},
     "output_type": "execute_result"
    },
    {
     "data": {
      "image/png": "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\n",
      "text/plain": [
       "<Figure size 432x288 with 1 Axes>"
      ]
     },
     "metadata": {
      "needs_background": "light"
     },
     "output_type": "display_data"
    }
   ],
   "source": [
    "#Select the k-parameter\n",
    "score_list = []\n",
    "for i in range(1,15):\n",
    "    knn = KNeighborsClassifier(n_neighbors = i) # n_neighbors = k\n",
    "    knn.fit(x_train,y_train)\n",
    "    prediction = knn.predict(x_test)\n",
    "    score = knn.score(x_test,y_test)\n",
    "    score_list.append(score)\n",
    "print(score_list)\n",
    "plt.plot([1,2,3,4,5,6,7,8,9,10,11,12,13,14],score_list)\n",
    "plt.xlabel('k values',size=12)\n",
    "plt.ylabel('accuracy',size=12)\n",
    "#The best value is when k = 4"
   ]
  },
  {
   "cell_type": "markdown",
   "metadata": {
    "_uuid": "784358fdd25cf9021e871d24b44ddab686e38ce2",
    "collapsed": true,
    "jupyter": {
     "outputs_hidden": true
    }
   },
   "source": [
    "### Plot the confusion matrix\n",
    "\n",
    "- Expected output:\n",
    "![matrix](../data/confusion-matrix.png)"
   ]
  },
  {
   "cell_type": "code",
   "execution_count": 115,
   "metadata": {},
   "outputs": [
    {
     "data": {
      "image/png": "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\n",
      "text/plain": [
       "<Figure size 576x576 with 1 Axes>"
      ]
     },
     "metadata": {
      "needs_background": "light"
     },
     "output_type": "display_data"
    }
   ],
   "source": [
    "# Your code here\n",
    "from sklearn.metrics import  confusion_matrix\n",
    "\n",
    "cm = confusion_matrix(y_test, knn.predict(x_test))\n",
    "\n",
    "fig, ax = plt.subplots(figsize=(8, 8))\n",
    "ax.imshow(cm)\n",
    "ax.grid(False)\n",
    "ax.xaxis.set(ticks=(0, 1), ticklabels=('0', '1'))\n",
    "ax.yaxis.set(ticks=(0, 1), ticklabels=('1', '0'))\n",
    "ax.set_ylim(1.5, -0.5)\n",
    "for i in range(2):\n",
    "    for j in range(2):\n",
    "        ax.text(j, i, cm[i, j], ha='center', va='center', color='black')\n",
    "plt.xlabel('y_pred',size=12)\n",
    "plt.ylabel('y_true',size=12)\n",
    "plt.show()"
   ]
  },
  {
   "cell_type": "markdown",
   "metadata": {
    "_uuid": "ef15904c6e89f8ed174fd3c9449742986fdccde9"
   },
   "source": [
    "\n",
    "<a class=\"anchor\" id=\"4.\"></a> \n",
    "# Support Vector Machine (SVM) Classification"
   ]
  },
  {
   "cell_type": "markdown",
   "metadata": {},
   "source": [
    "### 1. Comment the code below\n",
    "> Your answer here\n",
    "1. Replace in the column diagnosis \"M\" by 1 and \"B\" by 0.\n",
    "2. Stock the new values(ones and zeros) of the column diagnosis in y.\n",
    "3. Drop the column diagnosis and put the new dataframe without diagnosis in x_data.\n",
    "4. Normalize the new dataframe."
   ]
  },
  {
   "cell_type": "code",
   "execution_count": 123,
   "metadata": {
    "_uuid": "5e6d3464134cc34ddf92fbcb8b0161b2c2c37d50",
    "code_folding": [],
    "jupyter": {
     "outputs_hidden": true
    }
   },
   "outputs": [],
   "source": [
    "data.diagnosis = [1 if each == \"M\" else 0 for each in data.diagnosis]\n",
    "y = data.diagnosis.values\n",
    "x_data = data.drop([\"diagnosis\"],axis=1)\n",
    "# %%\n",
    "# normalization \n",
    "x = (x_data - np.min(x_data))/(np.max(x_data)-np.min(x_data))"
   ]
  },
  {
   "cell_type": "markdown",
   "metadata": {},
   "source": [
    "\n",
    "2. Use the same splitted data as before and use SVC model to compyte the new score\n",
    "\n",
    "    Expected output:\n",
    "\n",
    "    >>> print accuracy of svm algo:  0.9649122807017544\n",
    "\n"
   ]
  },
  {
   "cell_type": "code",
   "execution_count": 124,
   "metadata": {},
   "outputs": [
    {
     "name": "stdout",
     "output_type": "stream",
     "text": [
      "     radius_mean  texture_mean  perimeter_mean  area_mean  smoothness_mean  \\\n",
      "149     0.319892      0.277308        0.306337   0.187275         0.242033   \n",
      "124     0.302381      0.225905        0.292378   0.173913         0.167193   \n",
      "421     0.364854      0.144403        0.376132   0.217434         0.455629   \n",
      "195     0.280610      0.223876        0.267708   0.158176         0.241762   \n",
      "545     0.314213      0.457220        0.299910   0.182269         0.359574   \n",
      "..           ...           ...             ...        ...              ...   \n",
      "71      0.090255      0.166723        0.103656   0.042630         0.408053   \n",
      "106     0.220503      0.291512        0.216847   0.114104         0.555836   \n",
      "270     0.345923      0.240446        0.321401   0.207466         0.105263   \n",
      "435     0.331251      0.335137        0.327068   0.193425         0.481809   \n",
      "102     0.246060      0.365573        0.231014   0.133701         0.248262   \n",
      "\n",
      "     compactness_mean  concavity_mean  concave points_mean  symmetry_mean  \\\n",
      "149          0.136127        0.067502             0.066054       0.208586   \n",
      "124          0.165235        0.189597             0.139165       0.182828   \n",
      "421          0.503711        0.339738             0.313121       0.518182   \n",
      "195          0.105147        0.090745             0.118141       0.388384   \n",
      "545          0.147506        0.069681             0.121421       0.305051   \n",
      "..                ...             ...                  ...            ...   \n",
      "71           0.410159        0.201640             0.142744       0.425253   \n",
      "106          0.252500        0.165651             0.173211       0.374242   \n",
      "270          0.022606        0.016987             0.031064       0.226263   \n",
      "435          0.288080        0.263824             0.321223       0.307576   \n",
      "102          0.064413        0.055834             0.087972       0.342929   \n",
      "\n",
      "     fractal_dimension_mean  ...  radius_worst  texture_worst  \\\n",
      "149                0.122999  ...      0.263607       0.278252   \n",
      "124                0.174179  ...      0.225187       0.285981   \n",
      "421                0.507582  ...      0.303451       0.168443   \n",
      "195                0.141323  ...      0.211668       0.265991   \n",
      "545                0.169545  ...      0.263963       0.454957   \n",
      "..                      ...  ...           ...            ...   \n",
      "71                 0.839090  ...      0.064141       0.097281   \n",
      "106                0.320977  ...      0.185343       0.459488   \n",
      "270                0.080034  ...      0.248310       0.230011   \n",
      "435                0.326032  ...      0.324084       0.500533   \n",
      "102                0.143429  ...      0.192458       0.554904   \n",
      "\n",
      "     perimeter_worst  area_worst  smoothness_worst  compactness_worst  \\\n",
      "149         0.232980    0.132889          0.171300           0.150488   \n",
      "124         0.207082    0.109836          0.206894           0.219082   \n",
      "421         0.317197    0.153362          0.396421           0.326193   \n",
      "195         0.201205    0.102094          0.254441           0.119636   \n",
      "545         0.234922    0.133848          0.333025           0.120703   \n",
      "..               ...         ...               ...                ...   \n",
      "71          0.060511    0.024381          0.327082           0.209865   \n",
      "106         0.174810    0.082703          0.644720           0.231598   \n",
      "270         0.219284    0.122739          0.095754           0.022383   \n",
      "435         0.316201    0.168133          0.595192           0.319692   \n",
      "102         0.170178    0.089117          0.271611           0.059503   \n",
      "\n",
      "     concavity_worst  concave points_worst  symmetry_worst  \\\n",
      "149         0.124920              0.206838        0.154741   \n",
      "124         0.264217              0.308522        0.095210   \n",
      "421         0.257109              0.380756        0.248768   \n",
      "195         0.140895              0.282990        0.287601   \n",
      "545         0.083786              0.246529        0.212300   \n",
      "..               ...                   ...             ...   \n",
      "71          0.114537              0.164467        0.135817   \n",
      "106         0.229473              0.418557        0.244628   \n",
      "270         0.030879              0.114536        0.176030   \n",
      "435         0.325000              0.627835        0.318155   \n",
      "102         0.091454              0.255361        0.222551   \n",
      "\n",
      "     fractal_dimension_worst  \n",
      "149                 0.099042  \n",
      "124                 0.139315  \n",
      "421                 0.242949  \n",
      "195                 0.094779  \n",
      "545                 0.095041  \n",
      "..                       ...  \n",
      "71                  0.349993  \n",
      "106                 0.235668  \n",
      "270                 0.040404  \n",
      "435                 0.330972  \n",
      "102                 0.090122  \n",
      "\n",
      "[398 rows x 30 columns]\n",
      "[0 0 0 0 0 1 0 0 0 0 0 0 1 1 1 0 0 1 0 1 0 0 0 0 1 0 0 1 0 0 0 1 0 1 1 0 0\n",
      " 0 1 0 0 0 0 1 0 0 0 0 0 1 0 1 1 0 0 1 0 0 0 0 0 0 0 1 1 1 0 0 1 0 0 1 0 1\n",
      " 0 1 0 1 0 0 1 0 0 0 1 0 1 0 1 0 1 0 0 1 0 0 0 0 1 0 0 0 1 0 0 1 0 0 1 0 0\n",
      " 0 0 0 0 0 1 0 0 0 1 0 1 0 0 0 1 0 1 1 0 0 1 0 1 1 1 0 0 0 1 0 0 1 0 1 0 0\n",
      " 0 1 0 1 0 0 1 1 0 0 1 0 1 1 0 1 1 0 0 1 1 1 0 0 0 0 1 0 1 1 1 1 0 0 0 0 0\n",
      " 0 0 0 1 1 0 0 1 0 0 0 0 0 1 0 0 1 1 0 1 0 1 0 0 0 0 0 0 1 0 0 1 0 0 0 0 0\n",
      " 0 1 0 0 1 0 1 1 1 0 1 0 0 1 1 1 0 0 0 0 0 0 0 1 0 0 0 1 0 0 1 1 0 1 0 1 1\n",
      " 0 0 1 0 1 1 0 1 1 0 0 1 0 1 0 0 1 0 0 1 1 1 0 0 0 1 1 0 1 1 0 0 0 1 0 1 1\n",
      " 1 1 0 0 1 0 0 1 1 1 1 1 1 0 0 0 0 0 0 0 1 1 1 1 0 0 0 0 1 0 1 0 0 0 0 0 1\n",
      " 1 1 0 0 1 0 0 1 1 1 1 0 0 1 1 0 0 0 1 1 1 0 0 1 0 0 0 0 1 0 0 0 0 0 0 0 0\n",
      " 0 1 0 0 0 0 0 0 1 0 0 1 0 0 1 1 1 0 1 1 0 1 0 0 0 0 1 0]\n",
      "     radius_mean  texture_mean  perimeter_mean  area_mean  smoothness_mean  \\\n",
      "204     0.259785      0.300643        0.257757   0.143542         0.424483   \n",
      "70      0.565999      0.392289        0.551517   0.418452         0.338178   \n",
      "131     0.401297      0.330402        0.400180   0.256797         0.510698   \n",
      "431     0.256472      0.269530        0.260383   0.137561         0.476393   \n",
      "540     0.215770      0.159959        0.213254   0.110032         0.426198   \n",
      "..           ...           ...             ...        ...              ...   \n",
      "69      0.274457      0.229286        0.259692   0.152280         0.412386   \n",
      "542     0.367220      0.531282        0.351807   0.222736         0.271915   \n",
      "176     0.138341      0.282381        0.143805   0.067402         0.400469   \n",
      "501     0.323678      0.499831        0.335429   0.191898         0.573892   \n",
      "247     0.279663      0.148799        0.284431   0.156394         0.315699   \n",
      "\n",
      "     compactness_mean  concavity_mean  concave points_mean  symmetry_mean  \\\n",
      "204          0.265076        0.187559             0.189911       0.436869   \n",
      "70           0.256181        0.253046             0.395179       0.263636   \n",
      "131          0.315686        0.343486             0.401938       0.439899   \n",
      "431          0.344212        0.181373             0.139115       0.379293   \n",
      "540          0.284093        0.157849             0.128926       0.382828   \n",
      "..                ...             ...                  ...            ...   \n",
      "69           0.101098        0.085590             0.142346       0.267677   \n",
      "542          0.161831        0.096181             0.150447       0.393939   \n",
      "176          0.337464        0.306232             0.184692       0.307576   \n",
      "501          0.456168        0.317948             0.335934       0.613636   \n",
      "247          0.353414        0.321931             0.197813       0.270707   \n",
      "\n",
      "     fractal_dimension_mean  ...  radius_worst  texture_worst  \\\n",
      "204                0.290017  ...      0.250445       0.336354   \n",
      "70                 0.097936  ...      0.602277       0.388060   \n",
      "131                0.168492  ...      0.403059       0.372601   \n",
      "431                0.443555  ...      0.176094       0.290245   \n",
      "540                0.376158  ...      0.154038       0.204158   \n",
      "..                      ...  ...           ...            ...   \n",
      "69                 0.138374  ...      0.196727       0.206290   \n",
      "542                0.144061  ...      0.305229       0.540245   \n",
      "176                0.657119  ...      0.118463       0.329691   \n",
      "501                0.471988  ...      0.287442       0.557569   \n",
      "247                0.297599  ...      0.229811       0.151386   \n",
      "\n",
      "     perimeter_worst  area_worst  smoothness_worst  compactness_worst  \\\n",
      "204         0.227302    0.121092          0.471703           0.204238   \n",
      "70          0.575178    0.413095          0.317837           0.200163   \n",
      "131         0.370985    0.238596          0.550948           0.205790   \n",
      "431         0.195229    0.081252          0.487552           0.228590   \n",
      "540         0.141292    0.066998          0.418213           0.179013   \n",
      "..               ...         ...               ...                ...   \n",
      "69          0.175606    0.090862          0.385855           0.042029   \n",
      "542         0.283829    0.157589          0.230007           0.107023   \n",
      "176         0.112854    0.050383          0.389157           0.259734   \n",
      "501         0.276856    0.148152          0.714720           0.358306   \n",
      "247         0.271876    0.111556          0.358119           0.540996   \n",
      "\n",
      "     concavity_worst  concave points_worst  symmetry_worst  \\\n",
      "204         0.213339              0.348797        0.285630   \n",
      "70          0.214617              0.614777        0.194362   \n",
      "131         0.302796              0.520275        0.250739   \n",
      "431         0.191933              0.253265        0.195348   \n",
      "540         0.143530              0.237732        0.150601   \n",
      "..               ...                   ...             ...   \n",
      "69          0.082987              0.202131        0.161246   \n",
      "542         0.128674              0.376289        0.228070   \n",
      "176         0.278435              0.340550        0.206781   \n",
      "501         0.270048              0.522680        0.411197   \n",
      "247         0.617173              0.536426        0.211709   \n",
      "\n",
      "     fractal_dimension_worst  \n",
      "204                 0.212908  \n",
      "70                  0.071166  \n",
      "131                 0.164961  \n",
      "431                 0.252853  \n",
      "540                 0.172504  \n",
      "..                       ...  \n",
      "69                  0.059425  \n",
      "542                 0.095238  \n",
      "176                 0.401154  \n",
      "501                 0.414929  \n",
      "247                 0.411649  \n",
      "\n",
      "[171 rows x 30 columns]\n",
      "[0 1 1 0 0 1 1 1 0 0 0 1 0 1 0 1 0 0 0 1 1 0 1 0 0 0 0 0 0 1 0 0 0 0 0 0 1\n",
      " 0 1 0 0 1 0 0 0 0 0 0 0 0 1 1 0 0 0 0 0 1 1 0 0 1 1 0 0 0 1 1 0 0 1 1 0 1\n",
      " 0 0 0 1 0 0 1 0 1 1 1 1 1 1 0 0 0 0 0 0 0 0 1 1 0 1 1 0 1 1 0 0 0 1 0 0 1\n",
      " 0 0 1 0 1 0 0 0 1 0 0 0 1 0 1 1 0 0 1 1 1 0 0 0 1 0 0 0 1 0 1 0 0 1 0 1 1\n",
      " 1 0 1 0 0 0 0 1 1 0 0 0 0 0 0 0 1 0 0 0 0 1 0]\n"
     ]
    }
   ],
   "source": [
    "# Your code here\n",
    "from sklearn.model_selection import train_test_split\n",
    "x_train, x_test, y_train, y_test = train_test_split(x, y, test_size=0.30, random_state=42)\n",
    "print(x_train)\n",
    "print(y_train)\n",
    "print(x_test)\n",
    "print(y_test)"
   ]
  },
  {
   "cell_type": "code",
   "execution_count": 125,
   "metadata": {},
   "outputs": [
    {
     "name": "stdout",
     "output_type": "stream",
     "text": [
      "Accuracy: 0.9883040935672515\n"
     ]
    }
   ],
   "source": [
    "from sklearn import svm\n",
    "\n",
    "classifier = svm.SVC(kernel='linear')\n",
    " \n",
    "classifier.fit(X_train, y_train)\n",
    "y_pred = classifier.predict(X_test)\n",
    "\n",
    "from sklearn import metrics\n",
    "print(\"Accuracy:\",metrics.accuracy_score(y_test, y_pred))"
   ]
  },
  {
   "cell_type": "markdown",
   "metadata": {
    "_uuid": "33a98c07e6d110a797f25912e0a6eb23ab2e4ff0",
    "collapsed": true,
    "jupyter": {
     "outputs_hidden": true
    }
   },
   "source": [
    "### 3. Plot the confusion matrix\n",
    "- Expected output:\n",
    "\n",
    "![confusion-matrix](../data/confusion-matrix-svm.png)"
   ]
  },
  {
   "cell_type": "code",
   "execution_count": 126,
   "metadata": {},
   "outputs": [
    {
     "data": {
      "image/png": "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\n",
      "text/plain": [
       "<Figure size 576x576 with 1 Axes>"
      ]
     },
     "metadata": {
      "needs_background": "light"
     },
     "output_type": "display_data"
    }
   ],
   "source": [
    "# Your code here\n",
    "from sklearn.metrics import  confusion_matrix\n",
    "\n",
    "cm = confusion_matrix(y_test, classifier.predict(x_test))\n",
    "\n",
    "fig, ax = plt.subplots(figsize=(8, 8))\n",
    "ax.imshow(cm)\n",
    "ax.grid(False)\n",
    "ax.xaxis.set(ticks=(0, 1), ticklabels=('0', '1'))\n",
    "ax.yaxis.set(ticks=(0, 1), ticklabels=('1', '0'))\n",
    "ax.set_ylim(1.5, -0.5)\n",
    "for i in range(2):\n",
    "    for j in range(2):\n",
    "        ax.text(j, i, cm[i, j], ha='center', va='center', color='black')\n",
    "plt.xlabel('y_pred',size=12)\n",
    "plt.ylabel('y_true',size=12)\n",
    "plt.show()"
   ]
  },
  {
   "cell_type": "markdown",
   "metadata": {
    "_uuid": "ea721f4e2c16e11f55a10928efc310d7a943fe8b"
   },
   "source": [
    "# Clustering\n",
    "<a class=\"anchor\" id=\"5.\"></a> \n",
    "# K-Means Clustering"
   ]
  },
  {
   "cell_type": "code",
   "execution_count": 141,
   "metadata": {
    "_uuid": "a9e2daf47111b65cfbf86cf79320e111a772aeca",
    "jupyter": {
     "outputs_hidden": true
    }
   },
   "outputs": [
    {
     "data": {
      "text/plain": [
       "array([35.0013028 , 29.8934785 , 24.52319786, 24.88557805, 33.11072728,\n",
       "       31.54289448, 19.07845244, 27.36766517, 24.93955248, 22.02915055,\n",
       "       24.91617338, 24.56229582, 31.84821642, 22.34922524, 24.87828388,\n",
       "       26.11609885, 28.97952088, 25.32249821, 30.46311943, 30.08411975,\n",
       "       22.85117781, 14.08059775, 26.01667141, 26.73669596, 18.92239221,\n",
       "       25.07545841, 21.41522444, 29.91766451, 19.70144474, 25.38934008,\n",
       "       26.47537879, 24.13976547, 27.02555399, 19.07493361, 25.09791608,\n",
       "       22.49454258, 29.17075943, 32.4826037 , 23.76424167, 20.22917271,\n",
       "       15.98135179, 16.68004068, 27.444179  , 18.05177637, 20.77492665,\n",
       "       15.0656423 , 28.63713936, 24.31088382, 38.75341973, 28.54953717,\n",
       "       26.85068338, 31.77273353, 24.13977039, 27.03415683, 19.83112252,\n",
       "       18.93989138, 27.40915696, 32.31723342, 27.12936169, 27.53475744,\n",
       "       23.45014659, 27.29770154, 27.15159391, 26.67084635, 18.18859591,\n",
       "       13.60341956, 18.72183551, 21.63477666, 14.8299215 , 26.05625999,\n",
       "       19.37515389, 22.50747668, 35.43777477, 25.03713721, 19.23681891,\n",
       "       20.59931429, 24.14951319, 26.00850077, 26.57801532, 16.18406833,\n",
       "       22.76224478, 24.65599235, 24.97436771, 21.89322002, 30.63864141,\n",
       "       15.1256923 , 24.56855917, 31.12203539, 26.66403456, 18.09704117,\n",
       "       31.28654437, 29.54454142, 25.90157709, 31.030994  , 25.06538366,\n",
       "       24.09068844, 19.55306861, 33.60207041, 30.64352448, 15.67398061,\n",
       "       24.42361509, 25.77698979, 21.92708828, 33.4441442 , 25.98284061,\n",
       "       23.89063646, 29.95120594, 16.73101042, 18.14198023, 17.47687819,\n",
       "       29.17142684, 28.46160959, 28.84997362, 33.40848428, 37.88776839,\n",
       "       26.89388238, 29.0612179 , 23.46537988, 25.48379365, 19.75091487,\n",
       "       17.20525323, 18.6886474 , 29.81540183, 25.18559051, 29.33224191,\n",
       "       26.77842503, 24.30652801, 24.0740311 , 28.40944705, 20.25231565,\n",
       "       25.70202768, 23.73319355, 20.80178635, 30.20506329, 23.72096696,\n",
       "       20.75825468, 29.68205842, 33.97826834, 30.97715393, 25.54045259,\n",
       "       36.0860738 , 20.09085419, 32.69673798, 24.49674595, 28.42615282,\n",
       "       22.54266914, 26.84469186, 17.57396   , 28.92007281, 20.23137729,\n",
       "       29.13702195, 32.37466036, 30.21997137, 19.82208879, 20.48101575,\n",
       "       30.93762774, 32.31005734, 25.22950487, 23.47957782, 23.63609342,\n",
       "       25.01884572, 22.4372914 , 29.46413698, 26.28957243, 18.92355317,\n",
       "       26.26134208, 25.06199416, 21.36425136, 23.283059  , 28.62338259,\n",
       "       27.68524759, 32.82663294, 17.23137296, 17.17722312, 28.37340093,\n",
       "       12.93162718, 27.7939898 , 23.01507158, 20.29472037, 32.63008819,\n",
       "       31.76510051, 26.38269622, 27.65461633, 20.27079492, 18.88233848,\n",
       "       24.16299726, 23.63595221, 26.07725239, 17.54804753, 25.45342523,\n",
       "       30.16772597, 26.65821373, 25.05698898, 26.72678502, 26.86881697,\n",
       "       31.73433925, 28.52362085, 33.82190198, 27.51947254, 25.11543082,\n",
       "       26.26987709, 25.0833946 , 36.53941001, 18.67429015, 27.12612037,\n",
       "       25.40539338, 30.83015219, 17.87981251, 30.02154036, 27.24139282,\n",
       "       33.52181566, 25.39560861, 23.37788705, 22.0437747 , 26.92086332,\n",
       "       21.22731096, 27.96823389, 35.46247716, 25.11330013, 25.09876505,\n",
       "       33.8810629 , 12.14595114, 27.87068557, 26.74698128, 24.7912341 ,\n",
       "       25.78624268, 19.41813216, 19.18970659, 29.07105713, 28.21985097,\n",
       "       25.59886295, 27.47240595, 25.96327688, 25.92204562, 16.68452671,\n",
       "       25.03786387, 36.41505523, 32.65185129, 25.4247602 , 33.66251287,\n",
       "       25.1428867 , 10.64261525, 32.37360224, 31.99696855, 28.24185494,\n",
       "       32.76362962, 24.34239987, 32.76921396, 17.527294  , 19.48724225,\n",
       "       25.11298747, 23.67318751, 20.14694674, 23.21945241, 28.13442303,\n",
       "       22.7045153 , 29.41827472, 32.80563043, 25.66775521, 16.24102149,\n",
       "       24.01251779, 17.58346205, 22.95911789, 21.74565776, 20.5766668 ,\n",
       "       30.42875954, 23.12760692, 25.83973062, 20.30317433, 25.27660091,\n",
       "       35.80893407, 25.61685525, 22.22010807, 27.87789989, 26.25358411,\n",
       "       30.19788406, 14.76260204, 23.71885336, 18.3866921 , 27.30221256,\n",
       "       25.28714315, 20.4425135 , 22.01584192, 34.40998757, 34.815089  ,\n",
       "       19.53748304, 22.7123316 , 23.64352509, 20.3890549 , 26.24264846,\n",
       "       25.41288733, 24.34052055, 26.14802959, 25.34957232, 31.26161744,\n",
       "       26.55253228, 28.44480185, 27.23664748, 23.39985604, 24.96426886,\n",
       "       29.16706814, 27.96058077, 29.22667206, 35.14885493, 19.66132465,\n",
       "       20.74046274, 28.14960138, 20.03842419, 28.1480602 , 22.56287585,\n",
       "       31.67357292, 28.51589497, 21.81675884, 20.68131724, 26.24608973,\n",
       "       13.39913089, 24.04490659, 21.50231159, 26.94997772, 34.73777722,\n",
       "       24.43809813, 25.64551662, 19.05018948, 23.55661274, 22.59153749,\n",
       "       20.11876425, 23.25053783, 17.74795093, 28.54355986, 26.88501212,\n",
       "       19.69159312, 26.73987065, 19.96599503, 25.70702413, 34.98117357,\n",
       "       28.42050099, 28.96035554, 29.33585143, 19.0558694 , 28.10674865,\n",
       "       26.71309705, 20.73365907, 30.72268996, 31.32203652, 28.7555146 ,\n",
       "       22.79601426, 29.45559351, 27.62310061, 24.35999978, 28.92536975,\n",
       "       21.78685347, 25.16978148, 24.95285964, 23.64339595, 25.5596004 ,\n",
       "       26.60067753, 29.64687022, 29.00414349, 29.39198813, 22.91613755,\n",
       "       30.98653237, 27.52388729, 23.85252315, 27.29027547, 24.63274338,\n",
       "       22.59231461, 35.64835787, 15.18295647, 34.80838614, 32.76839445,\n",
       "       26.3088222 , 18.8111333 , 32.92245138, 21.37754018, 27.78873116,\n",
       "       22.96413513, 30.18028259, 21.94731611, 28.62142353, 21.03179131,\n",
       "       34.31085249, 35.62766726, 30.10596869, 26.02286691, 21.64547095,\n",
       "       22.19393037, 27.69842778, 23.26218987, 29.99182285, 25.72841227,\n",
       "       28.55339724, 14.87995171, 27.30271   , 26.83414411, 27.68694149,\n",
       "       26.32292322, 30.03222632, 30.39842319, 14.98817822, 23.5033316 ,\n",
       "       26.41565635, 23.69655853, 25.19453547, 25.9582786 , 23.24817789,\n",
       "       23.0808173 , 37.43537135, 17.08458319, 23.20248239, 26.84777746,\n",
       "       22.12338845, 24.28903764, 31.4626929 , 29.43465614, 21.26218341,\n",
       "       23.8220167 , 21.194341  , 32.20986893, 32.89618467, 20.47887795,\n",
       "       23.92944507, 20.24092904, 23.66777185, 23.1465853 , 31.00386285,\n",
       "       22.31747137, 26.09223557, 34.9612349 , 32.78315365, 26.35125671,\n",
       "       28.8789353 , 34.16025887, 22.2396186 , 25.26950752, 19.83611507,\n",
       "       20.78455967, 22.45368003, 22.03714883, 22.42511401, 23.69031492,\n",
       "       17.63416363, 30.14154071, 20.69236636, 30.17789737, 29.47703638,\n",
       "       20.51987882, 14.7725137 , 21.68441022, 26.59863805, 27.25440394,\n",
       "       32.65477344, 28.89711766, 20.173005  , 24.83796289, 10.75040274,\n",
       "       19.72516337, 14.84626284, 32.15260788, 21.87415436, 34.00666892,\n",
       "       15.90359934, 21.20214399, 28.06916483, 24.52005668, 26.76434431,\n",
       "       23.22900238, 28.23332871, 22.66351954, 28.60127119, 34.09320477,\n",
       "       23.40880341, 23.94075548, 24.84211405, 20.32729423, 12.83141659,\n",
       "       16.27015422, 25.81652147, 37.57703487, 30.8066791 , 22.53183624,\n",
       "       29.3117793 , 24.63694078, 17.14340879, 28.78582929, 18.11440166,\n",
       "       21.66856325, 21.04355291, 19.81835027, 35.73675013, 25.32845489,\n",
       "       24.42383601, 33.15438469, 29.27289101, 27.39797196, 23.09873475,\n",
       "       24.21522471, 22.36271606, 26.3566704 , 22.66475236, 21.62594637,\n",
       "       25.07879571, 22.3179699 , 19.13836194, 26.89506297, 17.66448448,\n",
       "       24.62823708, 30.06798738, 24.91675726, 25.09737772, 28.30520654,\n",
       "       24.24008929, 29.81587261, 24.48208179, 17.41703179, 21.1294571 ,\n",
       "       14.13530165, 31.80415866, 25.16152158, 23.32049742, 24.92292571,\n",
       "       27.63020935, 26.28639583, 24.35030643, 23.24684848, 22.53210343,\n",
       "       19.46610323, 30.22893932, 19.58735229, 14.55494212, 30.00935605,\n",
       "       24.32705255, 20.41164598, 28.14820387, 26.87406423, 24.66248464,\n",
       "       25.82759665, 28.58082817, 29.79386257, 26.79156968, 24.36026549,\n",
       "       32.41822875, 15.7150803 , 20.30535172, 29.6339775 , 22.54875053,\n",
       "       18.99021231, 33.48177848, 39.93829654, 27.47074219, 23.56980879,\n",
       "       28.1643515 , 29.32413171, 29.21919117, 24.55776869, 30.81091396,\n",
       "       28.33441322, 23.42050943, 19.03247622, 27.52718923, 22.77741203,\n",
       "       26.52344643, 22.34391931, 22.25238127, 23.66704651, 22.95161173,\n",
       "       12.87612441, 23.69666562, 25.64533247, 18.81787593, 23.57014755,\n",
       "       22.56156134, 19.48621053, 29.79487553, 25.00400369, 34.48604445,\n",
       "       24.68698803, 23.4875103 , 20.72684916, 32.5076559 , 25.42166551,\n",
       "       18.4795046 , 17.63701702, 19.38784716, 28.23208898, 27.56838751,\n",
       "       25.4073966 , 34.86312385, 29.27033431, 20.55972911, 17.63994178,\n",
       "       28.17008883, 27.7508418 , 26.51924456, 23.3021065 , 23.86708411,\n",
       "       27.19638095, 27.65799175, 30.40056329, 29.54819482, 15.56510181,\n",
       "       21.11192554, 25.18302362, 24.54464077, 28.49409093, 27.73586182,\n",
       "       21.39940563, 25.74549056, 22.70511278, 24.51131706, 28.56066249,\n",
       "       19.53661215, 27.46167167, 23.31540664, 24.74517379, 27.82578006,\n",
       "       20.13585591, 27.26325306, 22.24534801, 19.51150405, 24.83932893,\n",
       "       27.74310105, 28.41004885, 31.7880832 , 24.22829458, 31.00644428,\n",
       "       19.8315229 , 20.66501304, 26.72852956, 22.8728084 , 29.7814801 ,\n",
       "       25.69628126, 30.9728131 , 21.73365486, 20.91139251, 27.4790688 ,\n",
       "       30.9328465 , 20.64147013, 26.57038345, 22.66235212, 27.3782453 ,\n",
       "       25.30787509, 25.05249484, 24.02806066, 28.10490222, 20.29334687,\n",
       "       12.07480561, 26.18107724, 29.27231583, 26.07385934, 30.99180834,\n",
       "       19.69526013, 22.55408412, 28.66872513, 28.96870241, 31.57510516,\n",
       "       23.7822869 , 24.67025543, 19.25068545, 28.40263951, 28.02097013,\n",
       "       24.02076679, 28.97376393, 25.61631771, 26.87934019, 25.90145824,\n",
       "       16.55974582, 23.5107518 , 27.92297255, 30.4102928 , 31.17838303,\n",
       "       25.43945951, 32.94723364, 23.64983524, 21.0634237 , 25.75424018,\n",
       "       35.35334723, 22.45480447, 17.11692811, 13.44890367, 30.0504018 ,\n",
       "       33.2898453 , 25.1304803 , 27.39227798, 33.57231227, 24.65144368,\n",
       "       29.40261614, 22.04942232, 21.98154727, 21.34404139, 16.44500104,\n",
       "       24.83993089, 21.74070587, 20.94073746, 32.7336792 , 25.25874397,\n",
       "       18.38329382, 18.01238426, 24.32131894, 25.11523126, 29.8276888 ,\n",
       "       29.28595022, 17.82778571, 19.44411039, 20.5850807 , 29.46804852,\n",
       "       23.73202866, 24.58986303, 24.58495515, 18.86042075, 31.67943207,\n",
       "       22.57673057, 23.5116536 , 24.2075723 , 25.68212678, 25.9523451 ,\n",
       "       34.05749731, 22.16221373, 29.03042733, 27.90621126, 19.89239911,\n",
       "       19.21026111, 26.41624527, 36.37590706, 23.19314191, 33.62171347,\n",
       "       34.44930729, 25.16872656, 26.14639513, 27.55535455, 18.92399644,\n",
       "       27.60363911, 23.39270574, 38.14739922, 30.51072166, 30.70837974,\n",
       "       20.87457347, 23.5959315 , 27.30209038, 28.43018449, 26.33919852,\n",
       "       23.73021663, 26.94848758, 21.86335461, 34.26066666, 29.82237543,\n",
       "       26.36769389, 26.61959963, 17.76756334, 20.38834656, 23.33707001,\n",
       "       28.24753247, 28.07205094, 24.26115045, 22.74169559, 25.14052934,\n",
       "       14.45071288, 15.58366675, 32.45568515, 27.41918789, 24.57932222,\n",
       "       28.14782532, 23.82023685, 25.82035867, 26.01478469, 26.70025527,\n",
       "       17.41247293, 24.32606511, 25.04172745, 30.85740172, 23.91160642,\n",
       "       25.48526001, 27.93580675, 23.96393744, 31.80014431, 22.66529167,\n",
       "       22.66013818, 23.99737526, 23.67492508, 27.51919485, 17.5368594 ,\n",
       "       29.35369603, 29.39685877, 22.63006528, 26.22817948, 23.63154281,\n",
       "       22.10677827, 33.03590085, 23.87262989, 19.05736346, 20.64473812,\n",
       "       24.97474757, 26.19137274, 32.33396866, 32.23614683, 21.80751777,\n",
       "       22.03394699, 27.92760281, 20.41846889, 22.84532776, 23.22062944,\n",
       "       23.12809525, 22.8545667 , 20.54703015, 32.81419807, 31.40817199,\n",
       "       22.61279341, 26.05050854, 19.49324713, 23.22517899, 28.81252749,\n",
       "       31.2139675 , 24.54192156, 28.40075798, 19.50463926, 28.64935617,\n",
       "       33.58350587, 18.72075154, 19.97828478, 26.74514138, 26.37468028,\n",
       "       27.4712526 , 25.09934175, 21.56555907, 25.76155396, 25.5202978 ,\n",
       "       20.64321896, 25.90907069, 32.39126504, 23.39530727, 28.86837466,\n",
       "       22.89430495, 28.0943647 , 30.24075878, 34.64064879, 19.28031988,\n",
       "       24.53943118, 25.82790484, 23.74618816, 30.47530247, 31.14268751,\n",
       "       21.34753472, 16.6395712 , 26.48287456, 26.53339553, 27.10536459,\n",
       "       35.42006772, 12.42491224, 20.35561588, 14.29462131, 28.0532482 ,\n",
       "       32.86104464, 22.31265222, 26.14096576, 32.95383942, 23.39445887,\n",
       "       24.88483561, 25.93611   , 24.04638695, 32.63693487, 23.60255246,\n",
       "       22.56103113, 20.92662451, 36.57892071, 15.37187316, 29.11578493,\n",
       "       21.9565953 , 34.09505721, 31.19755957, 22.31865281, 25.92138537,\n",
       "       21.53235915, 26.4409632 , 28.9919621 , 25.84940285, 21.11376044,\n",
       "       13.85419836, 34.41657502, 30.04438335, 17.89614211, 21.86766255,\n",
       "       22.72085366, 27.04980836, 32.50816054, 20.4016891 , 12.38975425,\n",
       "       26.25931628, 28.59597656, 25.47311307, 23.03815297, 30.10979008,\n",
       "       27.67819892, 27.05451436, 31.30631776, 25.02164665, 29.96959972,\n",
       "       21.51123514, 24.73998966, 22.12675318, 23.8984206 , 22.02204734,\n",
       "       28.80419031, 20.96950008, 21.04003062, 26.99661797, 28.99887383,\n",
       "       22.78988798, 31.35731046, 12.66338224, 21.23528074, 26.58658556,\n",
       "       31.66083842, 23.33555987, 32.5180108 , 25.05579983, 17.87176838,\n",
       "       26.03569738, 29.94597208, 22.18205033, 24.57036601, 36.4710787 ,\n",
       "       25.86516674, 23.93561795, 11.66424148, 31.72429178, 25.10143608,\n",
       "       29.54834253, 35.22699678, 21.2655174 , 10.65400883, 16.76991761,\n",
       "       17.82307937, 27.97129709, 26.38243363, 24.43663803, 27.37104472,\n",
       "       22.14279892, 24.99154368, 27.66222375, 21.23129461, 21.10155763,\n",
       "       26.4697774 , 19.74748433, 23.19163033, 23.91945229, 21.62383369,\n",
       "       35.32400246, 23.84406743, 20.36505841, 31.19615032, 21.37026658,\n",
       "       24.24580392, 18.01873415, 24.05929705, 20.45411648, 17.54679023,\n",
       "       22.54930708, 24.91027969, 19.31083145, 31.39885525, 24.14502401,\n",
       "       20.4602383 , 18.1151846 , 29.6916658 , 25.19515547, 31.43578677,\n",
       "       31.32239665, 21.3101896 , 24.07887487, 27.48950818, 16.80818883,\n",
       "       31.10918761, 24.61220055, 34.80312871, 32.59529662, 16.11535183,\n",
       "       29.09723113, 32.13198905, 28.71794514, 22.74488599, 15.99068529,\n",
       "       36.61127042, 36.23955061, 25.05539833, 25.34245197, 18.59862165,\n",
       "       22.67812512, 12.90012596, 22.39591139, 28.86798223, 30.70364667,\n",
       "       31.81476673, 25.5166537 , 22.69672107, 28.8983052 , 26.77632193,\n",
       "       23.72435339, 19.27125745, 36.49038718, 26.02032601, 27.99302568])"
      ]
     },
     "execution_count": 141,
     "metadata": {},
     "output_type": "execute_result"
    }
   ],
   "source": [
    "import numpy as np\n",
    "import pandas as pd\n",
    "import matplotlib.pyplot as plt\n",
    "\n",
    "# %% create dataset\n",
    "# class1\n",
    "x1 = np.random.normal(25,5,1000)\n",
    "y1 = np.random.normal(25,5,1000)\n",
    "\n",
    "# class2\n",
    "x2 = np.random.normal(55,5,1000)\n",
    "y2 = np.random.normal(60,5,1000)\n",
    "\n",
    "# class3\n",
    "x3 = np.random.normal(55,5,1000)\n",
    "y3 = np.random.normal(15,5,1000)\n",
    "x1"
   ]
  },
  {
   "cell_type": "markdown",
   "metadata": {},
   "source": [
    "### 1. Concatenating arrays:\n",
    "    - x1, x2, x3 to create x array\n",
    "    - y1, y2, y3 to create y array"
   ]
  },
  {
   "cell_type": "code",
   "execution_count": 140,
   "metadata": {},
   "outputs": [
    {
     "ename": "AxisError",
     "evalue": "axis 1 is out of bounds for array of dimension 1",
     "output_type": "error",
     "traceback": [
      "\u001b[0;31m---------------------------------------------------------------------------\u001b[0m",
      "\u001b[0;31mAxisError\u001b[0m                                 Traceback (most recent call last)",
      "\u001b[0;32m<ipython-input-140-c1626f037a13>\u001b[0m in \u001b[0;36m<module>\u001b[0;34m\u001b[0m\n\u001b[1;32m      1\u001b[0m \u001b[0;31m# Your code here\u001b[0m\u001b[0;34m\u001b[0m\u001b[0;34m\u001b[0m\u001b[0;34m\u001b[0m\u001b[0m\n\u001b[0;32m----> 2\u001b[0;31m \u001b[0mx\u001b[0m \u001b[0;34m=\u001b[0m \u001b[0mnp\u001b[0m\u001b[0;34m.\u001b[0m\u001b[0mconcatenate\u001b[0m\u001b[0;34m(\u001b[0m\u001b[0;34m(\u001b[0m\u001b[0mx1\u001b[0m\u001b[0;34m,\u001b[0m \u001b[0mx2\u001b[0m\u001b[0;34m,\u001b[0m\u001b[0mx3\u001b[0m\u001b[0;34m)\u001b[0m\u001b[0;34m,\u001b[0m \u001b[0maxis\u001b[0m\u001b[0;34m=\u001b[0m\u001b[0;36m1\u001b[0m\u001b[0;34m)\u001b[0m\u001b[0;34m\u001b[0m\u001b[0;34m\u001b[0m\u001b[0m\n\u001b[0m\u001b[1;32m      3\u001b[0m \u001b[0my\u001b[0m \u001b[0;34m=\u001b[0m \u001b[0mnp\u001b[0m\u001b[0;34m.\u001b[0m\u001b[0mconcatenate\u001b[0m\u001b[0;34m(\u001b[0m\u001b[0;34m(\u001b[0m\u001b[0my1\u001b[0m\u001b[0;34m,\u001b[0m \u001b[0my2\u001b[0m\u001b[0;34m,\u001b[0m\u001b[0my3\u001b[0m\u001b[0;34m)\u001b[0m\u001b[0;34m,\u001b[0m \u001b[0maxis\u001b[0m\u001b[0;34m=\u001b[0m\u001b[0;36m1\u001b[0m\u001b[0;34m)\u001b[0m\u001b[0;34m\u001b[0m\u001b[0;34m\u001b[0m\u001b[0m\n\u001b[1;32m      4\u001b[0m \u001b[0;31m#data = np.concatenate((x,y), axis=1)\u001b[0m\u001b[0;34m\u001b[0m\u001b[0;34m\u001b[0m\u001b[0;34m\u001b[0m\u001b[0m\n\u001b[1;32m      5\u001b[0m \u001b[0mx\u001b[0m\u001b[0;34m\u001b[0m\u001b[0;34m\u001b[0m\u001b[0m\n",
      "\u001b[0;32m<__array_function__ internals>\u001b[0m in \u001b[0;36mconcatenate\u001b[0;34m(*args, **kwargs)\u001b[0m\n",
      "\u001b[0;31mAxisError\u001b[0m: axis 1 is out of bounds for array of dimension 1"
     ]
    }
   ],
   "source": [
    "# Your code here\n",
    "x = np.concatenate((x1, x2,x3), axis=1)\n",
    "y = np.concatenate((y1, y2,y3), axis=1)\n",
    "#data = np.concatenate((x,y), axis=1)\n",
    "x"
   ]
  },
  {
   "cell_type": "markdown",
   "metadata": {},
   "source": [
    "### 2. Create new dataframe using x and y arrays\n",
    "\n",
    "- Expected output:\n",
    "```python\n",
    ">>>           x          y\n",
    ">>> 0  31.156168  31.733629\n",
    ">>> 1  23.429376  35.245182\n",
    ">>> 2  18.648253  28.094688\n",
    ">>> 3  31.002996  18.067875\n",
    ">>> 4  20.030422  26.872852\n",
    "```"
   ]
  },
  {
   "cell_type": "code",
   "execution_count": 136,
   "metadata": {},
   "outputs": [
    {
     "ename": "ValueError",
     "evalue": "Shape of passed values is (6000, 1), indices imply (6000, 3000)",
     "output_type": "error",
     "traceback": [
      "\u001b[0;31m---------------------------------------------------------------------------\u001b[0m",
      "\u001b[0;31mValueError\u001b[0m                                Traceback (most recent call last)",
      "\u001b[0;32m~/anaconda3/lib/python3.8/site-packages/pandas/core/internals/managers.py\u001b[0m in \u001b[0;36mcreate_block_manager_from_blocks\u001b[0;34m(blocks, axes)\u001b[0m\n\u001b[1;32m   1661\u001b[0m                 blocks = [\n\u001b[0;32m-> 1662\u001b[0;31m                     \u001b[0mmake_block\u001b[0m\u001b[0;34m(\u001b[0m\u001b[0mvalues\u001b[0m\u001b[0;34m=\u001b[0m\u001b[0mblocks\u001b[0m\u001b[0;34m[\u001b[0m\u001b[0;36m0\u001b[0m\u001b[0;34m]\u001b[0m\u001b[0;34m,\u001b[0m \u001b[0mplacement\u001b[0m\u001b[0;34m=\u001b[0m\u001b[0mslice\u001b[0m\u001b[0;34m(\u001b[0m\u001b[0;36m0\u001b[0m\u001b[0;34m,\u001b[0m \u001b[0mlen\u001b[0m\u001b[0;34m(\u001b[0m\u001b[0maxes\u001b[0m\u001b[0;34m[\u001b[0m\u001b[0;36m0\u001b[0m\u001b[0;34m]\u001b[0m\u001b[0;34m)\u001b[0m\u001b[0;34m)\u001b[0m\u001b[0;34m)\u001b[0m\u001b[0;34m\u001b[0m\u001b[0;34m\u001b[0m\u001b[0m\n\u001b[0m\u001b[1;32m   1663\u001b[0m                 ]\n",
      "\u001b[0;32m~/anaconda3/lib/python3.8/site-packages/pandas/core/internals/blocks.py\u001b[0m in \u001b[0;36mmake_block\u001b[0;34m(values, placement, klass, ndim, dtype)\u001b[0m\n\u001b[1;32m   2721\u001b[0m \u001b[0;34m\u001b[0m\u001b[0m\n\u001b[0;32m-> 2722\u001b[0;31m     \u001b[0;32mreturn\u001b[0m \u001b[0mklass\u001b[0m\u001b[0;34m(\u001b[0m\u001b[0mvalues\u001b[0m\u001b[0;34m,\u001b[0m \u001b[0mndim\u001b[0m\u001b[0;34m=\u001b[0m\u001b[0mndim\u001b[0m\u001b[0;34m,\u001b[0m \u001b[0mplacement\u001b[0m\u001b[0;34m=\u001b[0m\u001b[0mplacement\u001b[0m\u001b[0;34m)\u001b[0m\u001b[0;34m\u001b[0m\u001b[0;34m\u001b[0m\u001b[0m\n\u001b[0m\u001b[1;32m   2723\u001b[0m \u001b[0;34m\u001b[0m\u001b[0m\n",
      "\u001b[0;32m~/anaconda3/lib/python3.8/site-packages/pandas/core/internals/blocks.py\u001b[0m in \u001b[0;36m__init__\u001b[0;34m(self, values, placement, ndim)\u001b[0m\n\u001b[1;32m    129\u001b[0m         \u001b[0;32mif\u001b[0m \u001b[0mself\u001b[0m\u001b[0;34m.\u001b[0m\u001b[0m_validate_ndim\u001b[0m \u001b[0;32mand\u001b[0m \u001b[0mself\u001b[0m\u001b[0;34m.\u001b[0m\u001b[0mndim\u001b[0m \u001b[0;32mand\u001b[0m \u001b[0mlen\u001b[0m\u001b[0;34m(\u001b[0m\u001b[0mself\u001b[0m\u001b[0;34m.\u001b[0m\u001b[0mmgr_locs\u001b[0m\u001b[0;34m)\u001b[0m \u001b[0;34m!=\u001b[0m \u001b[0mlen\u001b[0m\u001b[0;34m(\u001b[0m\u001b[0mself\u001b[0m\u001b[0;34m.\u001b[0m\u001b[0mvalues\u001b[0m\u001b[0;34m)\u001b[0m\u001b[0;34m:\u001b[0m\u001b[0;34m\u001b[0m\u001b[0;34m\u001b[0m\u001b[0m\n\u001b[0;32m--> 130\u001b[0;31m             raise ValueError(\n\u001b[0m\u001b[1;32m    131\u001b[0m                 \u001b[0;34mf\"Wrong number of items passed {len(self.values)}, \"\u001b[0m\u001b[0;34m\u001b[0m\u001b[0;34m\u001b[0m\u001b[0m\n",
      "\u001b[0;31mValueError\u001b[0m: Wrong number of items passed 1, placement implies 3000",
      "\nDuring handling of the above exception, another exception occurred:\n",
      "\u001b[0;31mValueError\u001b[0m                                Traceback (most recent call last)",
      "\u001b[0;32m<ipython-input-136-4b7eb4bd9820>\u001b[0m in \u001b[0;36m<module>\u001b[0;34m\u001b[0m\n\u001b[1;32m      1\u001b[0m \u001b[0;31m# Your code here\u001b[0m\u001b[0;34m\u001b[0m\u001b[0;34m\u001b[0m\u001b[0;34m\u001b[0m\u001b[0m\n\u001b[1;32m      2\u001b[0m \u001b[0mdata\u001b[0m \u001b[0;34m=\u001b[0m \u001b[0mnp\u001b[0m\u001b[0;34m.\u001b[0m\u001b[0mconcatenate\u001b[0m\u001b[0;34m(\u001b[0m\u001b[0;34m(\u001b[0m\u001b[0mx\u001b[0m\u001b[0;34m,\u001b[0m \u001b[0my\u001b[0m\u001b[0;34m)\u001b[0m\u001b[0;34m,\u001b[0m \u001b[0maxis\u001b[0m\u001b[0;34m=\u001b[0m\u001b[0;36m0\u001b[0m\u001b[0;34m)\u001b[0m\u001b[0;34m\u001b[0m\u001b[0;34m\u001b[0m\u001b[0m\n\u001b[0;32m----> 3\u001b[0;31m \u001b[0mdf\u001b[0m \u001b[0;34m=\u001b[0m \u001b[0mpd\u001b[0m\u001b[0;34m.\u001b[0m\u001b[0mDataFrame\u001b[0m\u001b[0;34m(\u001b[0m\u001b[0mdata\u001b[0m\u001b[0;34m=\u001b[0m\u001b[0mdata\u001b[0m\u001b[0;34m,\u001b[0m \u001b[0mcolumns\u001b[0m\u001b[0;34m=\u001b[0m\u001b[0;34m[\u001b[0m\u001b[0mx\u001b[0m\u001b[0;34m,\u001b[0m\u001b[0my\u001b[0m\u001b[0;34m]\u001b[0m\u001b[0;34m)\u001b[0m\u001b[0;34m\u001b[0m\u001b[0;34m\u001b[0m\u001b[0m\n\u001b[0m\u001b[1;32m      4\u001b[0m \u001b[0mdf\u001b[0m\u001b[0;34m\u001b[0m\u001b[0;34m\u001b[0m\u001b[0m\n",
      "\u001b[0;32m~/anaconda3/lib/python3.8/site-packages/pandas/core/frame.py\u001b[0m in \u001b[0;36m__init__\u001b[0;34m(self, data, index, columns, dtype, copy)\u001b[0m\n\u001b[1;32m    495\u001b[0m                 \u001b[0mmgr\u001b[0m \u001b[0;34m=\u001b[0m \u001b[0minit_dict\u001b[0m\u001b[0;34m(\u001b[0m\u001b[0;34m{\u001b[0m\u001b[0mdata\u001b[0m\u001b[0;34m.\u001b[0m\u001b[0mname\u001b[0m\u001b[0;34m:\u001b[0m \u001b[0mdata\u001b[0m\u001b[0;34m}\u001b[0m\u001b[0;34m,\u001b[0m \u001b[0mindex\u001b[0m\u001b[0;34m,\u001b[0m \u001b[0mcolumns\u001b[0m\u001b[0;34m,\u001b[0m \u001b[0mdtype\u001b[0m\u001b[0;34m=\u001b[0m\u001b[0mdtype\u001b[0m\u001b[0;34m)\u001b[0m\u001b[0;34m\u001b[0m\u001b[0;34m\u001b[0m\u001b[0m\n\u001b[1;32m    496\u001b[0m             \u001b[0;32melse\u001b[0m\u001b[0;34m:\u001b[0m\u001b[0;34m\u001b[0m\u001b[0;34m\u001b[0m\u001b[0m\n\u001b[0;32m--> 497\u001b[0;31m                 \u001b[0mmgr\u001b[0m \u001b[0;34m=\u001b[0m \u001b[0minit_ndarray\u001b[0m\u001b[0;34m(\u001b[0m\u001b[0mdata\u001b[0m\u001b[0;34m,\u001b[0m \u001b[0mindex\u001b[0m\u001b[0;34m,\u001b[0m \u001b[0mcolumns\u001b[0m\u001b[0;34m,\u001b[0m \u001b[0mdtype\u001b[0m\u001b[0;34m=\u001b[0m\u001b[0mdtype\u001b[0m\u001b[0;34m,\u001b[0m \u001b[0mcopy\u001b[0m\u001b[0;34m=\u001b[0m\u001b[0mcopy\u001b[0m\u001b[0;34m)\u001b[0m\u001b[0;34m\u001b[0m\u001b[0;34m\u001b[0m\u001b[0m\n\u001b[0m\u001b[1;32m    498\u001b[0m \u001b[0;34m\u001b[0m\u001b[0m\n\u001b[1;32m    499\u001b[0m         \u001b[0;31m# For data is list-like, or Iterable (will consume into list)\u001b[0m\u001b[0;34m\u001b[0m\u001b[0;34m\u001b[0m\u001b[0;34m\u001b[0m\u001b[0m\n",
      "\u001b[0;32m~/anaconda3/lib/python3.8/site-packages/pandas/core/internals/construction.py\u001b[0m in \u001b[0;36minit_ndarray\u001b[0;34m(values, index, columns, dtype, copy)\u001b[0m\n\u001b[1;32m    232\u001b[0m         \u001b[0mblock_values\u001b[0m \u001b[0;34m=\u001b[0m \u001b[0;34m[\u001b[0m\u001b[0mvalues\u001b[0m\u001b[0;34m]\u001b[0m\u001b[0;34m\u001b[0m\u001b[0;34m\u001b[0m\u001b[0m\n\u001b[1;32m    233\u001b[0m \u001b[0;34m\u001b[0m\u001b[0m\n\u001b[0;32m--> 234\u001b[0;31m     \u001b[0;32mreturn\u001b[0m \u001b[0mcreate_block_manager_from_blocks\u001b[0m\u001b[0;34m(\u001b[0m\u001b[0mblock_values\u001b[0m\u001b[0;34m,\u001b[0m \u001b[0;34m[\u001b[0m\u001b[0mcolumns\u001b[0m\u001b[0;34m,\u001b[0m \u001b[0mindex\u001b[0m\u001b[0;34m]\u001b[0m\u001b[0;34m)\u001b[0m\u001b[0;34m\u001b[0m\u001b[0;34m\u001b[0m\u001b[0m\n\u001b[0m\u001b[1;32m    235\u001b[0m \u001b[0;34m\u001b[0m\u001b[0m\n\u001b[1;32m    236\u001b[0m \u001b[0;34m\u001b[0m\u001b[0m\n",
      "\u001b[0;32m~/anaconda3/lib/python3.8/site-packages/pandas/core/internals/managers.py\u001b[0m in \u001b[0;36mcreate_block_manager_from_blocks\u001b[0;34m(blocks, axes)\u001b[0m\n\u001b[1;32m   1670\u001b[0m         \u001b[0mblocks\u001b[0m \u001b[0;34m=\u001b[0m \u001b[0;34m[\u001b[0m\u001b[0mgetattr\u001b[0m\u001b[0;34m(\u001b[0m\u001b[0mb\u001b[0m\u001b[0;34m,\u001b[0m \u001b[0;34m\"values\"\u001b[0m\u001b[0;34m,\u001b[0m \u001b[0mb\u001b[0m\u001b[0;34m)\u001b[0m \u001b[0;32mfor\u001b[0m \u001b[0mb\u001b[0m \u001b[0;32min\u001b[0m \u001b[0mblocks\u001b[0m\u001b[0;34m]\u001b[0m\u001b[0;34m\u001b[0m\u001b[0;34m\u001b[0m\u001b[0m\n\u001b[1;32m   1671\u001b[0m         \u001b[0mtot_items\u001b[0m \u001b[0;34m=\u001b[0m \u001b[0msum\u001b[0m\u001b[0;34m(\u001b[0m\u001b[0mb\u001b[0m\u001b[0;34m.\u001b[0m\u001b[0mshape\u001b[0m\u001b[0;34m[\u001b[0m\u001b[0;36m0\u001b[0m\u001b[0;34m]\u001b[0m \u001b[0;32mfor\u001b[0m \u001b[0mb\u001b[0m \u001b[0;32min\u001b[0m \u001b[0mblocks\u001b[0m\u001b[0;34m)\u001b[0m\u001b[0;34m\u001b[0m\u001b[0;34m\u001b[0m\u001b[0m\n\u001b[0;32m-> 1672\u001b[0;31m         \u001b[0;32mraise\u001b[0m \u001b[0mconstruction_error\u001b[0m\u001b[0;34m(\u001b[0m\u001b[0mtot_items\u001b[0m\u001b[0;34m,\u001b[0m \u001b[0mblocks\u001b[0m\u001b[0;34m[\u001b[0m\u001b[0;36m0\u001b[0m\u001b[0;34m]\u001b[0m\u001b[0;34m.\u001b[0m\u001b[0mshape\u001b[0m\u001b[0;34m[\u001b[0m\u001b[0;36m1\u001b[0m\u001b[0;34m:\u001b[0m\u001b[0;34m]\u001b[0m\u001b[0;34m,\u001b[0m \u001b[0maxes\u001b[0m\u001b[0;34m,\u001b[0m \u001b[0me\u001b[0m\u001b[0;34m)\u001b[0m\u001b[0;34m\u001b[0m\u001b[0;34m\u001b[0m\u001b[0m\n\u001b[0m\u001b[1;32m   1673\u001b[0m \u001b[0;34m\u001b[0m\u001b[0m\n\u001b[1;32m   1674\u001b[0m \u001b[0;34m\u001b[0m\u001b[0m\n",
      "\u001b[0;31mValueError\u001b[0m: Shape of passed values is (6000, 1), indices imply (6000, 3000)"
     ]
    }
   ],
   "source": [
    "# Your code here\n",
    "data = np.concatenate((x, y), axis=0)\n",
    "df = pd.DataFrame(data=data, columns=[x,y])\n",
    "df"
   ]
  },
  {
   "cell_type": "markdown",
   "metadata": {},
   "source": [
    "### 3. Plot the data\n",
    "\n",
    "- Expected output:\n",
    "\n",
    "![kmeans](../data/kmeans-assignment1.png)"
   ]
  },
  {
   "cell_type": "code",
   "execution_count": 143,
   "metadata": {},
   "outputs": [],
   "source": [
    "# Your code here"
   ]
  },
  {
   "cell_type": "markdown",
   "metadata": {},
   "source": [
    "### 4. Using KMeans compute the WCSS for k=1,...k=15 and plot the it\n",
    "- Expected output:\n",
    "\n",
    "![kmeans](../data/kmeans-assignment2.png)    "
   ]
  },
  {
   "cell_type": "code",
   "execution_count": 143,
   "metadata": {},
   "outputs": [],
   "source": [
    "# Your code here"
   ]
  },
  {
   "cell_type": "markdown",
   "metadata": {},
   "source": [
    "### 5. Using k=3 predict the data clusters\n",
    "- Expected output:\n",
    "![kmeans](../data/kmeans-assignment3.png)    "
   ]
  },
  {
   "cell_type": "code",
   "execution_count": 143,
   "metadata": {},
   "outputs": [],
   "source": [
    "# Your code here"
   ]
  },
  {
   "cell_type": "markdown",
   "metadata": {
    "_uuid": "e73c6fbfda2d49616426d8b0640ae631fe0183ee"
   },
   "source": [
    "\n",
    "<a class=\"anchor\" id=\"6.\"></a> \n",
    "# Principal Component Analysis (PCA)"
   ]
  },
  {
   "cell_type": "code",
   "execution_count": 2,
   "metadata": {
    "_uuid": "ad15a3b65cd66ea5196469ba1731ccd2840d11a6",
    "jupyter": {
     "outputs_hidden": true
    }
   },
   "outputs": [
    {
     "name": "stdout",
     "output_type": "stream",
     "text": [
      "<class 'pandas.core.frame.DataFrame'>\n",
      "RangeIndex: 150 entries, 0 to 149\n",
      "Data columns (total 5 columns):\n",
      " #   Column             Non-Null Count  Dtype  \n",
      "---  ------             --------------  -----  \n",
      " 0   sepal length (cm)  150 non-null    float64\n",
      " 1   sepal width (cm)   150 non-null    float64\n",
      " 2   petal length (cm)  150 non-null    float64\n",
      " 3   petal width (cm)   150 non-null    float64\n",
      " 4   sinif              150 non-null    int64  \n",
      "dtypes: float64(4), int64(1)\n",
      "memory usage: 6.0 KB\n",
      "None\n",
      "   sepal length (cm)  sepal width (cm)  petal length (cm)  petal width (cm)  \\\n",
      "0                5.1               3.5                1.4               0.2   \n",
      "1                4.9               3.0                1.4               0.2   \n",
      "2                4.7               3.2                1.3               0.2   \n",
      "3                4.6               3.1                1.5               0.2   \n",
      "4                5.0               3.6                1.4               0.2   \n",
      "\n",
      "   sinif  \n",
      "0      0  \n",
      "1      0  \n",
      "2      0  \n",
      "3      0  \n",
      "4      0  \n"
     ]
    }
   ],
   "source": [
    "from sklearn.datasets import load_iris\n",
    "import pandas as pd\n",
    "# %%\n",
    "iris = load_iris()\n",
    "\n",
    "feature_names = iris.feature_names\n",
    "y = iris.target\n",
    "\n",
    "data = pd.DataFrame(iris.data,columns = feature_names)\n",
    "data[\"sinif\"] = y\n",
    "\n",
    "x = iris.data\n",
    "print(data.info())\n",
    "print(data.head())\n",
    "#print(data.describe())"
   ]
  },
  {
   "cell_type": "code",
   "execution_count": 3,
   "metadata": {
    "_uuid": "fc2602f17179998d2bc471dd943620942394088c",
    "jupyter": {
     "outputs_hidden": true
    }
   },
   "outputs": [
    {
     "name": "stdout",
     "output_type": "stream",
     "text": [
      "variance ratio:  [0.92461872 0.05306648]\n",
      "sum:  0.9776852063187949\n"
     ]
    }
   ],
   "source": [
    "#%% PCA\n",
    "from sklearn.decomposition import PCA\n",
    "pca = PCA(n_components = 2, whiten= True )  # whitten = normalize\n",
    "pca.fit(x)\n",
    "\n",
    "x_pca = pca.transform(x)\n",
    "\n",
    "print(\"variance ratio: \", pca.explained_variance_ratio_)\n",
    "print(\"sum: \",sum(pca.explained_variance_ratio_))"
   ]
  },
  {
   "cell_type": "code",
   "execution_count": 4,
   "metadata": {
    "_uuid": "a11db65273a789f84efa2c955cefaffafb1d8c64",
    "jupyter": {
     "outputs_hidden": true
    }
   },
   "outputs": [
    {
     "data": {
      "image/png": "iVBORw0KGgoAAAANSUhEUgAAAYcAAAEICAYAAAC0+DhzAAAAOXRFWHRTb2Z0d2FyZQBNYXRwbG90bGliIHZlcnNpb24zLjMuMiwgaHR0cHM6Ly9tYXRwbG90bGliLm9yZy8vihELAAAACXBIWXMAAAsTAAALEwEAmpwYAAAqmElEQVR4nO3dfXRU9bkv8O+TIRQiiDrQHi40E3rP8Q0SBaJi32xF0WKtPUet9kSNqM2lqQir11515bZg27TL4+pBz7piS89RuWSquNC+2GtPFdRrba2aWEhAykvbBCPeEkJNQaCQ5Ll/7JlkMrP3zN4ze8/ee+b7WWtWkpnZs39s9uxn/96en6gqiIiIUlX4XQAiIgoeBgciIsrA4EBERBkYHIiIKAODAxERZWBwICKiDL4FBxGZICKvi8hWEdkuIvf6VRYiIhpL/JrnICIC4CRVPSwilQBeAbBcVX9rtc3UqVO1pqamWEUkIioJHR0dB1R1mpNtxnlVmFzUiEqHE39WJh5ZI1VNTQ3a29u9LhoRUUkRkR6n2/ja5yAiERHZAmA/gOdV9TWT9zSJSLuItPf19RW9jERE5cjX4KCqQ6p6LoCZAM4XkTkm71mrqvWqWj9tmqNaERER5SkQo5VU9T0ALwG43N+SEBER4O9opWkickri94kALgHwe7/KQ0REo3zrkAYwHcA6EYnACFJPqurPfSwPEREl+FZzUNVOVZ2rqnWqOkdVv+lXWYiI8hGPAzU1QEWF8TMe97tE7vGz5kBEFFrxONDUBBw5Yvzd02P8DQANDf6Vyy2B6JAmIgqblpbRwJB05IjxfClgcCi2Uq6HEpWRvXudPR82DA7FlKyH9vQAqqP1UAYIotCprnb2fNgwOBRTqddDicpIaytQVTX2uaoq4/lSwOBQTKVeDyUqIw0NwNq1QCwGiBg/164tjc5ogKOViqu62mhKMnueiEKnoaF0gkE61hyKqdTroURUMhgciqnU66FEVDLYrFRspVwPJaKSwZoDERFlYHAgIqIMDA5ERJSBwYGIiDIwOLiB+ZKIKIewXSY4WqlQpZ63l4gKFsbLhKiq32Wwrb6+Xtvb2/0uxlg1NeaznmMxoLu72KUhogDy+zIhIh2qWu9kGzYrFYr5kogohzBeJhgcClXqeXuJqGBhvEwwOBSK+ZKIKIcwXiYYHAqVmi8JACKR0TUagj4cgYiKIoxp1ThayQ3J/+GwDUcgoqIJW1o11hzcwlXeiKiEMDi4JYzDEYiILDA4uCWMwxGIiCwwOLgljMMRiIgsMDi4JYzDEYiILHC0kpvCNhyBiMiCbzUHEfmwiLwoIjtEZLuILPerLERENJafNYdBAP9dVd8UkckAOkTkeVV9y8cyERERfKw5qOq7qvpm4vdDAHYAmOFXeYiIaFQgOqRFpAbAXACvmbzWJCLtItLe19dX9LIREZUj34ODiEwC8BSAFar61/TXVXWtqtarav20adOKX0AiojLka3AQkUoYgSGuqk/7WRYiIhrl52glAfAfAHao6r/6VQ4iIsrkZ83hYwBuBHCxiGxJPBb7WB4iIkrwbSirqr4CQPzaPxERWfO9Q5pMxOPGiuQVFcZPLhpEREXG9BlBE49z0SAi8h1rDkHDRYOIKAAYHIKGiwYRUQAwOLghHgemTjVSdYsYv+fbT8BFg4goABgcChWPA7fcAvT3jz7X3w8sWZJfgOCiQUQUAAwOhWppAY4fz3z+xIn8+gm4aBARBQCDQ6Gy9QXk20/Q0AB0dwPDw8ZPBgYiT3H0eCYGh0Jl6wtgPwFR4CVHj/f0AKqjo8fLPUAwOBSqtRUYPz7z+cpK9hMQhQBHj5tjcChUQwPwyCNANDr6XDQKPPqo/eYg1mmJfMPR4+Y4Q9oNDQ359wtwRjSRr6qrja+d2fPljDUHv7FOS+Qrjh43x+DgN9ZpiXzF0ePmGBz8xhnRVETxrjhqHqhBxb0VqHmgBvEu9m8B2UePl2uXIIOD31inpSKJd8XR9EwTegZ6oFD0DPSg6ZkmBogsynmYK4OD31inpSJp2dyCIyfG9m8dOXEELZvZv2WlnLsEGRy8ZLc+yhnRVAR7B8z7sayep/LuEmRw8Eo510cpkKqnmPdjWT1P5d0lyODglXKuj1IgtS5sRVXl2P6tqsoqtC5k/5aVcu4SZHBwS3oTktmsGqA86qMUSA21DVh75VrEpsQgEMSmxLD2yrVoqGUzppVy7hIUVfW7DLbV19dre3u738XIlD7LGTDOJLNjG4sZ/QpEREUiIh2qWu9kG9Yc3GDWhGQWGMqlPkpEocfg4AY7TUUiQGNjedRHiXxUrpPW3Mbg4AY7QxdUgWef9b4sRGUsSIMEwx6kGBzcYDakwQw7o4k8FZRBgkEKUvlicHBD+pCGSMT8feUwOJrIR0GZtBaUIFUIBge3JGc5r18PnHJK5uvjx7MzmgKtFJLyBWXSWlCCVCF8DQ4i8oiI7BeRbX6WwzXJumR/f+ZrIRoyTOWnVJLyBWXSWlCCVCH8rjk8BuByn8vgHrO6ZNKJE+GqU1JZKZWkfEGZtBaUIFUIX4ODqr4M4KCfZXBVrjpjmOqUFEheNf2EISlfmPJYBiVIFcLvmkNOItIkIu0i0t7X1+d3cbLLVWcMU52SAsfLpp+gJ+UL4+gfsyAVpuGtgQ8OqrpWVetVtX7atGl+Fye7bENa7dYpw3T2UFF52fQT9KR8pTD6J2wBLvDBIVRS65KpIhF7s6PDdvZQUXnZ9BP0pHylMPonbAGOwcFtDQ2ZNYihIWDdOqC5OXutIGxnDxWV100/DbUN6F7RjeGVw+he0V1wYHCzElwKo3/CFuD8Hsr6OIBXAZwhIr0icquf5XGN1UX++9/PXisI29lDRZVv048f8xfcrgSXwuif0AU4VQ3NY/78+RoKIqrGdyL3IxpVjcWMbSIR8/fEYn7/iygg2jrbNLY6prJKNLY6pm2dbTnfX9VapViFkUdVa1XO7QoVi7l/Kre1jX5VYjHj7zBpa1Otqhp7PKqqivPvANCuDq+3vl/wnTxCExysvhn5PIp19lBJiq2OjQkMyUdsdczT/VrdH4mMviffi71bQcKPYONXgMsnOLDPwQuLFxuDm1Ol/51NJBLewdEUKH7NX8jVhJJvs5NbzVV+jf0IwhwMuxgc3BaPG53PmpIuQwS4+GJ7mVsB48wJw9lDgefX/IVcfQT5jr2ws52djnCrz2ls5CjyJAYHt1mtCrdnT+aUyWjU/DMC20NFYePX/IVcM4TtjL0wu8jn2s5ujcDqc4aGOIp8hNN2KD8fgepzSDYeAqMdydn6GlIbW1M/w68eKgqdts42jd4XHek3iN4XtdWx7LQTuxhydVhbfTWi0ezb2e0It9stWCpjQcAO6SIxO3PzPcvCPgSDiqKts03Hf2t8Rsdy5TcrA3GxdyrXfZHVxTsaVa2sHPtcZeXodnY6wq32b/eeLozyCQ5sVspHtuyrZrINyA5TDxX5pmVzC44PHc94/sTwidBlTgXyb3bq788+1sPuXAKuz5Ubg0M+nExK44gjckG20UXJ18K2WE+2+yKri3IkAhxPi5HHjxv3a/E4cPhw5jZW92ap+1+3LvyT7NzG4OBEPA5MnTp2JFI2IqwNkCuyjS6qnlLtScZWP4ON1WinoSHz9yc7kNPX2YpG7d2blUKKbbcxONgVjwNLlpiv8malnOuk5KrWha0YHxmf8XxlRSVaF7a6nrHV75XhrC7W6TktkyIR85beSZPsX+CD2sLrV6JmBge7WlqM1dzs4prR5KKG2gY8ctUjiE4cHf4cnRjFo59/FA21DY4nu+WqFVgFm+X3vVa0C5XZxdppjSLsacn8TNQsareJJADq6+u1vb3dn51XVGRvTopGR2sVFRXGGR2LGWdzUG5BqCTFu+Jo/HEjhjTzChmbEkP3iu6M9zc90zTm4l9VWTUmRXfFvRVQpJ3vnV8EnvkhcOKk0e2qit/8Eo8b92p79xqV89ZW4++ensz3xmJGYAmrmhp3/l0i0qGq9U72zZqDXdmaiGIx4MABoK3N+LYMDxvPcyYNeSx5oTcLDFaT3ew0QZn2cWz+zpjAALiXUd5J04mTGkXYK+9+JmpmcLCrtRWorMx8PrX5iOsxUJGZXegBICIRy8V67DRBmc2sxoD5DVKhFyo3mk5KtUPZzzTfDA52NTQAjz46NuVFNAo88kjhOQGITNgZLWR1oR/WYcvFeuzkWzJbGS463XxuT7YLVSF5jpLDUwupUYSdrzUip7Pm/HwEZoa0lXxzAnBWNKWxuw5DPim5813jwenpa/f92ZY/4dfFnSQK4AxpH9mZgcNmJ7LJ7tDUfBLr5btetNOmG7une7YJb/y6+Fcj4mglNyQbTdPP5GgUePDB0f9NqxFPIqOd2FS24l1xtGxuwd6BvZkjhRIEguGVw5bbVU+pRuvC1oLXf3aD3dPd7OtTVWWdoYZfF+c4WsmK1+38VrmWkjNwkvu3CsScLFf20iedWTHrL2iobUD3im4MrxxG94ruQAQGwFln6sSJo78nZzVbTXjj16U4Sj84FGMWSbaO6NT9mymF8XZUMKtRR6mKsQ6DW+Jx82QC6ad78uuR+t6jR42fpTo8NSxKPzh42c5vp0aQLYNrqYy3o4JlS6znpF8gCOJx4JZbzLvgGhvHnu7Zvp6lOjw1LEo/OHg1i8RujcBqP8mkfACHtpLl8NLYlFjgmotyaWnJzJya9OyzY//O9fUsxeGpYVH6wcGrWSR2awTZ9u9n4hQKFL+W8yyUk6U8gczX/JzkRTk4Hfvq5yOveQ6Fzi2wGmRcyJJTyf3bXdOQykKhy3kWezlQp0t5mp3anPpTHHB7mVAAEQD/DcC3AHws7bX/6XRnhT7yngSX7ywSty7shQYYohzyndhWiGxLeY4fn/l8RYX5V48r5Xovn+CQdZ6DiPw7gCoArwO4EcD/VdWvJl57U1XneVmrSVf0eQ7ZUiK2tpoPznbSY+ZWykUqezUP1KBnIPNcMsvK6pZs8xiWLgUefjjztS9/GVizxpPiUBZezHM4X1X/WVUfAHABgEki8rSIfACAZN+0BGTrLXNjKAXH6pFLnK7n4IZs/QXpHc9J3/8+u9TCIldwGFl6SlUHVbUJwFYALwCY5GXBAiFXb1n6UArA2cgjjtUre24txWknmZ7bst3bWN1XqZZf+ouwyhUc2kXk8tQnVPVeAI8CqCl05yJyuYjsFJE9InJ3oZ/nOid39vmOPOJYvbLl5lKcfox2ynZvk220UdhXZysXWYODqt6gqv8pIhNE5KuJJqWnAEwGcHIhOxaRCICHAHwGwNkAvigiZxfyma5zcmfPpHrkkJvrPuebTK9QVvc2ra3GV8aMF8NUmQnffbYS74nIkwAOAWhLPPVFAKeo6hfy3rHIhQBWqeplib/vAQBV/a7VNoFNvAcwqR45ZroUJ8yT64VRc7PRx5D6tfBiWVGrxH1soR3lZeK9M1T1VlV9MfFoAnCG8yKOMQPA2yl/9yaeG0NEmkSkXUTa+/r6Ctylh5zO5uGtTtlz2k/gVv9EsaxZA6xf706XWravCyvt3rAbHH4nIguSf4jIBQB+XeC+zSqdGbdRqrpWVetVtX7atGkF7tJDxeifoJLipJ/Azf6JYnKjSy3X18XPdZZLmd3gcAGA34hIt4h0A3gVwEUi0iUinXnuuxfAh1P+nglgX56f5T/2T5Q9p3f2TvoJ3OyfCJtcXxem4PCG3T4Hi8zqBlW1yD6X9TPHAdgFYCGAdwC8AeCfVXW71TaB7nNwgv0TJSd5Z596Aa+qrHKtU9hu/0RQF/4pRK6vC/sccvOsz0FVe7I98imsqg4CuB3ALwHsAPBktsDgOzf7CHirU3K8vrO30z8R1qanXOxMN+J0Iff5mpVVVZ9V1dNV9b+qanCnBbvdR8CZ0SUn1wzlQjuT7fRPlGrTk52vC6cLua/0U3a7IVujZ7JGIQKMG2f8zFWz4K1Oycl2Z+/GHb1Z/0TjOY1o2dwyEnDMcisBYwNXGAfJ8eviD1t9DkHhW5+DVaMnYL0SOhs9y0q2PoeWzS2uJ8Uz259ATPslkvth23z58nKeQ3nKtQxoJGK94M+RI8Dy5eG7TaO8ZBt55EVSPLMmJIVC0kaIpzY95Rr1E8ZaBXmHNQcrZrdZqaxqDNnwNq0s5ZtOO9vII6vRS8nP3TuwF6ftvh144Ts4+P8mobraekVbEWOyGmsVpYs1BzflWga0sdGoOTjBuQxlKZ+keLn6KbKtOd29ohvr/34YR3/8b+h/d9LIGIpsuY449YbSMThYsZpeKWIMk1i3Dhgacu9zqWTlkxTPauTR8l8sH6mJOG1CMmskyJVi243Tlc1V4cRmJSvZVmkDrOvouXCVN7IhW7NRqmQndGxKbGyzU5YxFCPbCnDxxcCePdanc6GnKzvBg4HNSm7KZyWTXDiXoWS5nRTP7iI9ycDQvaJ7TE3EznxKVeCFF6wDg5PT1ap2YLcT3MlIcCoOBgcrqYOrgdGRSS0twGmnOf88Ds4uWV7MTDbrp7BiNurJ7N7GjFXtwsnpmm2OaLbmqtTtgNFWWuahDAY2K+WSa9SSHcyZVNLyHY2US/popcPHD6P/aL/t/cTjxr3M3r3GHb3dLjKnp2s+LbB2WmeTTVqp/47qaiPw8R7LGTYreSHbqCW7mDMpMLxYE8GLeQyA0ZHdvaIbwyuH0b2iGw9+5kFHo55SU0qsW5dZk3BrpbZstYNCWmfTaxfMbl9cDA65FDpcg/0MgeF2808y0Fh1HNvtN7CrkKVAzVJQLF3qToqvbInx8l1nOrk9h9j6h81KuVjVmc1EIkbdPfkzFmMdOEDcbP4xS1+Rys103V5qbjYu1snTtqnJWMHNiXxHJGVrsU1uf+ONzG7vBjYrecFuzx5gnK2qwOCg8ZPpIQPFzeYfs3kISRGJjGRDDXK67Hh87HSdoSHjb6dNNvkmxjMb8wHYq12wpdZ7rDnYEY8beZL6MzsDx+AchkBzs+Zgdx5CkGsQ2TqSg3Iac56EO1hz8EpDA3DgANDWNnqbk459C4GXTxqLpPSO7NMm2hvOHOT1FMKw9jLTdftnnN8FCJXkGZl+KyNi5FriGRtoybt3p8topvcv9Az0ICL282oVOmrJTanDYytO2Yuhv8zMeE/QmmwaGvjV8gNrDkl2E8BYJa159lmvS0guSB8eaqe5x6x/YUjt59Vye9RSvtJHaw19+n8Ale+PeQ8rwJTE4AA4G0wdhro4uaqQO387zVZezL0wkxHk6h4HrvwSIqf2ssmGMjA4AM4GU3P4RGi4ddHN987fzjyEbHMv3A4apkGu7nEML6/OWHuZmVSJfQ6As9pAa6v58AnWxQPFrJ+g6ZkmAHA8cqh1YWvWOQ1mBGJrBFS21NxHB4+6Uv6k6inVpqO10oNf+gihZEUaYK2inLDmADirDXD4RChYXXTzGTmUPjM5OjGKihxfHbu1Dasmq/6j/a6VP8nuaC3OSiaAwcGQLQGMmdSkNZzoFkhu5ztK7ch+8DMPYlzEutJtd3gsANtDYpMK6f+wm36D3WoEMDgYWBsoOVZ37m6MHGrZ3ILjQ8dNX3OS7yjeFcdf//bXjOfHR8YjOjFquk2h5U8frQUgo1+D3WoEMDiMYm2gpBQy4S0Xq7v3ZD+D3T6Bls0tODF8IuP5yeMnO87Amg+rzvDFS19xJSEfhRuDA5WkQjKY5uJWrcQqyBw8etDT8idZ9cs8O+EGVqSJuZWInDLLyJpPDiWvFgmyyyo/lEAwvJIpT0sJcysRFUGhd/XJ+Qs9Az0QjF1xx+2mo2y87Jeh8PMlOIjItSKyXUSGRcRRNPMUZ/6QTfmk4QDGtvMDgEJHAoQXTUfZeNkvQ+HnV81hG4B/AvCy53uye8HneoRUIDszms3a+RU60pRUzNTebvVr8J6qNPna5yAiLwG4U1VtdSQ47nNwkgw+DMntKbDs9kOUWjs/11sIh5LscxCRJhFpF5H2vr4+Zxs7merJmT9UALszskutnZ+zqUuXZ8FBRDaJyDaTx1VOPkdV16pqvarWT5s2zVkhnFzwOfOHHEptRjIbdQRkDld1o52/WFlcR/aXpdmI91Sly7PEe6p6iVefbVt1tXlTkdkFnwn1yAGzZiQz6TWCfBccstqvGwn5su4vRxI+J18xCpfANysVxEnOJLMUGo2NRv2YPW2UxqwZKZ1VjSDfkU5W+y00IV9zMzBunHHajxtn/D2yvxzNRk7TklF4+DWU9R9FpBfAhQD+j4j80pMdOc2ZlJpCo7UVWLeOo5fKVK6mm2wJ8Lya0Zxtv/km5GtuBh5+GBhKLGw3NGT8nQwQuZqNmJasdHGGtBWOXipbdkYe+TW72e39jhs3GhhSRSLA4CC/BqWiJEcr+YY9bWXLTtONXxPInO431xwEs8CQ+jybjcoXg4MVjl4qW3aaboqRGM+Mk/3amdcZiZjvJ/k8m43KF5uVrHB2T9nyOyGeW+w0CSX7HNJ9+cvAmjVelo6Kic1KbuItU9kqlZxDdlpG16wxAkGyphCJMDCQgTUHIhPxrnjecxG8+Jx8sDOZklhzIMrB7uxis7kITmcmW6205vWM5iR2JlMhGByobBRysc5nWy8mrDnBllEqBJuVqGxYdTRHJ0YxafykrE0/+XRSl1oGVgovNisRZWE1RLX/aP+YGsGNT98IuVfGNB3lMzO51DKwUnnxLPEeUdBUT6m2zJ6aKnm3n5rUzmrbbBf61oWtpjOtwzbqyUsnTpxAb28vjh075ndRSsKECRMwc+ZMVFZWFvxZDA5UNswu1rkk+wjyudAXmoG1HPT29mLy5MmoqamBiOTegCypKvr7+9Hb24tZs2YV/HlsVqKiK/Z6BElms4ujE6M5t9s7sDfvGdGFZGD1QtCW9Dx27Bii0SgDgwtEBNFo1LVaGDukqajsLqfpZ3nShW1mtBWzSf8AEI0CDz7ozyimHTt24Kyzzir+jkuY2TFlhzQFnt/DO9Ol1ggAYyRRqlLqIzBbmwEA+vuZjZ4yMThQUbm9HoEbkk0/ulKx/p/WFz2ZXrFkSyjMdZ/teeyxx7Bv3z6/i1EUDA5UVEEf3hm0PgI35UooHIps9D53mjA4EHkk7Ent/OpMd4NZOo1Ugc9GbycHeR7ef/99XHHFFTjnnHMwZ84cbNiwAR0dHbjoooswf/58XHbZZXj33XexceNGtLe3o6GhAeeeey6OHj2KzZs3Y+7cuaitrcUtt9yCv/3tbwCAu+++G2effTbq6upw5513AgCeeeYZXHDBBZg7dy4uueQS/PnPfy74kHhKVUPzmD9/vlL4tXW2aWx1TGWVaGx1TNs62/wuki1tnW1a1VqlWIWRR1VrVWjKr6ra1qYajaoaV9fRR1WV8VqxvfXWW/bfHItlFhwwni/Axo0b9bbbbhv5+7333tMLL7xQ9+/fr6qqTzzxhC5ZskRVVS+66CJ94403VFX16NGjOnPmTN25c6eqqt544426evVq7e/v19NPP12Hh4dVVfUvf/mLqqoePHhw5Lkf/vCH+tWvfrWgclsxO6YA2tXh9ZY1Byq6sDbdBK0zPR8NDcCBA0BbWwhzLnm0OmNtbS02bdqEu+66C7/61a/w9ttvY9u2bbj00ktx7rnn4tvf/jZ6e3szttu5cydmzZqF008/HQDQ2NiIl19+GSeffDImTJiA2267DU8//TSqEtW13t5eXHbZZaitrcX999+P7du3F1RurzE4ENkUxM70fDU0GGm7h4eNn4EPDIBnqzOefvrp6OjoQG1tLe655x489dRTmD17NrZs2YItW7agq6sLzz33XMZ2ajENYNy4cXj99ddx9dVX4yc/+Qkuv/xyAMCyZctw++23o6urCz/4wQ8CPyucwYHIpqB3ppc8j3KQ79u3D1VVVbjhhhtw55134rXXXkNfXx9effVVAEaKj+Rd/uTJk3Ho0CEAwJlnnonu7m7s2bMHALB+/XpcdNFFOHz4MAYGBrB48WI88MAD2LJlCwBgYGAAM2bMAACsW7euoDIXA9NnENnEXEk+S1ZvWlqMpqTqaiMwFFjt6erqwte+9jVUVFSgsrISDz/8MMaNG4c77rgDAwMDGBwcxIoVKzB79mzcfPPNWLp0KSZOnIhXX30Vjz76KK699loMDg7ivPPOw9KlS3Hw4EFcddVVOHbsGFQVq1evBgCsWrUK1157LWbMmIEFCxbgT3/6U6FHxFOcIU3kgJ8ru5UizpB2n1szpFlzIHKgobaBwYDKAvsciIgoA4NDLkFLY0lEVARsVsomPY1lckYmEJKxf0RE+WHNIRuzNJbMUEZEZcCX4CAi94vI70WkU0R+LCKn+FGOnDyakUlEFHR+1RyeBzBHVesA7AJwj0/lyM6jGZlkLsxJ7YiSvvGNb2DTpk2Ot3vppZfw2c9+1oMS5ceX4KCqz6nqYOLP3wKY6Uc5cvJoRiZlSq7I1jPQA4WiZ6AHNzx9A6b+y1QGCRoRlBsIVcXw8LDpa9/85jdxySWXeF6GwcHB3G8qQBD6HG4B8AurF0WkSUTaRaS9r6+viMWC0em8dm0IM5SFj1lSOwDoP9qPpmeaGCDI9Aai0HPjrrvuwpo1a0b+XrVqFb73ve/h/vvvx3nnnYe6ujqsXLkSANDd3Y2zzjoLzc3NmDdvHt5++23cfPPNmDNnDmpra0dmQt98883YuHEjAOCNN97ARz/6UZxzzjk4//zzcejQIRw7dgxLlixBbW0t5s6dixdffDGjXAcPHsTnP/951NXVYcGCBejs7BwpX1NTExYtWoSbbrop73+3HZ4FBxHZJCLbTB5XpbynBcAgAMv/XVVdq6r1qlo/bdo0r4prLZQZysInW/K6sGU+JW94kRX3+uuvx4YNG0b+fvLJJzFt2jTs3r0br7/+OrZs2YKOjg68/PLLAIxMrDfddBN+97vf4cCBA3jnnXewbds2dHV1YcmSJWM++/jx47juuuvw4IMPYuvWrdi0aRMmTpyIhx56CICRtuPxxx9HY2NjRhK+lStXYu7cuejs7MR3vvOdMYGgo6MDP/3pT/GjH/0o73+3HZ4NZVXVrPUqEWkE8FkACzVMOTzIE9VTqtEz0GP5ehgzn5K7vMiKO3fuXOzfvx/79u1DX18fTj31VHR2duK5557D3LlzAQCHDx/G7t27UV1djVgshgULFgAAPvKRj+CPf/wjli1bhiuuuAKLFi0a89k7d+7E9OnTcd555wEATj75ZADAK6+8gmXLlgEwkvfFYjHs2rVrzLavvPIKnnrqKQDAxRdfjP7+fgwMDAAAPve5z2HixIl5/5vt8mu00uUA7gLwOVU1WfKcyo3ZCnGpmPmUvMqKe80112Djxo3YsGEDrr/+eqgq7rnnnpGU3Xv27MGtt94KADjppJNGtjv11FOxdetWfOpTn8JDDz2E2267bcznqipEJGN/du6Fzd6T/KzUMnjJrz6H/wVgMoDnRWSLiHzfp3JQQDTUNmDtlWsRnRjNeI2ZTwnwbonZ66+/Hk888QQ2btyIa665BpdddhkeeeQRHD58GADwzjvvYP/+/RnbHThwAMPDw7j66qvxrW99C2+++eaY188880zs27cPb7zxBgDg0KFDGBwcxCc/+UnEE5kWdu3ahb179+KMM84Ys23qe1566SVMnTp1pOZRLL7MkFbVv/djvxRsyaR2zHxKZpLngNvnxuzZs3Ho0CHMmDED06dPx/Tp07Fjxw5ceOGFAIBJkyahra0NkUhkzHbvvPMOlixZMjJq6bvf/e6Y18ePH48NGzZg2bJlOHr0KCZOnIhNmzahubkZS5cuRW1tLcaNG4fHHnsMH/jAB8Zsu2rVKixZsgR1dXWoqqryZf0HpuwmIt8wZbf73ErZHYShrEREFDAMDkRElIHBgYiIMjA4EBFRBgYHIiLKwOBAVCRcVJDChMGBqAiSiwr29ACqo4sKMkAEz759+3DNNdc43m7x4sV47733sr4n33TefuA8B6IiqKkxAkK6WMzI51iunM5ziMeNhRj37jWWVWltLV4uzMHBQYwbF/yVlTnPgShEuKhg4byofVml7J4zZw4A4LHHHsO1116LK6+8EosWLcKRI0fwhS98AXV1dbjuuutwwQUXIHnDWlNTgwMHDoyk9v7Sl76E2bNnY9GiRTh69CiA3Om8u7u78YlPfALz5s3DvHnz8Jvf/Cb/f1yBGByIioCLChbOiyXdzVJ2J7OoJr366qtYt24dXnjhBaxZs2Ykc+vXv/51dHR0mH7u7t278ZWvfAXbt2/HKaecMpJhNckqnfcHP/hBPP/883jzzTexYcMG3HHHHfn/4woU/DoSUQlobTXuclMvblxU0Bkval9mKbur0yL2pZdeitNOOw2AkUp7+fLlAIA5c+agrq7O9HNnzZqFc889FwAwf/58dKe1HVql837//fdx++23Y8uWLYhEIhmpvIuJNQcKpaAsF2kXFxUsnFe1r/SU3elSU2Tb7aNNTaQXiUQylvS0Sue9evVqfOhDH8LWrVvR3t6O48eP2/1nuI7BgULHi+Uii4GLChbGqyXd01N2Z/Pxj38cTz75JADgrbfeQldXV177tErnPTAwgOnTp6OiogLr16/H0NBQXp/vBgYHCh0vlouk4POq9pWesjub5uZm9PX1oa6uDvfddx/q6uowZcoUx/tMTed9zjnn4NJLL8WxY8fQ3NyMdevWYcGCBdi1a1fRFvYxw6GsFDoV91ZAYbJSFgTDK4d9KBHlK2wpu4eGhnDixAlMmDABf/jDH7Bw4ULs2rUL48eP97toI9waysoOaQodq/WmuZQoee3IkSP49Kc/jRMnTkBV8fDDDwcqMLiJwYFCp3VhK5qeaRrTtMSlRKkYJk+ejHJpvWCfA4VOcr3p2JQYBILYlBjWXrmWS4mGVJiatoPOzWPJmgOFUnK9aQq3CRMmoL+/H9Fo1HRoJ9mnqujv78eECRNc+TwGByLyzcyZM9Hb24u+vj6/i1ISJkyYgJkzZ7ryWQwOROSbyspKzJo1y+9ikAn2ORARUQYGByIiysDgQEREGUI1Q1pE+gCYLJlSkKkADrj8mV4LW5nDVl6AZS6GsJUXCF+Zk+WNqeo0JxuGKjh4QUTanU4r91vYyhy28gIsczGErbxA+MpcSHnZrERERBkYHIiIKAODA7DW7wLkIWxlDlt5AZa5GMJWXiB8Zc67vGXf50BERJlYcyAiogwMDkRElKHsgoOIXCsi20VkWEQsh3iJSLeIdInIFhHxNYG7gzJfLiI7RWSPiNxdzDKmleM0EXleRHYnfp5q8T7fj3GuYyaGf0u83iki8/woZ0p5cpX3UyIykDimW0TkG36UM6U8j4jIfhHZZvF6oI5voky5yhy0Y/xhEXlRRHYkrhPLTd7j/Diralk9AJwF4AwALwGoz/K+bgBT/S6v3TIDiAD4A4CPABgPYCuAs30q778AuDvx+90A7gviMbZzzAAsBvALAAJgAYDXAl7eTwH4uV9lNCnzJwHMA7DN4vXAHF8HZQ7aMZ4OYF7i98kAdrlxHpddzUFVd6jqTr/L4YTNMp8PYI+q/lFVjwN4AsBV3pfO1FUA1iV+Xwfg8z6VIxc7x+wqAP9bDb8FcIqIZF+F3jtB+j+2RVVfBnAwy1uCdHwB2CpzoKjqu6r6ZuL3QwB2AJiR9jbHx7nsgoMDCuA5EekQkSa/C2PDDABvp/zdi8wTpFg+pKrvAsaJC+CDFu/z+xjbOWZBOq52y3KhiGwVkV+IyOziFC1vQTq+TgTyGItIDYC5AF5Le8nxcS7J9RxEZBOAvzN5qUVVf2rzYz6mqvtE5IMAnheR3yfuKDzhQpnNltHybJxytvI6+JiiHmMTdo5ZUY9rDnbK8iaMPDqHRWQxgJ8A+AevC1aAIB1fuwJ5jEVkEoCnAKxQ1b+mv2yySdbjXJLBQVUvceEz9iV+7heRH8Oo0nt24XKhzL0APpzy90wA+wr8TEvZyisifxaR6ar6bqLqut/iM4p6jE3YOWZFPa455CxL6kVBVZ8VkTUiMlVVg5osLkjH15YgHmMRqYQRGOKq+rTJWxwfZzYrmRCRk0RkcvJ3AIsAmI5cCJA3APyDiMwSkfEArgfwM5/K8jMAjYnfGwFk1HwCcoztHLOfAbgpMdpjAYCBZJOZD3KWV0T+TsRYjFlEzofxHe8vekntC9LxtSVoxzhRlv8AsENV/9Xibc6Ps9897cV+APhHGFH0bwD+DOCXief/C4BnE79/BMZIkK0AtsNo2gl0mXV0RMIuGCNafCszgCiAzQB2J36eFtRjbHbMACwFsDTxuwB4KPF6F7KMcAtIeW9PHM+tAH4L4KM+l/dxAO8COJE4h28N8vG1WeagHeOPw2gi6gSwJfFYXOhxZvoMIiLKwGYlIiLKwOBAREQZGByIiCgDgwMREWVgcCAiogwMDkQuEZHbE1kvVUSm+l0eokIwOBC559cALgHQ43dBiApVkukziLyUSG72nzCSm82FMSntJlX9XeJ1/wpH5BLWHIjycwaAtapaB+CvAJp9Lg+RqxgciPLztqr+OvF7G4wUBkQlg8GBKD/peWeYh4ZKCoMDUX6qReTCxO9fBPCKn4UhchuDA1F+dgBoFJFOAKcBeFhE7hCRXhi58jtF5N99LSFRAZiVlcihxGiln6vqHL/LQuQV1hyIiCgDaw5ERJSBNQciIsrA4EBERBkYHIiIKAODAxERZWBwICKiDP8fVL95SeLi7yIAAAAASUVORK5CYII=\n",
      "text/plain": [
       "<Figure size 432x288 with 1 Axes>"
      ]
     },
     "metadata": {
      "needs_background": "light"
     },
     "output_type": "display_data"
    }
   ],
   "source": [
    "#%% 2D\n",
    "data[\"p1\"] = x_pca[:,0]\n",
    "data[\"p2\"] = x_pca[:,1]\n",
    "\n",
    "color = [\"red\",\"green\",\"blue\"]\n",
    "\n",
    "import matplotlib.pyplot as plt\n",
    "for each in range(3):\n",
    "    plt.scatter(data.p1[data.sinif == each],data.p2[data.sinif == each],color = color[each],label = iris.target_names[each])\n",
    "    \n",
    "plt.legend()\n",
    "plt.xlabel(\"p1\")\n",
    "plt.ylabel(\"p2\")\n",
    "plt.savefig(\"../data/pca.png\")\n",
    "\n",
    "plt.show()"
   ]
  }
 ],
 "metadata": {
  "hide_input": false,
  "kernelspec": {
   "display_name": "Python 3",
   "language": "python",
   "name": "python3"
  },
  "language_info": {
   "codemirror_mode": {
    "name": "ipython",
    "version": 3
   },
   "file_extension": ".py",
   "mimetype": "text/x-python",
   "name": "python",
   "nbconvert_exporter": "python",
   "pygments_lexer": "ipython3",
   "version": "3.8.5"
  }
 },
 "nbformat": 4,
 "nbformat_minor": 4
}
