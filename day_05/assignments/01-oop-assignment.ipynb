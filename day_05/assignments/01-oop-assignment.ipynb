{
 "cells": [
  {
   "cell_type": "markdown",
   "metadata": {},
   "source": [
    "# Oriented Object Programming Exercices"
   ]
  },
  {
   "cell_type": "markdown",
   "metadata": {},
   "source": [
    "## Exercice 1:\n",
    "\n",
    "- consedering the following code\n",
    "\n",
    "```python\n",
    "import datetime # we will use this for date objects\n",
    "\n",
    "class Person:\n",
    "\n",
    "    def __init__(self, name, surname, birthdate, address, telephone, email):\n",
    "        self.name = name\n",
    "        self.surname = surname\n",
    "        self.birthdate = birthdate\n",
    "\n",
    "        self.address = address\n",
    "        self.telephone = telephone\n",
    "        self.email = email\n",
    "\n",
    "    def age(self):\n",
    "        today = datetime.date.today()\n",
    "        age = today.year - self.birthdate.year\n",
    "\n",
    "        if today < datetime.date(today.year, self.birthdate.month, self.birthdate.day):\n",
    "            age -= 1\n",
    "\n",
    "        return age\n",
    "\n",
    "person = Person(\n",
    "    \"Jane\",\n",
    "    \"Doe\",\n",
    "    datetime.date(1992, 3, 12), # year, month, day\n",
    "    \"No. 12 Short Street, Greenville\",\n",
    "    \"555 456 0987\",\n",
    "    \"jane.doe@example.com\"\n",
    ")\n",
    "\n",
    "print(person.name)\n",
    "print(person.email)\n",
    "print(person.age())\n",
    "```\n",
    "Explain what the following variables refer to, and their scope:\n",
    "1. Person\n",
    "2. person\n",
    "3. surname\n",
    "4. self\n",
    "5. age (the function name)\n",
    "6. age (the variable used inside the function)\n",
    "7. self.email\n",
    "8. person.email"
   ]
  },
  {
   "cell_type": "markdown",
   "metadata": {},
   "source": [
    "### write your answer here\n",
    "1.  Class name\n",
    "\n",
    "2.  an instance of the class Person or an object\n",
    "\n",
    "3.  It's an attribute and we don’t have to assign it to an intermediate variable before using it as a parameter to Person, we can just create it when we call Person.\n",
    "\n",
    "4.  The first parameter that we pass in to a method of the class.We use this variable inside the methods bodies,whenever we call a method on an object, the object itself is automatically passed in as the first parameter which is self .\n",
    "5. It's a function that doesn’t take any parameters except self, it only uses information stored in the object’s attributes, and the current date (which it retrieves using the datetime module).\n",
    "6. It's an attribute created outside of the __init__ function,  we could store an age value on the object from inside the age function.\n",
    "7. it's an attribute set on the object in the __init__ function.We can define attributes inside the __init__ function, or outside it in other functions like the case of the attribute age.\n",
    "8.  person is an instance of the class Person , and email is an attribute of the class Person that is initialized in the __init__ function --> person.email gets the value that was stocked in self.email when person was first created."
   ]
  },
  {
   "cell_type": "markdown",
   "metadata": {},
   "source": [
    "## Exercise 2 \n",
    "Create a Class with instance attributes. Write a Python program to create a Vehicle class with instance attributes: \n",
    " - max_speed\n",
    " - mileage "
   ]
  },
  {
   "cell_type": "code",
   "execution_count": 15,
   "metadata": {},
   "outputs": [],
   "source": [
    "# Your code here\n",
    "class Vehicle:\n",
    "    def __init__(self,max_speed,mileage):\n",
    "        self.max_speed = max_speed\n",
    "        self.mileage = mileage"
   ]
  },
  {
   "cell_type": "markdown",
   "metadata": {},
   "source": [
    "## Exercice 3\n",
    "\n",
    "Create a Vehicle class without any variables and methods "
   ]
  },
  {
   "cell_type": "code",
   "execution_count": 2,
   "metadata": {},
   "outputs": [],
   "source": [
    "# Your code here\n",
    "class Vehicle:\n",
    "    pass"
   ]
  },
  {
   "cell_type": "markdown",
   "metadata": {},
   "source": [
    "## Exercice 4\n",
    "\n",
    "Create a child class Bus that will inherit all of the variables and methods of the Vehicle class\n",
    "- Desired output:\n",
    "```Python\n",
    "#> Vehicle Name: School Volvo Speed: 180 Mileage: 12\n",
    "```"
   ]
  },
  {
   "cell_type": "code",
   "execution_count": 18,
   "metadata": {},
   "outputs": [
    {
     "name": "stdout",
     "output_type": "stream",
     "text": [
      "Vehicle name:  School Volvo Speed 180 Mileage 12\n"
     ]
    }
   ],
   "source": [
    "# Your code here\n",
    "class Bus(Vehicle):\n",
    "    def __init__(self,name,max_speed,mileage):\n",
    "        super().__init__(max_speed,mileage)\n",
    "        self.name = name\n",
    "    def show(self):\n",
    "        print(\"Vehicle name: \",self.name, \"Speed\", self.max_speed ,\"Mileage\", self.mileage )\n",
    "vehicle = Bus('School Volvo',180,12)\n",
    "vehicle.show()"
   ]
  },
  {
   "cell_type": "markdown",
   "metadata": {},
   "source": [
    "## Exercice 5 (Class Inheritance)\n",
    "\n",
    "- Input\n",
    "Create a Bus class that inherits from the Vehicle class. Give the capacity argument of `Bus.seating_capacity()` a default value of 50.\n",
    "\n",
    "Use the following code for your parent Vehicle class.\n",
    "```Python\n",
    "class Vehicle:\n",
    "    def __init__(self, name, max_speed, mileage):\n",
    "        self.name = name\n",
    "        self.max_speed = max_speed\n",
    "        self.mileage = mileage\n",
    "\n",
    "    def seating_capacity(self, capacity):\n",
    "        return f\"The seating capacity of a {self.name} is {capacity} passengers\"\n",
    "```\n",
    "- Desired output:\n",
    "```Python\n",
    "#> The seating capacity of a bus is 50 passengers\n",
    "```"
   ]
  },
  {
   "cell_type": "code",
   "execution_count": 20,
   "metadata": {},
   "outputs": [
    {
     "data": {
      "text/plain": [
       "'The seating capacity of a bus is 50 passengers'"
      ]
     },
     "execution_count": 20,
     "metadata": {},
     "output_type": "execute_result"
    }
   ],
   "source": [
    "# Your code here\n",
    "class Vehicle:\n",
    "    def __init__(self, name, max_speed, mileage):\n",
    "        self.name = name\n",
    "        self.max_speed = max_speed\n",
    "        self.mileage = mileage\n",
    "\n",
    "    def seating_capacity(self, capacity):\n",
    "        return f\"The seating capacity of a {self.name} is {capacity} passengers\"\n",
    "\n",
    "\n",
    "class Bus(Vehicle):\n",
    "    def __init__(self,name,max_speed,mileage):\n",
    "        super().__init__(name,max_speed,mileage)\n",
    "vehicle = Bus('bus',180,12)\n",
    "vehicle.seating_capacity(50)"
   ]
  },
  {
   "cell_type": "markdown",
   "metadata": {},
   "source": [
    "## Exercice 6\n",
    "\n",
    "Define a property that must have the same value for every class instance (object)\n",
    "\n",
    "Define a class attribute `\"color\"` with a default value white. I.e., Every Vehicle should be white.\n",
    "\n",
    "Use the following code for this exercise.\n",
    "\n",
    "```Python\n",
    "class Vehicle:\n",
    "\n",
    "    def __init__(self, name, max_speed, mileage):\n",
    "        self.name = name\n",
    "        self.max_speed = max_speed\n",
    "        self.mileage = mileage\n",
    "\n",
    "class Bus(Vehicle):\n",
    "    pass\n",
    "\n",
    "class Car(Vehicle):\n",
    "    pass\n",
    "```\n",
    "- Desiret output:\n",
    "```Python\n",
    "#> Color: White, Vehicle name: School Volvo, Speed: 180, Mileage: 12\n",
    "#> Color: White, Vehicle name: Audi Q5, Speed: 240, Mileage: 18\n",
    "```                "
   ]
  },
  {
   "cell_type": "code",
   "execution_count": 27,
   "metadata": {},
   "outputs": [
    {
     "name": "stdout",
     "output_type": "stream",
     "text": [
      "Color :  White Vehicle name:  School Volvo Speed 180 Mileage 12\n",
      "Color :  White Vehicle name:  Audi Q5 Speed 240 Mileage 18\n"
     ]
    }
   ],
   "source": [
    "# Your code here\n",
    "class Vehicle:\n",
    "    color = \"White\"\n",
    "    def __init__(self, name, max_speed, mileage):\n",
    "        self.name = name\n",
    "        self.max_speed = max_speed\n",
    "        self.mileage = mileage\n",
    "    def show(self,color = \"White\"):\n",
    "        print(\"Color : \",color,\"Vehicle name: \",self.name, \"Speed\", self.max_speed ,\"Mileage\", self.mileage )\n",
    "\n",
    "class Bus(Vehicle):\n",
    "    pass\n",
    "\n",
    "class Car(Vehicle):\n",
    "    pass\n",
    "bus = Bus('School Volvo',180,12)\n",
    "car = Car('Audi Q5',240,18)\n",
    "bus.show()\n",
    "car.show()"
   ]
  },
  {
   "cell_type": "markdown",
   "metadata": {},
   "source": [
    "## Exercice 7  (Class Inheritance)\n",
    "- Input\n",
    "\n",
    "Create a Bus child class that inherits from the Vehicle class. The default fare charge of any vehicle is seating `capacity * 100`. If Vehicle is Bus instance, we need to add an extra 10% on full fare as a maintenance charge. So total fare for bus instance will become the `final amount = total fare + 10% of the total fare`.\n",
    "\n",
    "Note: The bus seating capacity is 50. so the final fare amount should be 5500. You need to override the fare() method of a Vehicle class in Bus class.\n",
    "\n",
    "Use the following code for your parent Vehicle class. We need to access the parent class from inside a method of a child class.\n",
    "```Python\n",
    "class Vehicle:\n",
    "    def __init__(self, name, mileage, capacity):\n",
    "        self.name = name\n",
    "        self.mileage = mileage\n",
    "        self.capacity = capacity\n",
    "\n",
    "    def fare(self):\n",
    "        return self.capacity * 100\n",
    "\n",
    "class Bus(Vehicle):\n",
    "    pass\n",
    "\n",
    "School_bus = Bus(\"School Volvo\", 12, 50)\n",
    "print(\"Total Bus fare is:\", School_bus.fare())\n",
    "```\n",
    "- Desired output:\n",
    "```Python\n",
    "#> Total Bus fare is: 5500.0\n",
    "```"
   ]
  },
  {
   "cell_type": "code",
   "execution_count": 28,
   "metadata": {},
   "outputs": [
    {
     "name": "stdout",
     "output_type": "stream",
     "text": [
      "Total Bus fare is: 5500.0\n"
     ]
    }
   ],
   "source": [
    "# Your code here\n",
    "class Vehicle:\n",
    "    def __init__(self, name, mileage, capacity):\n",
    "        self.name = name\n",
    "        self.mileage = mileage\n",
    "        self.capacity = capacity\n",
    "\n",
    "    def fare(self):\n",
    "        return self.capacity * 100\n",
    "\n",
    "class Bus(Vehicle):\n",
    "    def fare(self):\n",
    "        return self.capacity * 100 + (self.capacity * 100)*0.1\n",
    "School_bus = Bus(\"School Volvo\", 12, 50)\n",
    "print(\"Total Bus fare is:\", School_bus.fare())"
   ]
  },
  {
   "cell_type": "markdown",
   "metadata": {},
   "source": [
    "## Exercice 8  (Check type of an object)\n",
    "\n",
    "Write a program to determine which class a given Bus object belongs to.\n",
    "- Input\n",
    "```Python\n",
    "class Vehicle:\n",
    "    def __init__(self, name, mileage, capacity):\n",
    "        self.name = name\n",
    "        self.mileage = mileage\n",
    "        self.capacity = capacity\n",
    "```\n",
    "```Python\n",
    "class Bus(Vehicle):\n",
    "    pass\n",
    "School_bus = Bus(\"School Volvo\", 12, 50)\n",
    "```\n"
   ]
  },
  {
   "cell_type": "code",
   "execution_count": 29,
   "metadata": {},
   "outputs": [
    {
     "data": {
      "text/plain": [
       "__main__.Bus"
      ]
     },
     "execution_count": 29,
     "metadata": {},
     "output_type": "execute_result"
    }
   ],
   "source": [
    "# Your code here\n",
    "class Vehicle:\n",
    "    def __init__(self, name, mileage, capacity):\n",
    "        self.name = name\n",
    "        self.mileage = mileage\n",
    "        self.capacity = capacity\n",
    "\n",
    "class Bus(Vehicle):\n",
    "    pass\n",
    "School_bus = Bus(\"School Volvo\", 12, 50)\n",
    "type(School_bus)"
   ]
  },
  {
   "cell_type": "code",
   "execution_count": null,
   "metadata": {},
   "outputs": [],
   "source": []
  }
 ],
 "metadata": {
  "hide_input": false,
  "kernelspec": {
   "display_name": "Python 3",
   "language": "python",
   "name": "python3"
  },
  "language_info": {
   "codemirror_mode": {
    "name": "ipython",
    "version": 3
   },
   "file_extension": ".py",
   "mimetype": "text/x-python",
   "name": "python",
   "nbconvert_exporter": "python",
   "pygments_lexer": "ipython3",
   "version": "3.8.5"
  }
 },
 "nbformat": 4,
 "nbformat_minor": 4
}
