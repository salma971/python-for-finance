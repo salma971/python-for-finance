{
 "cells": [
  {
   "cell_type": "markdown",
   "metadata": {},
   "source": [
    "# Mid-Project"
   ]
  },
  {
   "cell_type": "markdown",
   "metadata": {},
   "source": [
    "## Execise 1: Market-Based Valuation\n",
    "\n",
    "- An at a prespecified price (strike) at a predetermined date (European option) or over a determined\n",
    "    period of time (American option). Some options are settled in actual stocks; most options, like\n",
    "    those on an index, are settled in cash. People or institutions selling options are called option\n",
    "    writers. Those buying options are called option holders.\n",
    "\n",
    "- For a European call option on an index with strike 8,000 and index level of 8,200\n",
    "    at maturity, the option holder receives the difference 8,200 − 8,000 = 200 (e.g. in EUR or\n",
    "    USD) from the option writer. If the index level is below the strike, say at 7,800, the option\n",
    "    expires worthless and the writer does not have to pay anything. We can formalize this via\n",
    "    the so-called inner value (or intrinsic value or payoff)—from the holder's viewpoint—of\n",
    "    the option:\n",
    "    \n",
    "    $ h_T(S, K) = max[S_T − K, 0]$ \n",
    "    \n",
    "    - where T is the maturity date of the option, $S_T$ the index level at this date and $K$ represents the\n",
    "        strike price.\n",
    "       \n",
    "1. Compute the Inner value of a European call option on a stock index with strike of 8,000 dependent on the index level at maturity and plot this inner value function.\n",
    "\n",
    "- Desired output:   \n",
    "![call_inner_values](../data/02_mbv/call_inner_values.png)\n",
    "\n",
    "2. What are the three scenarios that have to be distinguished with regard to the so-called moneyness of an option ? \n",
    ">    - in-the-money (ITM): An in the money call option is one that has a strike price lower than the current stock price, in our case it's when h_t > 0, in our case it's when S_t > 8000 .\n",
    ">    - at-the-money (ATM): If an option strike price is the same as the current stock price, it's when S_t = 8000 .\n",
    ">    - out-of-the-money (OTM): An out of the money call option is one that if the current stock price is lower than the strike price, it's when h_t = 0, in our case it's when S_t < 8000 .\n",
    "\n",
    "3. What influences the present value of such a call option today? ([factors](https://www.investopedia.com/trading/factors-determine-option-pricing/))\n",
    "Factors that influence a call option : \n",
    "Underlying Price & Strike Price : When the stock price goes up, calls should gain in value because you are able to buy the underlying asset at a lower price than where the market is.\n",
    "Expiration Date : Time works in the stock trader's favor because good companies tend to rise over long periods of time. But time is the enemy of the buyer of the option because, if days pass without a significant change in the price of the underlying, the value of the option will decline.\n",
    "Interest Rate : Call option and put option premiums are impacted inversely as interest rates change: calls benefit from rising rates while puts lose value. The opposite is true when interest rates fall. \n",
    "\n",
    "\n",
    "4. Compute and plot the Black-Scholes-Merton formula.\n",
    "\n",
    "- Input:\n",
    "\n",
    "These heuristic insights are formalized in the seminal work of Black-Scholes-Merton (cf. Black and Scholes (1973) and Merton (1973)) who for the first time derived a closed option pricing formula for a parsimonious set of input parameters. Their formula says mainly the following:\n",
    "\n",
    "$C_0^∗ = C^{BSM}(S_0 , K, T, r, \\sigma)$ ([BSM_option_valuation](https://www.investopedia.com/terms/b/blackscholes.asp))\n",
    "\n",
    "In words, the fair present value of a European call option $C_0^∗$ is given by their formula $C^{BSM}(\\cdot)$ which takes as input parameters:\n",
    "    \n",
    "- $S_0$ the current index level\n",
    "- $K$ the strike price of the option\n",
    "- $T$ the maturity date (equals time-to-maturity viewed from the present date)\n",
    "- $r$ the constant risk-less short rate\n",
    "- $\\sigma$ the volatility of the index, i.e. the standard deviation of the index level returns\n",
    "\n",
    "\n",
    "- Desired output:   \n",
    " ![BSM_call_value](../data/02_mbv/call_values.png)\n"
   ]
  },
  {
   "cell_type": "markdown",
   "metadata": {},
   "source": [
    "### Question 1 :"
   ]
  },
  {
   "cell_type": "code",
   "execution_count": 7,
   "metadata": {},
   "outputs": [
    {
     "data": {
      "text/plain": [
       "array([7000, 7250, 7500, 7750, 8000, 8250, 8500, 8750, 9000])"
      ]
     },
     "execution_count": 7,
     "metadata": {},
     "output_type": "execute_result"
    }
   ],
   "source": [
    "import numpy as np\n",
    "S_t = np.linspace(7000,9000,9,dtype = int)\n",
    "S_t"
   ]
  },
  {
   "cell_type": "code",
   "execution_count": 8,
   "metadata": {},
   "outputs": [
    {
     "data": {
      "text/plain": [
       "[0, 0, 0, 0, 0, 250, 500, 750, 1000]"
      ]
     },
     "execution_count": 8,
     "metadata": {},
     "output_type": "execute_result"
    }
   ],
   "source": [
    "def inner_value(S_t,K):\n",
    "    if(S_t >= K):\n",
    "        return S_t - K\n",
    "    return 0\n",
    "h_t = [inner_value(x,K = 8000) for x in S_t ]\n",
    "h_t"
   ]
  },
  {
   "cell_type": "code",
   "execution_count": 10,
   "metadata": {},
   "outputs": [
    {
     "data": {
      "image/png": "[encoded data removed]",
      "text/plain": [
       "<Figure size 432x288 with 1 Axes>"
      ]
     },
     "metadata": {
      "needs_background": "light"
     },
     "output_type": "display_data"
    }
   ],
   "source": [
    "import matplotlib.pyplot as plt\n",
    "x = S_t\n",
    "y = h_t\n",
    "plt.plot(x,y)\n",
    "plt.xlabel('Index Level St at maturity',size=12)\n",
    "plt.ylabel('Inner Value of european call option',size=12)\n",
    "plt.grid(True,linewidth=0.80,color='#aaaaaa',linestyle='dashdot')"
   ]
  },
  {
   "cell_type": "markdown",
   "metadata": {},
   "source": [
    "### Question 2 :"
   ]
  },
  {
   "cell_type": "markdown",
   "metadata": {},
   "source": [
    "in-the-money (ITM): An in the money call option is one that has a strike price lower than the current stock price, in our case it's when h_t > 0, in our case it's when S_t > 8000 .\n",
    "\n",
    "at-the-money (ATM): If an option strike price is the same as the current stock price, it's when S_t = 8000 .\n",
    "\n",
    "out-of-the-money (OTM): An out of the money call option is one that if the current stock price is lower than the strike price, it's when h_t = 0, in our case it's when S_t < 8000 .\n",
    "\n"
   ]
  },
  {
   "cell_type": "markdown",
   "metadata": {},
   "source": [
    "### Question 3 :"
   ]
  },
  {
   "cell_type": "markdown",
   "metadata": {},
   "source": [
    "Factors that influence a call option : \n",
    "Underlying Price & Strike Price : When the stock price goes up, calls should gain in value because you are able to buy the underlying asset at a lower price than where the market is.\n",
    "Expiration Date : Time works in the stock trader's favor because good companies tend to rise over long periods of time. But time is the enemy of the buyer of the option because, if days pass without a significant change in the price of the underlying, the value of the option will decline.\n",
    "Interest Rate : Call option and put option premiums are impacted inversely as interest rates change: calls benefit from rising rates while puts lose value. The opposite is true when interest rates fall. \n"
   ]
  },
  {
   "cell_type": "markdown",
   "metadata": {},
   "source": [
    "### Question 4 :"
   ]
  },
  {
   "cell_type": "code",
   "execution_count": 11,
   "metadata": {},
   "outputs": [],
   "source": [
    "import numpy as np\n",
    "import scipy.stats as si\n",
    "import sympy as sy\n",
    "from sympy.stats import Normal, cdf\n",
    "\n",
    "def euro_vanilla_call(S, K, T, r, sigma):\n",
    "    d1 = (np.log(S / K) + (r + 0.5 * sigma ** 2) * T) / (sigma * np.sqrt(T))\n",
    "    d2 = (np.log(S / K) + (r - 0.5 * sigma ** 2) * T) / (sigma * np.sqrt(T))\n",
    "    \n",
    "    call = (S * si.norm.cdf(d1, 0.0, 1.0) - K * np.exp(-r * T) * si.norm.cdf(d2, 0.0, 1.0))\n",
    "    \n",
    "    return call"
   ]
  },
  {
   "cell_type": "code",
   "execution_count": 17,
   "metadata": {},
   "outputs": [
    {
     "data": {
      "text/plain": [
       "array([ 4000,  5000,  6000,  7000,  8000,  9000, 10000, 11000, 12000])"
      ]
     },
     "execution_count": 17,
     "metadata": {},
     "output_type": "execute_result"
    }
   ],
   "source": [
    "S0 = np.linspace(4000,12000,9,dtype = int)\n",
    "S0"
   ]
  },
  {
   "cell_type": "code",
   "execution_count": 18,
   "metadata": {},
   "outputs": [
    {
     "data": {
      "text/plain": [
       "[0.12118799686919024,\n",
       " 5.661005299381884,\n",
       " 60.33671923757595,\n",
       " 272.6612168928341,\n",
       " 733.0328880869183,\n",
       " 1430.726639649496,\n",
       " 2288.325862765443,\n",
       " 3229.883133807466,\n",
       " 4208.298555359951]"
      ]
     },
     "execution_count": 18,
     "metadata": {},
     "output_type": "execute_result"
    }
   ],
   "source": [
    "h_t = [euro_vanilla_call(x,K = 8000,T = 1.0 ,r = 0.025 ,sigma = 0.2) for x in S0 ]\n",
    "h_t"
   ]
  },
  {
   "cell_type": "code",
   "execution_count": 20,
   "metadata": {},
   "outputs": [
    {
     "data": {
      "text/plain": [
       "<matplotlib.legend.Legend at 0x7fa63c702af0>"
      ]
     },
     "execution_count": 20,
     "metadata": {},
     "output_type": "execute_result"
    },
    {
     "data": {
      "image/png": "[encoded data removed]",
      "text/plain": [
       "<Figure size 432x288 with 1 Axes>"
      ]
     },
     "metadata": {
      "needs_background": "light"
     },
     "output_type": "display_data"
    }
   ],
   "source": [
    "import matplotlib.pyplot as plt\n",
    "\n",
    "x = S0\n",
    "y1 = [inner_value(x,K = 8000) for x in S0 ]\n",
    "y2 = [euro_vanilla_call(x,K = 8000,T = 1.0 ,r = 0.025 ,sigma = 0.2) for x in S0 ]\n",
    "plt.plot(x,y1,color='blue', linestyle='dashdot',label = 'inner value')\n",
    "plt.plot(x,y2,color='red',label = 'present value')\n",
    "plt.xlabel('Index Level S0',size=12)\n",
    "plt.ylabel('present value C(t=0)',size=12)\n",
    "plt.grid(True,linewidth=0.80,color='#aaaaaa',linestyle='dashdot')\n",
    "plt.legend(loc = \"upper left\")"
   ]
  },
  {
   "cell_type": "markdown",
   "metadata": {},
   "source": [
    "## Exercise 2: MonteCarlo Simulation\n",
    "\n",
    "- Implement all models included on the pdf file [MonteCarlo](../data/MonteCarlo.pdf)"
   ]
  },
  {
   "cell_type": "code",
   "execution_count": 26,
   "metadata": {},
   "outputs": [
    {
     "name": "stdout",
     "output_type": "stream",
     "text": [
      "\u001b[33mWARNING: Keyring is skipped due to an exception: Failed to unlock the collection!\u001b[0m\n",
      "\u001b[31mERROR: Could not find a version that satisfies the requirement CIR_zcb_valuation (from versions: none)\u001b[0m\n",
      "\u001b[31mERROR: No matching distribution found for CIR_zcb_valuation\u001b[0m\n",
      "Note: you may need to restart the kernel to use updated packages.\n"
     ]
    }
   ],
   "source": [
    "pip install CIR_zcb_valuation"
   ]
  },
  {
   "cell_type": "code",
   "execution_count": 21,
   "metadata": {},
   "outputs": [],
   "source": [
    "#\n",
    "# Valuation of Zero-Coupon Bonds\n",
    "# in Cox-Ingersoll-Ross (1985) Model\n",
    "# 09_gmm/CIR_zcb_valuation.py\n",
    "#\n",
    "# (c) Dr. Yves J. Hilpisch\n",
    "# Derivatives Analytics with Python\n",
    "#\n",
    "import math\n",
    "import numpy as np\n",
    "#\n",
    "# Example Parameters CIR85 Model\n",
    "#\n",
    "kappa_r, theta_r, sigma_r, r0, T = 0.3, 0.04, 0.1, 0.04, 1.0\n",
    "#\n",
    "# Zero-Coupon Bond Valuation Formula"
   ]
  },
  {
   "cell_type": "code",
   "execution_count": 24,
   "metadata": {},
   "outputs": [
    {
     "data": {
      "text/plain": [
       "' Function to value unit zero-coupon bonds in Cox-Ingersoll-Ross (1985)\\nmodel.\\nParameters\\n==========\\nr0: float\\ninitial short rate\\nkappa_r: float\\nmean-reversion factor\\ntheta_r: float\\nlong-run mean of short rate\\nsigma_r: float\\nvolatility of short rate\\nT: float\\ntime horizon/interval\\nReturns\\n=======\\nzcb_value: float\\nzero-coupon bond present value\\n'"
      ]
     },
     "execution_count": 24,
     "metadata": {},
     "output_type": "execute_result"
    }
   ],
   "source": [
    "def gamma(kappa_r, sigma_r):\n",
    "    return math.sqrt(kappa_r ** 2 + 2 * sigma_r ** 2)\n",
    "def b1(alpha):\n",
    "    kappa_r, theta_r, sigma_r, r0, T = alpha\n",
    "    g = gamma(kappa_r, sigma_r)\n",
    "    return (((2*g* math.exp((kappa_r + g) * T / 2)) /(2 * g + (kappa_r + g) * (math.exp(g * T) - 1)))** (2 * kappa_r * theta_r / sigma_r ** 2))\n",
    "def b2(alpha):\n",
    "    kappa_r, theta_r, sigma_r, r0, T = alpha\n",
    "    g = gamma(kappa_r, sigma_r)\n",
    "    return ((2 * (math.exp(g * T) - 1)) /(2 * g + (kappa_r + g) * (math.exp(g * T) - 1)))\n",
    "def B(alpha):\n",
    "    b_1 = b1(alpha)\n",
    "    b_2 = b2(alpha)\n",
    "    kappa_r, theta_r, sigma_r, r0, T = alpha\n",
    "    return b_1 * math.exp(-b_2 * r0)\n",
    "''' Function to value unit zero-coupon bonds in Cox-Ingersoll-Ross (1985)\n",
    "model.\n",
    "Parameters\n",
    "==========\n",
    "r0: float\n",
    "initial short rate\n",
    "kappa_r: float\n",
    "mean-reversion factor\n",
    "theta_r: float\n",
    "long-run mean of short rate\n",
    "sigma_r: float\n",
    "volatility of short rate\n",
    "T: float\n",
    "time horizon/interval\n",
    "Returns\n",
    "=======\n",
    "zcb_value: float\n",
    "zero-coupon bond present value\n",
    "'''"
   ]
  },
  {
   "cell_type": "code",
   "execution_count": 27,
   "metadata": {},
   "outputs": [
    {
     "ename": "ModuleNotFoundError",
     "evalue": "No module named 'CIR_zcb_valuation'",
     "output_type": "error",
     "traceback": [
      "\u001b[0;31m---------------------------------------------------------------------------\u001b[0m",
      "\u001b[0;31mModuleNotFoundError\u001b[0m                       Traceback (most recent call last)",
      "\u001b[0;32m<ipython-input-27-a227307b5c86>\u001b[0m in \u001b[0;36m<module>\u001b[0;34m\u001b[0m\n\u001b[1;32m      9\u001b[0m \u001b[0;32mimport\u001b[0m \u001b[0mnumpy\u001b[0m \u001b[0;32mas\u001b[0m \u001b[0mnp\u001b[0m\u001b[0;34m\u001b[0m\u001b[0;34m\u001b[0m\u001b[0m\n\u001b[1;32m     10\u001b[0m \u001b[0;32mfrom\u001b[0m \u001b[0mscipy\u001b[0m\u001b[0;34m.\u001b[0m\u001b[0mintegrate\u001b[0m \u001b[0;32mimport\u001b[0m \u001b[0mquad\u001b[0m\u001b[0;34m\u001b[0m\u001b[0;34m\u001b[0m\u001b[0m\n\u001b[0;32m---> 11\u001b[0;31m \u001b[0;32mfrom\u001b[0m \u001b[0mCIR_zcb_valuation\u001b[0m \u001b[0;32mimport\u001b[0m \u001b[0mB\u001b[0m\u001b[0;34m\u001b[0m\u001b[0;34m\u001b[0m\u001b[0m\n\u001b[0m\u001b[1;32m     12\u001b[0m \u001b[0;32mimport\u001b[0m \u001b[0mwarnings\u001b[0m\u001b[0;34m\u001b[0m\u001b[0;34m\u001b[0m\u001b[0m\n\u001b[1;32m     13\u001b[0m \u001b[0mwarnings\u001b[0m\u001b[0;34m.\u001b[0m\u001b[0msimplefilter\u001b[0m\u001b[0;34m(\u001b[0m\u001b[0;34m'ignore'\u001b[0m\u001b[0;34m)\u001b[0m\u001b[0;34m\u001b[0m\u001b[0;34m\u001b[0m\u001b[0m\n",
      "\u001b[0;31mModuleNotFoundError\u001b[0m: No module named 'CIR_zcb_valuation'"
     ]
    }
   ],
   "source": [
    "#\n",
    "# Valuation of European Call and Put Options\n",
    "# Under Stochastic Volatility and Jumps\n",
    "# 09_gmm/BCC_option_valuation.py\n",
    "#\n",
    "# (c) Dr. Yves J. Hilpisch\n",
    "# Derivatives Analytics with Python\n",
    "#\n",
    "import numpy as np\n",
    "from scipy.integrate import quad\n",
    "from CIR_zcb_valuation import B\n",
    "import warnings\n",
    "warnings.simplefilter('ignore')\n",
    "#\n",
    "# Example Parameters B96 Model\n",
    "#\n",
    "## H93 Parameters\n",
    "kappa_v = 1.5\n",
    "theta_v = 0.02\n",
    "sigma_v = 0.15\n",
    "rho = 0.1\n",
    "v0 = 0.01\n",
    "## M76 Parameters\n",
    "lamb = 0.25\n",
    "mu = -0.2\n",
    "delta = 0.1\n",
    "sigma = np.sqrt(v0)\n",
    "## General Parameters\n",
    "S0 = 100.0\n",
    "K = 100.0\n",
    "T = 1.0\n",
    "r = 0.05\n",
    "#\n",
    "# Valuation by Integration\n",
    "#\n",
    "def BCC_call_value(S0, K, T, r, kappa_v, theta_v, sigma_v, rho, v0,lamb, mu, delta):\n",
    "    int_value = quad(lambda u: BCC_int_func(u, S0, K, T, r, kappa_v, theta_v,sigma_v, rho, v0, lamb, mu, delta), 0, np.inf, limit=250)[0]\n",
    "    call_value = max(0, S0 - np.exp(-r * T) * np.sqrt(S0 * K)/ np.pi * int_value)\n",
    "    return call_value\n",
    "''' Valuation of European call option in B96 Model via Lewis (2001)\n",
    "Fourier-based approach.\n",
    "Parameters\n",
    "==========\n",
    "S0: float\n",
    "initial stock/index level\n",
    "K: float\n",
    "strike price\n",
    "T: float\n",
    "time-to-maturity (for t=0)\n",
    "r: float\n",
    "constant risk-free short rate\n",
    "kappa_v: float\n",
    "mean-reversion factor\n",
    "theta_v: float\n",
    "long-run mean of variance\n",
    "sigma_v: float\n",
    "volatility of variance\n",
    "rho: float\n",
    "correlation between variance and stock/index level\n",
    "v0: float\n",
    "initial level of variance\n",
    "lamb: float\n",
    "jump intensity\n",
    "mu: float\n",
    "expected jump size\n",
    "delta: float\n",
    "standard deviation of jump\n",
    "Returns\n",
    "=======\n",
    "call_value: float\n",
    "present value of European call option\n",
    "'''"
   ]
  },
  {
   "cell_type": "code",
   "execution_count": 28,
   "metadata": {},
   "outputs": [
    {
     "ename": "SyntaxError",
     "evalue": "unexpected character after line continuation character (<ipython-input-28-aa39ddd187ef>, line 15)",
     "output_type": "error",
     "traceback": [
      "\u001b[0;36m  File \u001b[0;32m\"<ipython-input-28-aa39ddd187ef>\"\u001b[0;36m, line \u001b[0;32m15\u001b[0m\n\u001b[0;31m    int_func_value = 1 / (u ** 2 + 0.25) \\* (np.exp(1j * u * np.log(S0 / K)) * char_func_value).real\u001b[0m\n\u001b[0m                                                                                                    ^\u001b[0m\n\u001b[0;31mSyntaxError\u001b[0m\u001b[0;31m:\u001b[0m unexpected character after line continuation character\n"
     ]
    }
   ],
   "source": [
    "def H93_call_value(S0, K, T, r, kappa_v, theta_v, sigma_v, rho, v0):\n",
    "    int_value = quad(lambda u: H93_int_func(u, S0, K, T, r, kappa_v,theta_v, sigma_v, rho, v0), 0, np.inf, limit=250)[0]\n",
    "    call_value = max(0, S0 - np.exp(-r * T) * np.sqrt(S0 * K)/ np.pi * int_value)\n",
    "    return call_value\n",
    "def M76_call_value(S0, K, T, r, v0, lamb, mu, delta):\n",
    "    sigma = np.sqrt(v0)\n",
    "    int_value = quad(lambda u: M76_int_func_sa(u, S0, K, T, r,sigma, lamb, mu, delta), 0, np.inf, limit=250)[0]\n",
    "    call_value = max(0, S0 - np.exp(-r * T) * np.sqrt(S0 * K)/ np.pi * int_value)\n",
    "    return call_value\n",
    "#\n",
    "# Integration Functions\n",
    "#\n",
    "def BCC_int_func(u, S0, K, T, r, kappa_v, theta_v, sigma_v, rho, v0,lamb, mu, delta):\n",
    "    char_func_value = BCC_char_func(u - 1j * 0.5, T, r, kappa_v, theta_v,sigma_v, rho, v0, lamb, mu, delta)\n",
    "    int_func_value = 1 / (u ** 2 + 0.25) \\* (np.exp(1j * u * np.log(S0 / K)) * char_func_value).real\n",
    "    return int_func_value\n",
    "def H93_int_func(u, S0, K, T, r, kappa_v, theta_v, sigma_v, rho, v0):\n",
    "    char_func_value = H93_char_func(u - 1j * 0.5, T, r, kappa_v,theta_v, sigma_v, rho, v0)\n",
    "    int_func_value = 1 / (u ** 2 + 0.25) \\* (np.exp(1j * u * np.log(S0 / K)) * char_func_value).real\n",
    "    return int_func_value\n",
    "def M76_int_func_sa(u, S0, K, T, r, sigma, lamb, mu, delta):\n",
    "    char_func_value = M76_char_func_sa(u - 0.5 * 1j, T, r, sigma,lamb, mu, delta)\n",
    "    int_func_value = 1 / (u ** 2 + 0.25) \\* (np.exp(1j * u * np.log(S0 / K)) * char_func_value).real\n",
    "    return int_func_value\n",
    "#\n",
    "# Characteristic Functions\n",
    "#\n",
    "def BCC_char_func(u, T, r, kappa_v, theta_v, sigma_v, rho, v0,lamb, mu, delta):\n",
    "    BCC1 = H93_char_func(u, T, r, kappa_v, theta_v, sigma_v, rho, v0)\n",
    "    BCC2 = M76_char_func(u, T, lamb, mu, delta)\n",
    "    return BCC1 * BCC2\n",
    "def H93_char_func(u, T, r, kappa_v, theta_v, sigma_v, rho, v0):\n",
    "    c1 = kappa_v * theta_v\n",
    "    c2 = -np.sqrt((rho * sigma_v * u * 1j - kappa_v)** 2 - sigma_v ** 2 * (-u * 1j - u ** 2))\n",
    "    c3 = (kappa_v - rho * sigma_v * u * 1j + c2) \\ / (kappa_v - rho * sigma_v * u * 1j - c2)\n",
    "    H1 = (r * u * 1j * T + (c1 / sigma_v ** 2)* ((kappa_v - rho * sigma_v * u * 1j + c2) * T- 2 * np.log((1 - c3 * np.exp(c2 * T)) / (1 - c3))))\n",
    "    H2 = ((kappa_v - rho * sigma_v * u * 1j + c2) / sigma_v ** 2* ((1 - np.exp(c2 * T)) / (1 - c3 * np.exp(c2 * T))))\n",
    "    char_func_value = np.exp(H1 + H2 * v0)\n",
    "    return char_func_value\n",
    "def M76_char_func(u, T, lamb, mu, delta):\n",
    "    omega = -lamb * (np.exp(mu + 0.5 * delta ** 2) - 1)\n",
    "    char_func_value = np.exp((1j * u * omega + lamb* (np.exp(1j * u * mu - u ** 2 * delta ** 2 * 0.5) - 1)) * T)\n",
    "    return char_func_value\n",
    "def M76_char_func_sa(u, T, r, sigma, lamb, mu, delta):\n",
    "    omega = r - 0.5 * sigma ** 2 - lamb * (np.exp(mu + 0.5 * delta ** 2) - 1)\n",
    "    char_func_value = np.exp((1j * u * omega - 0.5 * u ** 2 * sigma ** 2+ lamb * (np.exp(1j * u * mu - u ** 2 * delta ** 2 * 0.5)- 1)) * T)\n",
    "    return char_func_value"
   ]
  },
  {
   "cell_type": "code",
   "execution_count": null,
   "metadata": {},
   "outputs": [],
   "source": []
  }
 ],
 "metadata": {
  "hide_input": false,
  "kernelspec": {
   "display_name": "Python 3",
   "language": "python",
   "name": "python3"
  },
  "language_info": {
   "codemirror_mode": {
    "name": "ipython",
    "version": 3
   },
   "file_extension": ".py",
   "mimetype": "text/x-python",
   "name": "python",
   "nbconvert_exporter": "python",
   "pygments_lexer": "ipython3",
   "version": "3.8.5"
  }
 },
 "nbformat": 4,
 "nbformat_minor": 4
}
