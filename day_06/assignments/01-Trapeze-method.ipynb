{
 "cells": [
  {
   "cell_type": "markdown",
   "metadata": {},
   "source": [
    "# Exercices"
   ]
  },
  {
   "cell_type": "code",
   "execution_count": 8,
   "metadata": {},
   "outputs": [],
   "source": [
    "import numpy as np\n",
    "import matplotlib.pyplot as plt\n",
    "def compute_integrale_trapeze(x, y, nbi):\n",
    "    integral =0.\n",
    "    for i in range(nbi):\n",
    "        integral = integral + (y[i+1] + y[i])*((x[i+1]-x[i])/2)\n",
    "    return integral\n",
    "\n",
    "def plot_integrale(x, y, nbi):\n",
    "    for i in range(nbi):\n",
    "        # drawing the rectangle\n",
    "        x_rect = [x[i], x[i], x[i+1], x[i+1],x[i+1],x[i]] # abscisses des sommets\n",
    "        y_rect = [0   , y[i], y[i+1], y[i]  , 0     , 0   ] # ordonnees des sommets\n",
    "        plt.plot(x_rect, y_rect,\"r\")\n",
    "    return 0"
   ]
  },
  {
   "cell_type": "code",
   "execution_count": 10,
   "metadata": {},
   "outputs": [
    {
     "name": "stdout",
     "output_type": "stream",
     "text": [
      "integrale = -0.9948685571761535\n"
     ]
    },
    {
     "data": {
      "image/png": "[encoded data removed]",
      "text/plain": [
       "<Figure size 432x288 with 1 Axes>"
      ]
     },
     "metadata": {
      "needs_background": "light"
     },
     "output_type": "display_data"
    }
   ],
   "source": [
    "xmin = 0\n",
    "xmax = 3*np.pi/2\n",
    "nbx = 20\n",
    "nbi = nbx - 1 # nombre d'intervalles\n",
    "\n",
    "\n",
    "x = np.linspace(xmin, xmax, nbx)\n",
    "y = np.cos(x)\n",
    "\n",
    "plt.plot(x,y,\"bo-\")\n",
    "\n",
    "integrale = compute_integrale_trapeze(x, y, nbi)\n",
    "\n",
    "plot_integrale(x, y, nbi)   \n",
    "\n",
    "print(\"integrale =\", integrale)\n",
    "\n",
    "plt.show()"
   ]
  },
  {
   "cell_type": "markdown",
   "metadata": {},
   "source": [
    "- Consider function cosinus\n",
    "- Write the function compute_integrale_trapeze to compute the integral as described on the lesson\n",
    "- Write the function plot_integrale to plot the integral\n",
    "- Plot both cosinus function and its integral\n",
    "- The result must be as the figure bellow \n",
    "\n",
    "![demo](../data/trapeze.png)\n"
   ]
  }
 ],
 "metadata": {
  "hide_input": false,
  "kernelspec": {
   "display_name": "Python 3",
   "language": "python",
   "name": "python3"
  },
  "language_info": {
   "codemirror_mode": {
    "name": "ipython",
    "version": 3
   },
   "file_extension": ".py",
   "mimetype": "text/x-python",
   "name": "python",
   "nbconvert_exporter": "python",
   "pygments_lexer": "ipython3",
   "version": "3.8.5"
  }
 },
 "nbformat": 4,
 "nbformat_minor": 4
}
