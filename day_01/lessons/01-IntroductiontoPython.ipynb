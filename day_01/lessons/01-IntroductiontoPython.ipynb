{
 "cells": [
  {
   "cell_type": "markdown",
   "metadata": {},
   "source": [
    "# Why Python ?"
   ]
  },
  {
   "cell_type": "markdown",
   "metadata": {},
   "source": [
    "## Motivation\n",
    "\n",
    "1. Python Is a High-Level Programming Language\n",
    "    - Lower-level programming languages require a detailed understanding of the complexities of how the computer’s memory is laid out, allocated and released.\n",
    "    - The time spent and lines of code required to handle tasks. \n",
    "    - Python abstracts away and handles many of these details automatically, leaving you to focus on what you want to accomplish.\n",
    "<img src=\"../data/InterpretedVsCompiled.png\" alt=\"Drawing\" style=\"width: 500px;\"/>\n",
    "\n",
    "<pre> </pre>\n",
    "2. Easy to Learn and Understand\n",
    "<img src=\"../data/motivation2.png\" alt=\"Drawing\" style=\"width: 400px;\"/>\n",
    "\n",
    "<pre> </pre>\n",
    "\n",
    "3. Suitable for Rapid, Iterative Development\n",
    "    - Interactive interpreter tools such as the Python shell, IPython, and Jupyter notebooks\n",
    "    - Write and execute each line of code in isolation and see the results (or a helpful error message) immediately\n",
    "<pre> </pre>\n",
    " \n",
    "4. Can Be Used Both for Prototyping and Production Code\n",
    "    - Largest software companies in the world make heavy use of Python in a variety of applications and use cases.\n",
    "<pre> </pre>\n",
    "\n",
    "5. Comes with “Batteries Included:” The Python Standard Library\n",
    "    - Everything needed for basic operations is built right into the language\n",
    "    - Python standard library has tools for working with files, media, networking, date and time information, and much more\n",
    "<pre> </pre>\n",
    "\n",
    "6. Great Third-party Libraries for Financial Analysis\n",
    "    - Pandas with its DataFrame and Series objects\n",
    "    - Numpy with its ndarray \n",
    "<pre> </pre>\n",
    "    \n",
    "7. Python Is Free!\n",
    "    - Python is developed under an open source license making it free also for commercial use.\n",
    "<pre> </pre>\n",
    "\n",
    "8. Most used\n",
    "\n",
    "<img src=\"../data/motivation.png\" alt=\"Drawing\" style=\"width: 500px;\"/>\n"
   ]
  },
  {
   "cell_type": "markdown",
   "metadata": {},
   "source": [
    "## Applications\n",
    "\n",
    "### 1. Data managment (Pandas, dash, dash_table)\n",
    "\n",
    "<img src=\"../data/appli1.png\" alt=\"Drawing\" style=\"width: 500px;\"/>"
   ]
  },
  {
   "cell_type": "markdown",
   "metadata": {},
   "source": [
    "### 2. Graph managment (Networkx)\n",
    "\n",
    "<img src=\"../data/appli2.png\" alt=\"Drawing\" style=\"width: 500px;\"/>"
   ]
  },
  {
   "cell_type": "markdown",
   "metadata": {},
   "source": [
    "### 3. Solving Partial Differential equations (numpy, numba, mpi4py, ...)\n",
    "\n",
    "<img src=\"../data/appli3.png\" alt=\"Drawing\" style=\"width: 500px;\"/>"
   ]
  },
  {
   "cell_type": "markdown",
   "metadata": {},
   "source": [
    "### 4. Financial timeseries (pandas, pylab, matplotlib, numpy, scipy, datetime, ...)\n",
    "\n",
    "<img src=\"../data/appli4.png\" alt=\"Drawing\" style=\"width: 500px;\"/>"
   ]
  },
  {
   "cell_type": "code",
   "execution_count": null,
   "metadata": {},
   "outputs": [],
   "source": []
  }
 ],
 "metadata": {
  "hide_input": false,
  "kernelspec": {
   "display_name": "Python 3",
   "language": "python",
   "name": "python3"
  },
  "language_info": {
   "codemirror_mode": {
    "name": "ipython",
    "version": 3
   },
   "file_extension": ".py",
   "mimetype": "text/x-python",
   "name": "python",
   "nbconvert_exporter": "python",
   "pygments_lexer": "ipython3",
   "version": "3.8.5"
  }
 },
 "nbformat": 4,
 "nbformat_minor": 4
}
