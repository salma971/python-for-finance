{
 "cells": [
  {
   "cell_type": "markdown",
   "metadata": {},
   "source": [
    "# Data Cleaning : Time Series Data\n",
    "\n",
    "\n",
    "- A hypothetical company, ABC Financial Services Corp makes financial investment decisions on behalf of it's clients based on the company's economic research. A lot of these decisions involve speculating whether financial instruments will increase or decrease in value in the future.\n",
    "- ABC Corp utilizes several economic indicators but there is one in particular that is heavily weighted in their analysis and that is the [University of Michigan's Consumer Sentiment Survey](https://en.wikipedia.org/wiki/University_of_Michigan_Consumer_Sentiment_Index).\n",
    "- The only problem is that they have to wait for the release of this indicator which erodes some of their competitive advantage in the market and they would like a way to predict this number.\n",
    "- I propose to use a form of Machine Learning (ML) to make Time Series preditions on the final Consumer Sentiment number to be released.\n",
    "- To do this we are going to use other economic indicators (as features) released before and data from various relevant industries to construct a dataset that is ready to run on predictive algorithims.\n",
    "- The historical datasets that ABC Corp uses will be downloaded as follows:\n",
    "    - [The Dow Jones Index](https://finance.yahoo.com/quote/%5EDJI/history/)\n",
    "    - [US Unemployemnt (Jobless Claims) data from the US Department of Labor](https://fred.stlouisfed.org/series/UNRATE)\n",
    "    - [Historical price of Crude Oil in the open market](https://fred.stlouisfed.org/series/MCOILBRENTEU)\n",
    "    - [New Housing Starts from US Census Beareau](https://fred.stlouisfed.org/series/HOUST#0)\n",
    "    - [Total Vehicles Sold](https://fred.stlouisfed.org/series/TOTALSA)\n",
    "    - [Retail Sales data from US Census Beareau](https://fred.stlouisfed.org/series/RSXFS)\n",
    "    - [Federal Interest Rates](https://fred.stlouisfed.org/series/FEDFUNDS])\n",
    "    - [The University of Michigan's Consumer Sentiment Survey](http://www.sca.isr.umich.edu/)  -- data to predict"
   ]
  },
  {
   "cell_type": "markdown",
   "metadata": {},
   "source": [
    "Data cleaning is highly dependent on the type of data and the task to be achieved. In our case we combine data from different sources and clean up the resulting dataframe. In image classification data, we may have to reshape the image sizes and create labels while a sentiment analysis dataset may need to be checked for spelling and keyword extraction.\n",
    "\n",
    "Moving forward, we will first import any libraries that we need to handle our data cleaning process."
   ]
  },
  {
   "cell_type": "code",
   "execution_count": 2,
   "metadata": {},
   "outputs": [],
   "source": [
    "# Import necessary libraries\n",
    "\n",
    "import numpy as np\n",
    "import pandas as pd\n",
    "import matplotlib.pyplot as plt\n",
    "import seaborn as sns\n",
    "%matplotlib inline\n",
    "from scipy import stats\n",
    "from datetime import datetime\n",
    "from functools import reduce\n",
    "import datetime\n",
    "sns.set_style(\"darkgrid\")"
   ]
  },
  {
   "cell_type": "markdown",
   "metadata": {},
   "source": [
    "## Exercise 1:"
   ]
  },
  {
   "cell_type": "markdown",
   "metadata": {},
   "source": [
    "1- Load all datasets (locate at `../data/` repository) to pandas DataFrames\n",
    "```python\n",
    ">>> dow     = \n",
    ">>> unemp   =\n",
    ">>> oil     = \n",
    ">>> hstarts = \n",
    ">>> cars    = \n",
    ">>> retail  = \n",
    ">>> fedrate = \n",
    ">>> umcsi   = \n",
    "```"
   ]
  },
  {
   "cell_type": "code",
   "execution_count": 7,
   "metadata": {},
   "outputs": [],
   "source": [
    "# Your code here\n",
    "dow     = pd.read_csv('../data/Dow Jones Industrial Average DJI.csv')\n",
    "unemp   = pd.read_csv('../data/Civilian Unemployment Rate UNRATE.csv')\n",
    "oil     = pd.read_csv('../data/Crude Oil Prices MCOILBRENTEU.csv')\n",
    "hstarts = pd.read_csv('../data/Housing Starts HOUST.csv')\n",
    "cars    = pd.read_csv('../data/Total Vehicle SalesTOTALSA .csv')\n",
    "retail  = pd.read_csv('../data/Advance Retail Sales_RSXFS.csv')\n",
    "fedrate = pd.read_csv('../data/Federal Interest Rates FEDFUNDS.csv')\n",
    "umcsi   = pd.read_excel('../data/consumer_sent_UMCH_tbmics.xls')"
   ]
  },
  {
   "cell_type": "markdown",
   "metadata": {},
   "source": [
    "2- Visually inspect the dataframes\n",
    "    - 5 first rows for dow, umemp an oil\n",
    "    - 5 last rows for umcsi and cars"
   ]
  },
  {
   "cell_type": "code",
   "execution_count": 18,
   "metadata": {},
   "outputs": [
    {
     "data": {
      "text/html": [
       "<div>\n",
       "<style scoped>\n",
       "    .dataframe tbody tr th:only-of-type {\n",
       "        vertical-align: middle;\n",
       "    }\n",
       "\n",
       "    .dataframe tbody tr th {\n",
       "        vertical-align: top;\n",
       "    }\n",
       "\n",
       "    .dataframe thead th {\n",
       "        text-align: right;\n",
       "    }\n",
       "</style>\n",
       "<table border=\"1\" class=\"dataframe\">\n",
       "  <thead>\n",
       "    <tr style=\"text-align: right;\">\n",
       "      <th></th>\n",
       "      <th>Date</th>\n",
       "      <th>Open</th>\n",
       "      <th>High</th>\n",
       "      <th>Low</th>\n",
       "      <th>Close</th>\n",
       "      <th>Adj Close</th>\n",
       "      <th>Volume</th>\n",
       "    </tr>\n",
       "  </thead>\n",
       "  <tbody>\n",
       "    <tr>\n",
       "      <th>0</th>\n",
       "      <td>1985-01-01</td>\n",
       "      <td>1277.719971</td>\n",
       "      <td>1305.099976</td>\n",
       "      <td>1266.890015</td>\n",
       "      <td>1286.770020</td>\n",
       "      <td>1286.770020</td>\n",
       "      <td>44450000</td>\n",
       "    </tr>\n",
       "    <tr>\n",
       "      <th>1</th>\n",
       "      <td>1985-02-01</td>\n",
       "      <td>1276.939941</td>\n",
       "      <td>1307.530029</td>\n",
       "      <td>1263.910034</td>\n",
       "      <td>1284.010010</td>\n",
       "      <td>1284.010010</td>\n",
       "      <td>207300000</td>\n",
       "    </tr>\n",
       "    <tr>\n",
       "      <th>2</th>\n",
       "      <td>1985-03-01</td>\n",
       "      <td>1285.339966</td>\n",
       "      <td>1309.959961</td>\n",
       "      <td>1242.819946</td>\n",
       "      <td>1266.780029</td>\n",
       "      <td>1266.780029</td>\n",
       "      <td>201050000</td>\n",
       "    </tr>\n",
       "    <tr>\n",
       "      <th>3</th>\n",
       "      <td>1985-04-01</td>\n",
       "      <td>1264.800049</td>\n",
       "      <td>1290.300049</td>\n",
       "      <td>1245.800049</td>\n",
       "      <td>1258.060059</td>\n",
       "      <td>1258.060059</td>\n",
       "      <td>187110000</td>\n",
       "    </tr>\n",
       "    <tr>\n",
       "      <th>4</th>\n",
       "      <td>1985-05-01</td>\n",
       "      <td>1257.180054</td>\n",
       "      <td>1320.790039</td>\n",
       "      <td>1235.530029</td>\n",
       "      <td>1315.410034</td>\n",
       "      <td>1315.410034</td>\n",
       "      <td>242250000</td>\n",
       "    </tr>\n",
       "  </tbody>\n",
       "</table>\n",
       "</div>"
      ],
      "text/plain": [
       "         Date         Open         High          Low        Close  \\\n",
       "0  1985-01-01  1277.719971  1305.099976  1266.890015  1286.770020   \n",
       "1  1985-02-01  1276.939941  1307.530029  1263.910034  1284.010010   \n",
       "2  1985-03-01  1285.339966  1309.959961  1242.819946  1266.780029   \n",
       "3  1985-04-01  1264.800049  1290.300049  1245.800049  1258.060059   \n",
       "4  1985-05-01  1257.180054  1320.790039  1235.530029  1315.410034   \n",
       "\n",
       "     Adj Close     Volume  \n",
       "0  1286.770020   44450000  \n",
       "1  1284.010010  207300000  \n",
       "2  1266.780029  201050000  \n",
       "3  1258.060059  187110000  \n",
       "4  1315.410034  242250000  "
      ]
     },
     "execution_count": 18,
     "metadata": {},
     "output_type": "execute_result"
    }
   ],
   "source": [
    "# Your code here\n",
    "dow.head(5)"
   ]
  },
  {
   "cell_type": "code",
   "execution_count": 19,
   "metadata": {},
   "outputs": [
    {
     "data": {
      "text/html": [
       "<div>\n",
       "<style scoped>\n",
       "    .dataframe tbody tr th:only-of-type {\n",
       "        vertical-align: middle;\n",
       "    }\n",
       "\n",
       "    .dataframe tbody tr th {\n",
       "        vertical-align: top;\n",
       "    }\n",
       "\n",
       "    .dataframe thead th {\n",
       "        text-align: right;\n",
       "    }\n",
       "</style>\n",
       "<table border=\"1\" class=\"dataframe\">\n",
       "  <thead>\n",
       "    <tr style=\"text-align: right;\">\n",
       "      <th></th>\n",
       "      <th>DATE</th>\n",
       "      <th>UNRATE</th>\n",
       "    </tr>\n",
       "  </thead>\n",
       "  <tbody>\n",
       "    <tr>\n",
       "      <th>0</th>\n",
       "      <td>1948-01-01</td>\n",
       "      <td>3.4</td>\n",
       "    </tr>\n",
       "    <tr>\n",
       "      <th>1</th>\n",
       "      <td>1948-02-01</td>\n",
       "      <td>3.8</td>\n",
       "    </tr>\n",
       "    <tr>\n",
       "      <th>2</th>\n",
       "      <td>1948-03-01</td>\n",
       "      <td>4.0</td>\n",
       "    </tr>\n",
       "    <tr>\n",
       "      <th>3</th>\n",
       "      <td>1948-04-01</td>\n",
       "      <td>3.9</td>\n",
       "    </tr>\n",
       "    <tr>\n",
       "      <th>4</th>\n",
       "      <td>1948-05-01</td>\n",
       "      <td>3.5</td>\n",
       "    </tr>\n",
       "  </tbody>\n",
       "</table>\n",
       "</div>"
      ],
      "text/plain": [
       "         DATE  UNRATE\n",
       "0  1948-01-01     3.4\n",
       "1  1948-02-01     3.8\n",
       "2  1948-03-01     4.0\n",
       "3  1948-04-01     3.9\n",
       "4  1948-05-01     3.5"
      ]
     },
     "execution_count": 19,
     "metadata": {},
     "output_type": "execute_result"
    }
   ],
   "source": [
    "unemp.head(5)"
   ]
  },
  {
   "cell_type": "code",
   "execution_count": 21,
   "metadata": {},
   "outputs": [
    {
     "data": {
      "text/html": [
       "<div>\n",
       "<style scoped>\n",
       "    .dataframe tbody tr th:only-of-type {\n",
       "        vertical-align: middle;\n",
       "    }\n",
       "\n",
       "    .dataframe tbody tr th {\n",
       "        vertical-align: top;\n",
       "    }\n",
       "\n",
       "    .dataframe thead th {\n",
       "        text-align: right;\n",
       "    }\n",
       "</style>\n",
       "<table border=\"1\" class=\"dataframe\">\n",
       "  <thead>\n",
       "    <tr style=\"text-align: right;\">\n",
       "      <th></th>\n",
       "      <th>DATE</th>\n",
       "      <th>MCOILBRENTEU</th>\n",
       "    </tr>\n",
       "  </thead>\n",
       "  <tbody>\n",
       "    <tr>\n",
       "      <th>0</th>\n",
       "      <td>1987-05-01</td>\n",
       "      <td>18.58</td>\n",
       "    </tr>\n",
       "    <tr>\n",
       "      <th>1</th>\n",
       "      <td>1987-06-01</td>\n",
       "      <td>18.86</td>\n",
       "    </tr>\n",
       "    <tr>\n",
       "      <th>2</th>\n",
       "      <td>1987-07-01</td>\n",
       "      <td>19.86</td>\n",
       "    </tr>\n",
       "    <tr>\n",
       "      <th>3</th>\n",
       "      <td>1987-08-01</td>\n",
       "      <td>18.98</td>\n",
       "    </tr>\n",
       "    <tr>\n",
       "      <th>4</th>\n",
       "      <td>1987-09-01</td>\n",
       "      <td>18.31</td>\n",
       "    </tr>\n",
       "  </tbody>\n",
       "</table>\n",
       "</div>"
      ],
      "text/plain": [
       "         DATE  MCOILBRENTEU\n",
       "0  1987-05-01         18.58\n",
       "1  1987-06-01         18.86\n",
       "2  1987-07-01         19.86\n",
       "3  1987-08-01         18.98\n",
       "4  1987-09-01         18.31"
      ]
     },
     "execution_count": 21,
     "metadata": {},
     "output_type": "execute_result"
    }
   ],
   "source": [
    "oil.head(5)"
   ]
  },
  {
   "cell_type": "code",
   "execution_count": 22,
   "metadata": {},
   "outputs": [
    {
     "data": {
      "text/html": [
       "<div>\n",
       "<style scoped>\n",
       "    .dataframe tbody tr th:only-of-type {\n",
       "        vertical-align: middle;\n",
       "    }\n",
       "\n",
       "    .dataframe tbody tr th {\n",
       "        vertical-align: top;\n",
       "    }\n",
       "\n",
       "    .dataframe thead th {\n",
       "        text-align: right;\n",
       "    }\n",
       "</style>\n",
       "<table border=\"1\" class=\"dataframe\">\n",
       "  <thead>\n",
       "    <tr style=\"text-align: right;\">\n",
       "      <th></th>\n",
       "      <th>Unnamed: 0</th>\n",
       "      <th>Unnamed: 1</th>\n",
       "      <th>THE INDEX OF CONSUMER SENTIMENT</th>\n",
       "    </tr>\n",
       "  </thead>\n",
       "  <tbody>\n",
       "    <tr>\n",
       "      <th>572</th>\n",
       "      <td>September</td>\n",
       "      <td>2017.0</td>\n",
       "      <td>95.1</td>\n",
       "    </tr>\n",
       "    <tr>\n",
       "      <th>573</th>\n",
       "      <td>October</td>\n",
       "      <td>2017.0</td>\n",
       "      <td>100.7</td>\n",
       "    </tr>\n",
       "    <tr>\n",
       "      <th>574</th>\n",
       "      <td>November</td>\n",
       "      <td>2017.0</td>\n",
       "      <td>98.5</td>\n",
       "    </tr>\n",
       "    <tr>\n",
       "      <th>575</th>\n",
       "      <td>December</td>\n",
       "      <td>2017.0</td>\n",
       "      <td>95.9</td>\n",
       "    </tr>\n",
       "    <tr>\n",
       "      <th>576</th>\n",
       "      <td>January</td>\n",
       "      <td>2018.0</td>\n",
       "      <td>95.7</td>\n",
       "    </tr>\n",
       "  </tbody>\n",
       "</table>\n",
       "</div>"
      ],
      "text/plain": [
       "    Unnamed: 0  Unnamed: 1 THE INDEX OF CONSUMER SENTIMENT\n",
       "572  September      2017.0                            95.1\n",
       "573    October      2017.0                           100.7\n",
       "574   November      2017.0                            98.5\n",
       "575   December      2017.0                            95.9\n",
       "576    January      2018.0                            95.7"
      ]
     },
     "execution_count": 22,
     "metadata": {},
     "output_type": "execute_result"
    }
   ],
   "source": [
    "umcsi.tail(5)"
   ]
  },
  {
   "cell_type": "code",
   "execution_count": 24,
   "metadata": {},
   "outputs": [
    {
     "data": {
      "text/html": [
       "<div>\n",
       "<style scoped>\n",
       "    .dataframe tbody tr th:only-of-type {\n",
       "        vertical-align: middle;\n",
       "    }\n",
       "\n",
       "    .dataframe tbody tr th {\n",
       "        vertical-align: top;\n",
       "    }\n",
       "\n",
       "    .dataframe thead th {\n",
       "        text-align: right;\n",
       "    }\n",
       "</style>\n",
       "<table border=\"1\" class=\"dataframe\">\n",
       "  <thead>\n",
       "    <tr style=\"text-align: right;\">\n",
       "      <th></th>\n",
       "      <th>DATE</th>\n",
       "      <th>TOTALSA</th>\n",
       "    </tr>\n",
       "  </thead>\n",
       "  <tbody>\n",
       "    <tr>\n",
       "      <th>500</th>\n",
       "      <td>2017-09-01</td>\n",
       "      <td>18.9</td>\n",
       "    </tr>\n",
       "    <tr>\n",
       "      <th>501</th>\n",
       "      <td>2017-10-01</td>\n",
       "      <td>18.4</td>\n",
       "    </tr>\n",
       "    <tr>\n",
       "      <th>502</th>\n",
       "      <td>2017-11-01</td>\n",
       "      <td>17.9</td>\n",
       "    </tr>\n",
       "    <tr>\n",
       "      <th>503</th>\n",
       "      <td>2017-12-01</td>\n",
       "      <td>18.2</td>\n",
       "    </tr>\n",
       "    <tr>\n",
       "      <th>504</th>\n",
       "      <td>2018-01-01</td>\n",
       "      <td>17.5</td>\n",
       "    </tr>\n",
       "  </tbody>\n",
       "</table>\n",
       "</div>"
      ],
      "text/plain": [
       "           DATE  TOTALSA\n",
       "500  2017-09-01     18.9\n",
       "501  2017-10-01     18.4\n",
       "502  2017-11-01     17.9\n",
       "503  2017-12-01     18.2\n",
       "504  2018-01-01     17.5"
      ]
     },
     "execution_count": 24,
     "metadata": {},
     "output_type": "execute_result"
    }
   ],
   "source": [
    "cars.tail(5)"
   ]
  },
  {
   "cell_type": "markdown",
   "metadata": {},
   "source": [
    "3- Get the shape of the different datasets"
   ]
  },
  {
   "cell_type": "code",
   "execution_count": 25,
   "metadata": {},
   "outputs": [
    {
     "data": {
      "text/plain": [
       "((399, 7),\n",
       " (841, 2),\n",
       " (369, 2),\n",
       " (709, 2),\n",
       " (505, 2),\n",
       " (313, 2),\n",
       " (763, 2),\n",
       " (577, 3))"
      ]
     },
     "execution_count": 25,
     "metadata": {},
     "output_type": "execute_result"
    }
   ],
   "source": [
    "# Your code here\n",
    "dow.shape,unemp.shape,oil.shape,hstarts.shape,cars.shape,retail.shape,fedrate.shape,umcsi.shape"
   ]
  },
  {
   "cell_type": "markdown",
   "metadata": {},
   "source": [
    "4- Get dataframe top rows view"
   ]
  },
  {
   "cell_type": "code",
   "execution_count": 26,
   "metadata": {},
   "outputs": [
    {
     "data": {
      "text/html": [
       "<div>\n",
       "<style scoped>\n",
       "    .dataframe tbody tr th:only-of-type {\n",
       "        vertical-align: middle;\n",
       "    }\n",
       "\n",
       "    .dataframe tbody tr th {\n",
       "        vertical-align: top;\n",
       "    }\n",
       "\n",
       "    .dataframe thead th {\n",
       "        text-align: right;\n",
       "    }\n",
       "</style>\n",
       "<table border=\"1\" class=\"dataframe\">\n",
       "  <thead>\n",
       "    <tr style=\"text-align: right;\">\n",
       "      <th></th>\n",
       "      <th>DATE</th>\n",
       "      <th>HOUST</th>\n",
       "    </tr>\n",
       "  </thead>\n",
       "  <tbody>\n",
       "    <tr>\n",
       "      <th>0</th>\n",
       "      <td>1959-01-01</td>\n",
       "      <td>1657.0</td>\n",
       "    </tr>\n",
       "    <tr>\n",
       "      <th>1</th>\n",
       "      <td>1959-02-01</td>\n",
       "      <td>1667.0</td>\n",
       "    </tr>\n",
       "    <tr>\n",
       "      <th>2</th>\n",
       "      <td>1959-03-01</td>\n",
       "      <td>1620.0</td>\n",
       "    </tr>\n",
       "    <tr>\n",
       "      <th>3</th>\n",
       "      <td>1959-04-01</td>\n",
       "      <td>1590.0</td>\n",
       "    </tr>\n",
       "    <tr>\n",
       "      <th>4</th>\n",
       "      <td>1959-05-01</td>\n",
       "      <td>1498.0</td>\n",
       "    </tr>\n",
       "  </tbody>\n",
       "</table>\n",
       "</div>"
      ],
      "text/plain": [
       "         DATE   HOUST\n",
       "0  1959-01-01  1657.0\n",
       "1  1959-02-01  1667.0\n",
       "2  1959-03-01  1620.0\n",
       "3  1959-04-01  1590.0\n",
       "4  1959-05-01  1498.0"
      ]
     },
     "execution_count": 26,
     "metadata": {},
     "output_type": "execute_result"
    }
   ],
   "source": [
    "# Your code here\n",
    "hstarts.head()"
   ]
  },
  {
   "cell_type": "code",
   "execution_count": 27,
   "metadata": {},
   "outputs": [
    {
     "data": {
      "text/html": [
       "<div>\n",
       "<style scoped>\n",
       "    .dataframe tbody tr th:only-of-type {\n",
       "        vertical-align: middle;\n",
       "    }\n",
       "\n",
       "    .dataframe tbody tr th {\n",
       "        vertical-align: top;\n",
       "    }\n",
       "\n",
       "    .dataframe thead th {\n",
       "        text-align: right;\n",
       "    }\n",
       "</style>\n",
       "<table border=\"1\" class=\"dataframe\">\n",
       "  <thead>\n",
       "    <tr style=\"text-align: right;\">\n",
       "      <th></th>\n",
       "      <th>DATE</th>\n",
       "      <th>RSXFS</th>\n",
       "    </tr>\n",
       "  </thead>\n",
       "  <tbody>\n",
       "    <tr>\n",
       "      <th>0</th>\n",
       "      <td>1992-01-01</td>\n",
       "      <td>146913</td>\n",
       "    </tr>\n",
       "    <tr>\n",
       "      <th>1</th>\n",
       "      <td>1992-02-01</td>\n",
       "      <td>147270</td>\n",
       "    </tr>\n",
       "    <tr>\n",
       "      <th>2</th>\n",
       "      <td>1992-03-01</td>\n",
       "      <td>146831</td>\n",
       "    </tr>\n",
       "    <tr>\n",
       "      <th>3</th>\n",
       "      <td>1992-04-01</td>\n",
       "      <td>148082</td>\n",
       "    </tr>\n",
       "    <tr>\n",
       "      <th>4</th>\n",
       "      <td>1992-05-01</td>\n",
       "      <td>149015</td>\n",
       "    </tr>\n",
       "  </tbody>\n",
       "</table>\n",
       "</div>"
      ],
      "text/plain": [
       "         DATE   RSXFS\n",
       "0  1992-01-01  146913\n",
       "1  1992-02-01  147270\n",
       "2  1992-03-01  146831\n",
       "3  1992-04-01  148082\n",
       "4  1992-05-01  149015"
      ]
     },
     "execution_count": 27,
     "metadata": {},
     "output_type": "execute_result"
    }
   ],
   "source": [
    "retail.head()"
   ]
  },
  {
   "cell_type": "code",
   "execution_count": 28,
   "metadata": {},
   "outputs": [
    {
     "data": {
      "text/html": [
       "<div>\n",
       "<style scoped>\n",
       "    .dataframe tbody tr th:only-of-type {\n",
       "        vertical-align: middle;\n",
       "    }\n",
       "\n",
       "    .dataframe tbody tr th {\n",
       "        vertical-align: top;\n",
       "    }\n",
       "\n",
       "    .dataframe thead th {\n",
       "        text-align: right;\n",
       "    }\n",
       "</style>\n",
       "<table border=\"1\" class=\"dataframe\">\n",
       "  <thead>\n",
       "    <tr style=\"text-align: right;\">\n",
       "      <th></th>\n",
       "      <th>DATE</th>\n",
       "      <th>FEDFUNDS</th>\n",
       "    </tr>\n",
       "  </thead>\n",
       "  <tbody>\n",
       "    <tr>\n",
       "      <th>0</th>\n",
       "      <td>1954-07-01</td>\n",
       "      <td>0.80</td>\n",
       "    </tr>\n",
       "    <tr>\n",
       "      <th>1</th>\n",
       "      <td>1954-08-01</td>\n",
       "      <td>1.22</td>\n",
       "    </tr>\n",
       "    <tr>\n",
       "      <th>2</th>\n",
       "      <td>1954-09-01</td>\n",
       "      <td>1.06</td>\n",
       "    </tr>\n",
       "    <tr>\n",
       "      <th>3</th>\n",
       "      <td>1954-10-01</td>\n",
       "      <td>0.85</td>\n",
       "    </tr>\n",
       "    <tr>\n",
       "      <th>4</th>\n",
       "      <td>1954-11-01</td>\n",
       "      <td>0.83</td>\n",
       "    </tr>\n",
       "  </tbody>\n",
       "</table>\n",
       "</div>"
      ],
      "text/plain": [
       "         DATE  FEDFUNDS\n",
       "0  1954-07-01      0.80\n",
       "1  1954-08-01      1.22\n",
       "2  1954-09-01      1.06\n",
       "3  1954-10-01      0.85\n",
       "4  1954-11-01      0.83"
      ]
     },
     "execution_count": 28,
     "metadata": {},
     "output_type": "execute_result"
    }
   ],
   "source": [
    "fedrate.head()"
   ]
  },
  {
   "cell_type": "markdown",
   "metadata": {},
   "source": [
    "5- Print the statistical charateristics of the datsets. \n",
    "    - Explain the output\n",
    "    > write your answer here"
   ]
  },
  {
   "cell_type": "code",
   "execution_count": 31,
   "metadata": {},
   "outputs": [
    {
     "data": {
      "text/html": [
       "<div>\n",
       "<style scoped>\n",
       "    .dataframe tbody tr th:only-of-type {\n",
       "        vertical-align: middle;\n",
       "    }\n",
       "\n",
       "    .dataframe tbody tr th {\n",
       "        vertical-align: top;\n",
       "    }\n",
       "\n",
       "    .dataframe thead th {\n",
       "        text-align: right;\n",
       "    }\n",
       "</style>\n",
       "<table border=\"1\" class=\"dataframe\">\n",
       "  <thead>\n",
       "    <tr style=\"text-align: right;\">\n",
       "      <th></th>\n",
       "      <th>Open</th>\n",
       "      <th>High</th>\n",
       "      <th>Low</th>\n",
       "      <th>Close</th>\n",
       "      <th>Adj Close</th>\n",
       "      <th>Volume</th>\n",
       "    </tr>\n",
       "  </thead>\n",
       "  <tbody>\n",
       "    <tr>\n",
       "      <th>count</th>\n",
       "      <td>399.000000</td>\n",
       "      <td>399.000000</td>\n",
       "      <td>399.000000</td>\n",
       "      <td>399.000000</td>\n",
       "      <td>399.000000</td>\n",
       "      <td>3.990000e+02</td>\n",
       "    </tr>\n",
       "    <tr>\n",
       "      <th>mean</th>\n",
       "      <td>8942.156345</td>\n",
       "      <td>9234.280992</td>\n",
       "      <td>8663.219038</td>\n",
       "      <td>9000.773103</td>\n",
       "      <td>9000.773103</td>\n",
       "      <td>2.708308e+09</td>\n",
       "    </tr>\n",
       "    <tr>\n",
       "      <th>std</th>\n",
       "      <td>5477.903361</td>\n",
       "      <td>5608.611050</td>\n",
       "      <td>5352.618142</td>\n",
       "      <td>5521.219058</td>\n",
       "      <td>5521.219058</td>\n",
       "      <td>2.235050e+09</td>\n",
       "    </tr>\n",
       "    <tr>\n",
       "      <th>min</th>\n",
       "      <td>1257.180054</td>\n",
       "      <td>1290.300049</td>\n",
       "      <td>1235.530029</td>\n",
       "      <td>1258.060059</td>\n",
       "      <td>1258.060059</td>\n",
       "      <td>4.445000e+07</td>\n",
       "    </tr>\n",
       "    <tr>\n",
       "      <th>25%</th>\n",
       "      <td>3437.250000</td>\n",
       "      <td>3523.595093</td>\n",
       "      <td>3389.560059</td>\n",
       "      <td>3475.595092</td>\n",
       "      <td>3475.595092</td>\n",
       "      <td>5.350650e+08</td>\n",
       "    </tr>\n",
       "    <tr>\n",
       "      <th>50%</th>\n",
       "      <td>9492.320313</td>\n",
       "      <td>9986.490234</td>\n",
       "      <td>9116.519531</td>\n",
       "      <td>9712.280273</td>\n",
       "      <td>9712.280273</td>\n",
       "      <td>2.173260e+09</td>\n",
       "    </tr>\n",
       "    <tr>\n",
       "      <th>75%</th>\n",
       "      <td>12112.234863</td>\n",
       "      <td>12372.229981</td>\n",
       "      <td>11643.939942</td>\n",
       "      <td>12180.399902</td>\n",
       "      <td>12180.399902</td>\n",
       "      <td>4.639150e+09</td>\n",
       "    </tr>\n",
       "    <tr>\n",
       "      <th>max</th>\n",
       "      <td>26083.039063</td>\n",
       "      <td>26616.710938</td>\n",
       "      <td>25149.259766</td>\n",
       "      <td>26149.390625</td>\n",
       "      <td>26149.390625</td>\n",
       "      <td>1.056106e+10</td>\n",
       "    </tr>\n",
       "  </tbody>\n",
       "</table>\n",
       "</div>"
      ],
      "text/plain": [
       "               Open          High           Low         Close     Adj Close  \\\n",
       "count    399.000000    399.000000    399.000000    399.000000    399.000000   \n",
       "mean    8942.156345   9234.280992   8663.219038   9000.773103   9000.773103   \n",
       "std     5477.903361   5608.611050   5352.618142   5521.219058   5521.219058   \n",
       "min     1257.180054   1290.300049   1235.530029   1258.060059   1258.060059   \n",
       "25%     3437.250000   3523.595093   3389.560059   3475.595092   3475.595092   \n",
       "50%     9492.320313   9986.490234   9116.519531   9712.280273   9712.280273   \n",
       "75%    12112.234863  12372.229981  11643.939942  12180.399902  12180.399902   \n",
       "max    26083.039063  26616.710938  25149.259766  26149.390625  26149.390625   \n",
       "\n",
       "             Volume  \n",
       "count  3.990000e+02  \n",
       "mean   2.708308e+09  \n",
       "std    2.235050e+09  \n",
       "min    4.445000e+07  \n",
       "25%    5.350650e+08  \n",
       "50%    2.173260e+09  \n",
       "75%    4.639150e+09  \n",
       "max    1.056106e+10  "
      ]
     },
     "execution_count": 31,
     "metadata": {},
     "output_type": "execute_result"
    }
   ],
   "source": [
    "# Your code here\n",
    "dow.describe()"
   ]
  },
  {
   "cell_type": "markdown",
   "metadata": {},
   "source": [
    "6- Which datasets have null values"
   ]
  },
  {
   "cell_type": "code",
   "execution_count": 37,
   "metadata": {},
   "outputs": [
    {
     "name": "stdout",
     "output_type": "stream",
     "text": [
      "Date         0\n",
      "Open         0\n",
      "High         0\n",
      "Low          0\n",
      "Close        0\n",
      "Adj Close    0\n",
      "Volume       0\n",
      "dtype: int64\n",
      "DATE      0\n",
      "UNRATE    0\n",
      "dtype: int64\n",
      "DATE            0\n",
      "MCOILBRENTEU    0\n",
      "dtype: int64\n",
      "DATE     0\n",
      "HOUST    0\n",
      "dtype: int64\n",
      "DATE       0\n",
      "TOTALSA    0\n",
      "dtype: int64\n",
      "DATE     0\n",
      "RSXFS    0\n",
      "dtype: int64\n",
      "DATE        0\n",
      "FEDFUNDS    0\n",
      "dtype: int64\n"
     ]
    }
   ],
   "source": [
    "# Your code here\n",
    "print(dow.isnull().sum())\n",
    "print(unemp.isnull().sum())\n",
    "print(oil.isnull().sum())\n",
    "print(hstarts.isnull().sum())\n",
    "print(cars.isnull().sum())\n",
    "print(retail.isnull().sum())\n",
    "print(fedrate.isnull().sum())"
   ]
  },
  {
   "cell_type": "code",
   "execution_count": 38,
   "metadata": {},
   "outputs": [
    {
     "name": "stdout",
     "output_type": "stream",
     "text": [
      "Unnamed: 0                         3\n",
      "Unnamed: 1                         4\n",
      "THE INDEX OF CONSUMER SENTIMENT    3\n",
      "dtype: int64\n"
     ]
    }
   ],
   "source": [
    "print(umcsi.isnull().sum())"
   ]
  },
  {
   "cell_type": "markdown",
   "metadata": {},
   "source": [
    "The only dataset that has null values umcsi"
   ]
  },
  {
   "cell_type": "markdown",
   "metadata": {},
   "source": [
    "7- What are your observations ?\n",
    "> write your answer here"
   ]
  },
  {
   "cell_type": "markdown",
   "metadata": {},
   "source": [
    "## Exercise 2: dow dataset"
   ]
  },
  {
   "cell_type": "markdown",
   "metadata": {},
   "source": [
    "1- Drop column volume"
   ]
  },
  {
   "cell_type": "code",
   "execution_count": 41,
   "metadata": {},
   "outputs": [
    {
     "data": {
      "text/html": [
       "<div>\n",
       "<style scoped>\n",
       "    .dataframe tbody tr th:only-of-type {\n",
       "        vertical-align: middle;\n",
       "    }\n",
       "\n",
       "    .dataframe tbody tr th {\n",
       "        vertical-align: top;\n",
       "    }\n",
       "\n",
       "    .dataframe thead th {\n",
       "        text-align: right;\n",
       "    }\n",
       "</style>\n",
       "<table border=\"1\" class=\"dataframe\">\n",
       "  <thead>\n",
       "    <tr style=\"text-align: right;\">\n",
       "      <th></th>\n",
       "      <th>Date</th>\n",
       "      <th>Open</th>\n",
       "      <th>High</th>\n",
       "      <th>Low</th>\n",
       "      <th>Close</th>\n",
       "      <th>Adj Close</th>\n",
       "    </tr>\n",
       "  </thead>\n",
       "  <tbody>\n",
       "    <tr>\n",
       "      <th>0</th>\n",
       "      <td>1985-01-01</td>\n",
       "      <td>1277.719971</td>\n",
       "      <td>1305.099976</td>\n",
       "      <td>1266.890015</td>\n",
       "      <td>1286.770020</td>\n",
       "      <td>1286.770020</td>\n",
       "    </tr>\n",
       "    <tr>\n",
       "      <th>1</th>\n",
       "      <td>1985-02-01</td>\n",
       "      <td>1276.939941</td>\n",
       "      <td>1307.530029</td>\n",
       "      <td>1263.910034</td>\n",
       "      <td>1284.010010</td>\n",
       "      <td>1284.010010</td>\n",
       "    </tr>\n",
       "    <tr>\n",
       "      <th>2</th>\n",
       "      <td>1985-03-01</td>\n",
       "      <td>1285.339966</td>\n",
       "      <td>1309.959961</td>\n",
       "      <td>1242.819946</td>\n",
       "      <td>1266.780029</td>\n",
       "      <td>1266.780029</td>\n",
       "    </tr>\n",
       "    <tr>\n",
       "      <th>3</th>\n",
       "      <td>1985-04-01</td>\n",
       "      <td>1264.800049</td>\n",
       "      <td>1290.300049</td>\n",
       "      <td>1245.800049</td>\n",
       "      <td>1258.060059</td>\n",
       "      <td>1258.060059</td>\n",
       "    </tr>\n",
       "    <tr>\n",
       "      <th>4</th>\n",
       "      <td>1985-05-01</td>\n",
       "      <td>1257.180054</td>\n",
       "      <td>1320.790039</td>\n",
       "      <td>1235.530029</td>\n",
       "      <td>1315.410034</td>\n",
       "      <td>1315.410034</td>\n",
       "    </tr>\n",
       "  </tbody>\n",
       "</table>\n",
       "</div>"
      ],
      "text/plain": [
       "         Date         Open         High          Low        Close    Adj Close\n",
       "0  1985-01-01  1277.719971  1305.099976  1266.890015  1286.770020  1286.770020\n",
       "1  1985-02-01  1276.939941  1307.530029  1263.910034  1284.010010  1284.010010\n",
       "2  1985-03-01  1285.339966  1309.959961  1242.819946  1266.780029  1266.780029\n",
       "3  1985-04-01  1264.800049  1290.300049  1245.800049  1258.060059  1258.060059\n",
       "4  1985-05-01  1257.180054  1320.790039  1235.530029  1315.410034  1315.410034"
      ]
     },
     "execution_count": 41,
     "metadata": {},
     "output_type": "execute_result"
    }
   ],
   "source": [
    "# Your code here\n",
    "dow1 = dow.drop(['Volume'], axis = 1)\n",
    "dow1.head()"
   ]
  },
  {
   "cell_type": "markdown",
   "metadata": {},
   "source": [
    "2- Rename columns to upper case to match other dfs"
   ]
  },
  {
   "cell_type": "code",
   "execution_count": 45,
   "metadata": {},
   "outputs": [
    {
     "data": {
      "text/html": [
       "<div>\n",
       "<style scoped>\n",
       "    .dataframe tbody tr th:only-of-type {\n",
       "        vertical-align: middle;\n",
       "    }\n",
       "\n",
       "    .dataframe tbody tr th {\n",
       "        vertical-align: top;\n",
       "    }\n",
       "\n",
       "    .dataframe thead th {\n",
       "        text-align: right;\n",
       "    }\n",
       "</style>\n",
       "<table border=\"1\" class=\"dataframe\">\n",
       "  <thead>\n",
       "    <tr style=\"text-align: right;\">\n",
       "      <th></th>\n",
       "      <th>DATE</th>\n",
       "      <th>OPEN</th>\n",
       "      <th>HIGH</th>\n",
       "      <th>LOW</th>\n",
       "      <th>CLOSE</th>\n",
       "      <th>ADJ CLOSE</th>\n",
       "    </tr>\n",
       "  </thead>\n",
       "  <tbody>\n",
       "    <tr>\n",
       "      <th>0</th>\n",
       "      <td>1985-01-01</td>\n",
       "      <td>1277.719971</td>\n",
       "      <td>1305.099976</td>\n",
       "      <td>1266.890015</td>\n",
       "      <td>1286.770020</td>\n",
       "      <td>1286.770020</td>\n",
       "    </tr>\n",
       "    <tr>\n",
       "      <th>1</th>\n",
       "      <td>1985-02-01</td>\n",
       "      <td>1276.939941</td>\n",
       "      <td>1307.530029</td>\n",
       "      <td>1263.910034</td>\n",
       "      <td>1284.010010</td>\n",
       "      <td>1284.010010</td>\n",
       "    </tr>\n",
       "    <tr>\n",
       "      <th>2</th>\n",
       "      <td>1985-03-01</td>\n",
       "      <td>1285.339966</td>\n",
       "      <td>1309.959961</td>\n",
       "      <td>1242.819946</td>\n",
       "      <td>1266.780029</td>\n",
       "      <td>1266.780029</td>\n",
       "    </tr>\n",
       "    <tr>\n",
       "      <th>3</th>\n",
       "      <td>1985-04-01</td>\n",
       "      <td>1264.800049</td>\n",
       "      <td>1290.300049</td>\n",
       "      <td>1245.800049</td>\n",
       "      <td>1258.060059</td>\n",
       "      <td>1258.060059</td>\n",
       "    </tr>\n",
       "    <tr>\n",
       "      <th>4</th>\n",
       "      <td>1985-05-01</td>\n",
       "      <td>1257.180054</td>\n",
       "      <td>1320.790039</td>\n",
       "      <td>1235.530029</td>\n",
       "      <td>1315.410034</td>\n",
       "      <td>1315.410034</td>\n",
       "    </tr>\n",
       "  </tbody>\n",
       "</table>\n",
       "</div>"
      ],
      "text/plain": [
       "         DATE         OPEN         HIGH          LOW        CLOSE    ADJ CLOSE\n",
       "0  1985-01-01  1277.719971  1305.099976  1266.890015  1286.770020  1286.770020\n",
       "1  1985-02-01  1276.939941  1307.530029  1263.910034  1284.010010  1284.010010\n",
       "2  1985-03-01  1285.339966  1309.959961  1242.819946  1266.780029  1266.780029\n",
       "3  1985-04-01  1264.800049  1290.300049  1245.800049  1258.060059  1258.060059\n",
       "4  1985-05-01  1257.180054  1320.790039  1235.530029  1315.410034  1315.410034"
      ]
     },
     "execution_count": 45,
     "metadata": {},
     "output_type": "execute_result"
    }
   ],
   "source": [
    "# Your code here\n",
    "dow1.rename(columns = {'Date':'DATE','Open':'OPEN','High':'HIGH','Low':'LOW','Close':'CLOSE','Adj Close':'ADJ CLOSE'}, inplace = True)\n",
    "dow1.head()"
   ]
  },
  {
   "cell_type": "markdown",
   "metadata": {},
   "source": [
    "3- Create 'Year' column with int values instead of float. Use function bellow:\n",
    "\n",
    "```python\n",
    ">>> def to_int(x):\n",
    ">>>     return int(x)\n",
    "```"
   ]
  },
  {
   "cell_type": "code",
   "execution_count": null,
   "metadata": {},
   "outputs": [],
   "source": [
    "# Your code here\n",
    "def to_int(x):\n",
    "    return int(x)\n",
    "year = [to_int(x) ]\n",
    "dow['Year'] = year"
   ]
  },
  {
   "cell_type": "markdown",
   "metadata": {},
   "source": [
    "## Exercise 3: umcsi dataset"
   ]
  },
  {
   "cell_type": "markdown",
   "metadata": {},
   "source": [
    "1- Drop NaN Values"
   ]
  },
  {
   "cell_type": "code",
   "execution_count": 49,
   "metadata": {},
   "outputs": [
    {
     "name": "stdout",
     "output_type": "stream",
     "text": [
      "Unnamed: 0                         0\n",
      "Unnamed: 1                         0\n",
      "THE INDEX OF CONSUMER SENTIMENT    0\n",
      "dtype: int64\n"
     ]
    }
   ],
   "source": [
    "# Your code here\n",
    "umcsi = umcsi.dropna(axis = 0)\n",
    "print(umcsi.isnull().sum())"
   ]
  },
  {
   "cell_type": "markdown",
   "metadata": {},
   "source": [
    "2- Combine year columns to one column format"
   ]
  },
  {
   "cell_type": "code",
   "execution_count": null,
   "metadata": {},
   "outputs": [],
   "source": [
    "# Your code here"
   ]
  },
  {
   "cell_type": "markdown",
   "metadata": {},
   "source": [
    "3- Turn date format to string to match other DATE's for umcsi dataset. We'll merge the data on this column so this is a vital step. Use the function bellow:\n",
    "\n",
    "```python\n",
    ">>> def to_str(x):\n",
    ">>>     return str(x)[:10]\n",
    "```"
   ]
  },
  {
   "cell_type": "code",
   "execution_count": null,
   "metadata": {},
   "outputs": [],
   "source": [
    "# Your code here\n",
    "def to_str(x):\n",
    "    return str(x)[:10]\n",
    "umcsi['Date']"
   ]
  },
  {
   "cell_type": "markdown",
   "metadata": {},
   "source": [
    "4- Drop unneeded columns for umcsi dataset"
   ]
  },
  {
   "cell_type": "code",
   "execution_count": null,
   "metadata": {},
   "outputs": [],
   "source": [
    "# Your code here"
   ]
  },
  {
   "cell_type": "markdown",
   "metadata": {},
   "source": [
    "5- Move 'DATE' column to the front"
   ]
  },
  {
   "cell_type": "code",
   "execution_count": null,
   "metadata": {},
   "outputs": [],
   "source": [
    "# Your code here"
   ]
  },
  {
   "cell_type": "markdown",
   "metadata": {},
   "source": [
    "## Exercice 3: "
   ]
  },
  {
   "cell_type": "markdown",
   "metadata": {},
   "source": [
    "1- Concatenate all dataframes into one final dataframe using `lambda` function\n",
    "    - Use the function `reduce` imported from `functools` library"
   ]
  },
  {
   "cell_type": "code",
   "execution_count": null,
   "metadata": {},
   "outputs": [],
   "source": [
    "# Your code here\n",
    "df.apply(lambda x: func(x['col1'],x['col2']),axis=1)"
   ]
  },
  {
   "cell_type": "markdown",
   "metadata": {},
   "source": [
    "2- Remove all rows with outliers in at least one row"
   ]
  },
  {
   "cell_type": "code",
   "execution_count": null,
   "metadata": {},
   "outputs": [],
   "source": [
    "# Your code here"
   ]
  },
  {
   "cell_type": "markdown",
   "metadata": {},
   "source": [
    "3- Change the DATE column from String to python's datetime.datetime format"
   ]
  },
  {
   "cell_type": "code",
   "execution_count": null,
   "metadata": {},
   "outputs": [],
   "source": [
    "# Your code here"
   ]
  },
  {
   "cell_type": "markdown",
   "metadata": {},
   "source": [
    "4- Rename columns to more user friendly names. Use the code bellow:\n",
    "\n",
    "```python\n",
    ">>> df.columns = ['DATE', 'OPEN', 'HIGH', 'LOW', 'CLOSE', 'ADJ CLOSE', 'VOLUME', 'UNEMP %','OIL PRICE','NEW HOMES','NEW CARS SOLD', 'RETAIL SALES','FED INTRST %','CSI' ]\n",
    "```"
   ]
  },
  {
   "cell_type": "code",
   "execution_count": null,
   "metadata": {},
   "outputs": [],
   "source": [
    "# Your code here"
   ]
  },
  {
   "cell_type": "markdown",
   "metadata": {},
   "source": [
    "5- Visualize a few basic end data characteristics.\n",
    "<img src=\"../data/DowJonesIndustrials.png\" alt=\"Drawing\" style=\"width: 500px;\"/>\n",
    "<img src=\"../data/FederalInterestRate.png\" alt=\"Drawing\" style=\"width: 500px;\"/>\n",
    "<img src=\"../data/BrentCrudeOilperbarrel.png\" alt=\"Drawing\" style=\"width: 500px;\"/>\n",
    "<img src=\"../data/NewHomeStarts.png\" alt=\"Drawing\" style=\"width: 500px;\"/>"
   ]
  },
  {
   "cell_type": "markdown",
   "metadata": {},
   "source": [
    "6- Plot the correclation matrix. What's you observations ?"
   ]
  },
  {
   "cell_type": "code",
   "execution_count": null,
   "metadata": {},
   "outputs": [],
   "source": [
    "# Your code here"
   ]
  },
  {
   "cell_type": "markdown",
   "metadata": {},
   "source": [
    "7- Drop the less useful columns"
   ]
  },
  {
   "cell_type": "code",
   "execution_count": 3,
   "metadata": {},
   "outputs": [],
   "source": [
    "# Your code here"
   ]
  },
  {
   "cell_type": "markdown",
   "metadata": {},
   "source": [
    "8- Create a new column / feature from subtracting the LOW and HIGH column called SPREAD which is the difference between the two."
   ]
  },
  {
   "cell_type": "code",
   "execution_count": 3,
   "metadata": {},
   "outputs": [],
   "source": [
    "# Your code here"
   ]
  },
  {
   "cell_type": "markdown",
   "metadata": {},
   "source": [
    "9- Move the SPREAD column next to CLOSE as they are related"
   ]
  },
  {
   "cell_type": "code",
   "execution_count": 3,
   "metadata": {},
   "outputs": [],
   "source": [
    "# Your code here"
   ]
  },
  {
   "cell_type": "markdown",
   "metadata": {},
   "source": [
    "10- Reset the index "
   ]
  },
  {
   "cell_type": "code",
   "execution_count": 3,
   "metadata": {},
   "outputs": [],
   "source": [
    "# Your code here"
   ]
  },
  {
   "cell_type": "markdown",
   "metadata": {},
   "source": [
    "11- View final dataframe correlation matrix\n"
   ]
  },
  {
   "cell_type": "code",
   "execution_count": 3,
   "metadata": {},
   "outputs": [],
   "source": [
    "# Your code here"
   ]
  },
  {
   "cell_type": "markdown",
   "metadata": {},
   "source": [
    "12- Compare your final result with data on file `../data/cleaned_timeseries.csv`"
   ]
  },
  {
   "cell_type": "code",
   "execution_count": 3,
   "metadata": {},
   "outputs": [],
   "source": [
    "# Your code here"
   ]
  },
  {
   "cell_type": "markdown",
   "metadata": {},
   "source": [
    "13- What's your conclusion ?\n",
    "> Write you answer here"
   ]
  }
 ],
 "metadata": {
  "hide_input": false,
  "kernelspec": {
   "display_name": "Python 3",
   "language": "python",
   "name": "python3"
  },
  "language_info": {
   "codemirror_mode": {
    "name": "ipython",
    "version": 3
   },
   "file_extension": ".py",
   "mimetype": "text/x-python",
   "name": "python",
   "nbconvert_exporter": "python",
   "pygments_lexer": "ipython3",
   "version": "3.8.5"
  }
 },
 "nbformat": 4,
 "nbformat_minor": 2
}
